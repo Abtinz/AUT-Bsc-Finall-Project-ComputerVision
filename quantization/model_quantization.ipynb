{
  "cells": [
    {
      "cell_type": "code",
      "execution_count": 1,
      "metadata": {
        "colab": {
          "base_uri": "https://localhost:8080/"
        },
        "id": "HV5fqoJy8e98",
        "outputId": "19230612-198b-4e18-ef91-94c1fb3ea81c"
      },
      "outputs": [
        {
          "name": "stdout",
          "output_type": "stream",
          "text": [
            "Mounted at /content/gdrive\n"
          ]
        }
      ],
      "source": [
        "from google.colab import drive\n",
        "drive.mount('/content/gdrive')"
      ]
    },
    {
      "cell_type": "code",
      "execution_count": null,
      "metadata": {
        "colab": {
          "base_uri": "https://localhost:8080/"
        },
        "id": "2nXBOZZF8u3Q",
        "outputId": "c87ad0b2-1017-49f0-b7bf-966e0ae3d723"
      },
      "outputs": [
        {
          "name": "stdout",
          "output_type": "stream",
          "text": [
            " Article\t\t      best_yolov8_preprocessed.onnx   runs\n",
            " best.onnx\t\t      best_yolov8.pt\t\t      second_run\n",
            " best.pt\t\t      best_yolov8_saved_model\t      third_model_dataset\n",
            " best_saved_model\t     'Colab Notebooks'\t\t      third_model_run\n",
            " best_v12_model.onnx\t      fifth_model\t\t      yolov8_final_project\n",
            " best_v12_model.pt\t      fourth_model\t\t      yolo_v8_pro_20\n",
            " best_v12_model_saved_model   int8_dynamic_quantized.onnx\n",
            " best_yolov8.onnx\t      preprocessed.onnx\n"
          ]
        }
      ],
      "source": [
        "!ls /content/gdrive/MyDrive/"
      ]
    },
    {
      "cell_type": "code",
      "execution_count": null,
      "metadata": {
        "colab": {
          "base_uri": "https://localhost:8080/"
        },
        "id": "DLaVxt8T9WIC",
        "outputId": "7447637e-0b20-40c6-a1b0-1b1e195ebbeb"
      },
      "outputs": [
        {
          "name": "stdout",
          "output_type": "stream",
          "text": [
            "Collecting ultralytics\n",
            "  Downloading ultralytics-8.3.98-py3-none-any.whl.metadata (37 kB)\n",
            "Requirement already satisfied: numpy<=2.1.1,>=1.23.0 in /usr/local/lib/python3.11/dist-packages (from ultralytics) (2.0.2)\n",
            "Requirement already satisfied: matplotlib>=3.3.0 in /usr/local/lib/python3.11/dist-packages (from ultralytics) (3.10.0)\n",
            "Requirement already satisfied: opencv-python>=4.6.0 in /usr/local/lib/python3.11/dist-packages (from ultralytics) (4.11.0.86)\n",
            "Requirement already satisfied: pillow>=7.1.2 in /usr/local/lib/python3.11/dist-packages (from ultralytics) (11.1.0)\n",
            "Requirement already satisfied: pyyaml>=5.3.1 in /usr/local/lib/python3.11/dist-packages (from ultralytics) (6.0.2)\n",
            "Requirement already satisfied: requests>=2.23.0 in /usr/local/lib/python3.11/dist-packages (from ultralytics) (2.32.3)\n",
            "Requirement already satisfied: scipy>=1.4.1 in /usr/local/lib/python3.11/dist-packages (from ultralytics) (1.14.1)\n",
            "Requirement already satisfied: torch>=1.8.0 in /usr/local/lib/python3.11/dist-packages (from ultralytics) (2.6.0+cu124)\n",
            "Requirement already satisfied: torchvision>=0.9.0 in /usr/local/lib/python3.11/dist-packages (from ultralytics) (0.21.0+cu124)\n",
            "Requirement already satisfied: tqdm>=4.64.0 in /usr/local/lib/python3.11/dist-packages (from ultralytics) (4.67.1)\n",
            "Requirement already satisfied: psutil in /usr/local/lib/python3.11/dist-packages (from ultralytics) (5.9.5)\n",
            "Requirement already satisfied: py-cpuinfo in /usr/local/lib/python3.11/dist-packages (from ultralytics) (9.0.0)\n",
            "Requirement already satisfied: pandas>=1.1.4 in /usr/local/lib/python3.11/dist-packages (from ultralytics) (2.2.2)\n",
            "Requirement already satisfied: seaborn>=0.11.0 in /usr/local/lib/python3.11/dist-packages (from ultralytics) (0.13.2)\n",
            "Collecting ultralytics-thop>=2.0.0 (from ultralytics)\n",
            "  Downloading ultralytics_thop-2.0.14-py3-none-any.whl.metadata (9.4 kB)\n",
            "Requirement already satisfied: contourpy>=1.0.1 in /usr/local/lib/python3.11/dist-packages (from matplotlib>=3.3.0->ultralytics) (1.3.1)\n",
            "Requirement already satisfied: cycler>=0.10 in /usr/local/lib/python3.11/dist-packages (from matplotlib>=3.3.0->ultralytics) (0.12.1)\n",
            "Requirement already satisfied: fonttools>=4.22.0 in /usr/local/lib/python3.11/dist-packages (from matplotlib>=3.3.0->ultralytics) (4.56.0)\n",
            "Requirement already satisfied: kiwisolver>=1.3.1 in /usr/local/lib/python3.11/dist-packages (from matplotlib>=3.3.0->ultralytics) (1.4.8)\n",
            "Requirement already satisfied: packaging>=20.0 in /usr/local/lib/python3.11/dist-packages (from matplotlib>=3.3.0->ultralytics) (24.2)\n",
            "Requirement already satisfied: pyparsing>=2.3.1 in /usr/local/lib/python3.11/dist-packages (from matplotlib>=3.3.0->ultralytics) (3.2.1)\n",
            "Requirement already satisfied: python-dateutil>=2.7 in /usr/local/lib/python3.11/dist-packages (from matplotlib>=3.3.0->ultralytics) (2.8.2)\n",
            "Requirement already satisfied: pytz>=2020.1 in /usr/local/lib/python3.11/dist-packages (from pandas>=1.1.4->ultralytics) (2025.1)\n",
            "Requirement already satisfied: tzdata>=2022.7 in /usr/local/lib/python3.11/dist-packages (from pandas>=1.1.4->ultralytics) (2025.1)\n",
            "Requirement already satisfied: charset-normalizer<4,>=2 in /usr/local/lib/python3.11/dist-packages (from requests>=2.23.0->ultralytics) (3.4.1)\n",
            "Requirement already satisfied: idna<4,>=2.5 in /usr/local/lib/python3.11/dist-packages (from requests>=2.23.0->ultralytics) (3.10)\n",
            "Requirement already satisfied: urllib3<3,>=1.21.1 in /usr/local/lib/python3.11/dist-packages (from requests>=2.23.0->ultralytics) (2.3.0)\n",
            "Requirement already satisfied: certifi>=2017.4.17 in /usr/local/lib/python3.11/dist-packages (from requests>=2.23.0->ultralytics) (2025.1.31)\n",
            "Requirement already satisfied: filelock in /usr/local/lib/python3.11/dist-packages (from torch>=1.8.0->ultralytics) (3.18.0)\n",
            "Requirement already satisfied: typing-extensions>=4.10.0 in /usr/local/lib/python3.11/dist-packages (from torch>=1.8.0->ultralytics) (4.12.2)\n",
            "Requirement already satisfied: networkx in /usr/local/lib/python3.11/dist-packages (from torch>=1.8.0->ultralytics) (3.4.2)\n",
            "Requirement already satisfied: jinja2 in /usr/local/lib/python3.11/dist-packages (from torch>=1.8.0->ultralytics) (3.1.6)\n",
            "Requirement already satisfied: fsspec in /usr/local/lib/python3.11/dist-packages (from torch>=1.8.0->ultralytics) (2025.3.0)\n",
            "Collecting nvidia-cuda-nvrtc-cu12==12.4.127 (from torch>=1.8.0->ultralytics)\n",
            "  Downloading nvidia_cuda_nvrtc_cu12-12.4.127-py3-none-manylinux2014_x86_64.whl.metadata (1.5 kB)\n",
            "Collecting nvidia-cuda-runtime-cu12==12.4.127 (from torch>=1.8.0->ultralytics)\n",
            "  Downloading nvidia_cuda_runtime_cu12-12.4.127-py3-none-manylinux2014_x86_64.whl.metadata (1.5 kB)\n",
            "Collecting nvidia-cuda-cupti-cu12==12.4.127 (from torch>=1.8.0->ultralytics)\n",
            "  Downloading nvidia_cuda_cupti_cu12-12.4.127-py3-none-manylinux2014_x86_64.whl.metadata (1.6 kB)\n",
            "Collecting nvidia-cudnn-cu12==9.1.0.70 (from torch>=1.8.0->ultralytics)\n",
            "  Downloading nvidia_cudnn_cu12-9.1.0.70-py3-none-manylinux2014_x86_64.whl.metadata (1.6 kB)\n",
            "Collecting nvidia-cublas-cu12==12.4.5.8 (from torch>=1.8.0->ultralytics)\n",
            "  Downloading nvidia_cublas_cu12-12.4.5.8-py3-none-manylinux2014_x86_64.whl.metadata (1.5 kB)\n",
            "Collecting nvidia-cufft-cu12==11.2.1.3 (from torch>=1.8.0->ultralytics)\n",
            "  Downloading nvidia_cufft_cu12-11.2.1.3-py3-none-manylinux2014_x86_64.whl.metadata (1.5 kB)\n",
            "Collecting nvidia-curand-cu12==10.3.5.147 (from torch>=1.8.0->ultralytics)\n",
            "  Downloading nvidia_curand_cu12-10.3.5.147-py3-none-manylinux2014_x86_64.whl.metadata (1.5 kB)\n",
            "Collecting nvidia-cusolver-cu12==11.6.1.9 (from torch>=1.8.0->ultralytics)\n",
            "  Downloading nvidia_cusolver_cu12-11.6.1.9-py3-none-manylinux2014_x86_64.whl.metadata (1.6 kB)\n",
            "Collecting nvidia-cusparse-cu12==12.3.1.170 (from torch>=1.8.0->ultralytics)\n",
            "  Downloading nvidia_cusparse_cu12-12.3.1.170-py3-none-manylinux2014_x86_64.whl.metadata (1.6 kB)\n",
            "Requirement already satisfied: nvidia-cusparselt-cu12==0.6.2 in /usr/local/lib/python3.11/dist-packages (from torch>=1.8.0->ultralytics) (0.6.2)\n",
            "Requirement already satisfied: nvidia-nccl-cu12==2.21.5 in /usr/local/lib/python3.11/dist-packages (from torch>=1.8.0->ultralytics) (2.21.5)\n",
            "Requirement already satisfied: nvidia-nvtx-cu12==12.4.127 in /usr/local/lib/python3.11/dist-packages (from torch>=1.8.0->ultralytics) (12.4.127)\n",
            "Collecting nvidia-nvjitlink-cu12==12.4.127 (from torch>=1.8.0->ultralytics)\n",
            "  Downloading nvidia_nvjitlink_cu12-12.4.127-py3-none-manylinux2014_x86_64.whl.metadata (1.5 kB)\n",
            "Requirement already satisfied: triton==3.2.0 in /usr/local/lib/python3.11/dist-packages (from torch>=1.8.0->ultralytics) (3.2.0)\n",
            "Requirement already satisfied: sympy==1.13.1 in /usr/local/lib/python3.11/dist-packages (from torch>=1.8.0->ultralytics) (1.13.1)\n",
            "Requirement already satisfied: mpmath<1.4,>=1.1.0 in /usr/local/lib/python3.11/dist-packages (from sympy==1.13.1->torch>=1.8.0->ultralytics) (1.3.0)\n",
            "Requirement already satisfied: six>=1.5 in /usr/local/lib/python3.11/dist-packages (from python-dateutil>=2.7->matplotlib>=3.3.0->ultralytics) (1.17.0)\n",
            "Requirement already satisfied: MarkupSafe>=2.0 in /usr/local/lib/python3.11/dist-packages (from jinja2->torch>=1.8.0->ultralytics) (3.0.2)\n",
            "Downloading ultralytics-8.3.98-py3-none-any.whl (949 kB)\n",
            "\u001b[2K   \u001b[90m━━━━━━━━━━━━━━━━━━━━━━━━━━━━━━━━━━━━━━━━\u001b[0m \u001b[32m950.0/950.0 kB\u001b[0m \u001b[31m24.2 MB/s\u001b[0m eta \u001b[36m0:00:00\u001b[0m\n",
            "\u001b[?25hDownloading nvidia_cublas_cu12-12.4.5.8-py3-none-manylinux2014_x86_64.whl (363.4 MB)\n",
            "\u001b[2K   \u001b[90m━━━━━━━━━━━━━━━━━━━━━━━━━━━━━━━━━━━━━━━━\u001b[0m \u001b[32m363.4/363.4 MB\u001b[0m \u001b[31m2.5 MB/s\u001b[0m eta \u001b[36m0:00:00\u001b[0m\n",
            "\u001b[?25hDownloading nvidia_cuda_cupti_cu12-12.4.127-py3-none-manylinux2014_x86_64.whl (13.8 MB)\n",
            "\u001b[2K   \u001b[90m━━━━━━━━━━━━━━━━━━━━━━━━━━━━━━━━━━━━━━━━\u001b[0m \u001b[32m13.8/13.8 MB\u001b[0m \u001b[31m69.4 MB/s\u001b[0m eta \u001b[36m0:00:00\u001b[0m\n",
            "\u001b[?25hDownloading nvidia_cuda_nvrtc_cu12-12.4.127-py3-none-manylinux2014_x86_64.whl (24.6 MB)\n",
            "\u001b[2K   \u001b[90m━━━━━━━━━━━━━━━━━━━━━━━━━━━━━━━━━━━━━━━━\u001b[0m \u001b[32m24.6/24.6 MB\u001b[0m \u001b[31m57.9 MB/s\u001b[0m eta \u001b[36m0:00:00\u001b[0m\n",
            "\u001b[?25hDownloading nvidia_cuda_runtime_cu12-12.4.127-py3-none-manylinux2014_x86_64.whl (883 kB)\n",
            "\u001b[2K   \u001b[90m━━━━━━━━━━━━━━━━━━━━━━━━━━━━━━━━━━━━━━━━\u001b[0m \u001b[32m883.7/883.7 kB\u001b[0m \u001b[31m46.3 MB/s\u001b[0m eta \u001b[36m0:00:00\u001b[0m\n",
            "\u001b[?25hDownloading nvidia_cudnn_cu12-9.1.0.70-py3-none-manylinux2014_x86_64.whl (664.8 MB)\n",
            "\u001b[2K   \u001b[90m━━━━━━━━━━━━━━━━━━━━━━━━━━━━━━━━━━━━━━━━\u001b[0m \u001b[32m664.8/664.8 MB\u001b[0m \u001b[31m2.7 MB/s\u001b[0m eta \u001b[36m0:00:00\u001b[0m\n",
            "\u001b[?25hDownloading nvidia_cufft_cu12-11.2.1.3-py3-none-manylinux2014_x86_64.whl (211.5 MB)\n",
            "\u001b[2K   \u001b[90m━━━━━━━━━━━━━━━━━━━━━━━━━━━━━━━━━━━━━━━━\u001b[0m \u001b[32m211.5/211.5 MB\u001b[0m \u001b[31m6.1 MB/s\u001b[0m eta \u001b[36m0:00:00\u001b[0m\n",
            "\u001b[?25hDownloading nvidia_curand_cu12-10.3.5.147-py3-none-manylinux2014_x86_64.whl (56.3 MB)\n",
            "\u001b[2K   \u001b[90m━━━━━━━━━━━━━━━━━━━━━━━━━━━━━━━━━━━━━━━━\u001b[0m \u001b[32m56.3/56.3 MB\u001b[0m \u001b[31m12.2 MB/s\u001b[0m eta \u001b[36m0:00:00\u001b[0m\n",
            "\u001b[?25hDownloading nvidia_cusolver_cu12-11.6.1.9-py3-none-manylinux2014_x86_64.whl (127.9 MB)\n",
            "\u001b[2K   \u001b[90m━━━━━━━━━━━━━━━━━━━━━━━━━━━━━━━━━━━━━━━━\u001b[0m \u001b[32m127.9/127.9 MB\u001b[0m \u001b[31m8.3 MB/s\u001b[0m eta \u001b[36m0:00:00\u001b[0m\n",
            "\u001b[?25hDownloading nvidia_cusparse_cu12-12.3.1.170-py3-none-manylinux2014_x86_64.whl (207.5 MB)\n",
            "\u001b[2K   \u001b[90m━━━━━━━━━━━━━━━━━━━━━━━━━━━━━━━━━━━━━━━━\u001b[0m \u001b[32m207.5/207.5 MB\u001b[0m \u001b[31m6.1 MB/s\u001b[0m eta \u001b[36m0:00:00\u001b[0m\n",
            "\u001b[?25hDownloading nvidia_nvjitlink_cu12-12.4.127-py3-none-manylinux2014_x86_64.whl (21.1 MB)\n",
            "\u001b[2K   \u001b[90m━━━━━━━━━━━━━━━━━━━━━━━━━━━━━━━━━━━━━━━━\u001b[0m \u001b[32m21.1/21.1 MB\u001b[0m \u001b[31m92.0 MB/s\u001b[0m eta \u001b[36m0:00:00\u001b[0m\n",
            "\u001b[?25hDownloading ultralytics_thop-2.0.14-py3-none-any.whl (26 kB)\n",
            "Installing collected packages: nvidia-nvjitlink-cu12, nvidia-curand-cu12, nvidia-cufft-cu12, nvidia-cuda-runtime-cu12, nvidia-cuda-nvrtc-cu12, nvidia-cuda-cupti-cu12, nvidia-cublas-cu12, nvidia-cusparse-cu12, nvidia-cudnn-cu12, nvidia-cusolver-cu12, ultralytics-thop, ultralytics\n",
            "  Attempting uninstall: nvidia-nvjitlink-cu12\n",
            "    Found existing installation: nvidia-nvjitlink-cu12 12.5.82\n",
            "    Uninstalling nvidia-nvjitlink-cu12-12.5.82:\n",
            "      Successfully uninstalled nvidia-nvjitlink-cu12-12.5.82\n",
            "  Attempting uninstall: nvidia-curand-cu12\n",
            "    Found existing installation: nvidia-curand-cu12 10.3.6.82\n",
            "    Uninstalling nvidia-curand-cu12-10.3.6.82:\n",
            "      Successfully uninstalled nvidia-curand-cu12-10.3.6.82\n",
            "  Attempting uninstall: nvidia-cufft-cu12\n",
            "    Found existing installation: nvidia-cufft-cu12 11.2.3.61\n",
            "    Uninstalling nvidia-cufft-cu12-11.2.3.61:\n",
            "      Successfully uninstalled nvidia-cufft-cu12-11.2.3.61\n",
            "  Attempting uninstall: nvidia-cuda-runtime-cu12\n",
            "    Found existing installation: nvidia-cuda-runtime-cu12 12.5.82\n",
            "    Uninstalling nvidia-cuda-runtime-cu12-12.5.82:\n",
            "      Successfully uninstalled nvidia-cuda-runtime-cu12-12.5.82\n",
            "  Attempting uninstall: nvidia-cuda-nvrtc-cu12\n",
            "    Found existing installation: nvidia-cuda-nvrtc-cu12 12.5.82\n",
            "    Uninstalling nvidia-cuda-nvrtc-cu12-12.5.82:\n",
            "      Successfully uninstalled nvidia-cuda-nvrtc-cu12-12.5.82\n",
            "  Attempting uninstall: nvidia-cuda-cupti-cu12\n",
            "    Found existing installation: nvidia-cuda-cupti-cu12 12.5.82\n",
            "    Uninstalling nvidia-cuda-cupti-cu12-12.5.82:\n",
            "      Successfully uninstalled nvidia-cuda-cupti-cu12-12.5.82\n",
            "  Attempting uninstall: nvidia-cublas-cu12\n",
            "    Found existing installation: nvidia-cublas-cu12 12.5.3.2\n",
            "    Uninstalling nvidia-cublas-cu12-12.5.3.2:\n",
            "      Successfully uninstalled nvidia-cublas-cu12-12.5.3.2\n",
            "  Attempting uninstall: nvidia-cusparse-cu12\n",
            "    Found existing installation: nvidia-cusparse-cu12 12.5.1.3\n",
            "    Uninstalling nvidia-cusparse-cu12-12.5.1.3:\n",
            "      Successfully uninstalled nvidia-cusparse-cu12-12.5.1.3\n",
            "  Attempting uninstall: nvidia-cudnn-cu12\n",
            "    Found existing installation: nvidia-cudnn-cu12 9.3.0.75\n",
            "    Uninstalling nvidia-cudnn-cu12-9.3.0.75:\n",
            "      Successfully uninstalled nvidia-cudnn-cu12-9.3.0.75\n",
            "  Attempting uninstall: nvidia-cusolver-cu12\n",
            "    Found existing installation: nvidia-cusolver-cu12 11.6.3.83\n",
            "    Uninstalling nvidia-cusolver-cu12-11.6.3.83:\n",
            "      Successfully uninstalled nvidia-cusolver-cu12-11.6.3.83\n",
            "Successfully installed nvidia-cublas-cu12-12.4.5.8 nvidia-cuda-cupti-cu12-12.4.127 nvidia-cuda-nvrtc-cu12-12.4.127 nvidia-cuda-runtime-cu12-12.4.127 nvidia-cudnn-cu12-9.1.0.70 nvidia-cufft-cu12-11.2.1.3 nvidia-curand-cu12-10.3.5.147 nvidia-cusolver-cu12-11.6.1.9 nvidia-cusparse-cu12-12.3.1.170 nvidia-nvjitlink-cu12-12.4.127 ultralytics-8.3.98 ultralytics-thop-2.0.14\n",
            "Requirement already satisfied: torch in /usr/local/lib/python3.11/dist-packages (2.6.0+cu124)\n",
            "Requirement already satisfied: filelock in /usr/local/lib/python3.11/dist-packages (from torch) (3.18.0)\n",
            "Requirement already satisfied: typing-extensions>=4.10.0 in /usr/local/lib/python3.11/dist-packages (from torch) (4.12.2)\n",
            "Requirement already satisfied: networkx in /usr/local/lib/python3.11/dist-packages (from torch) (3.4.2)\n",
            "Requirement already satisfied: jinja2 in /usr/local/lib/python3.11/dist-packages (from torch) (3.1.6)\n",
            "Requirement already satisfied: fsspec in /usr/local/lib/python3.11/dist-packages (from torch) (2025.3.0)\n",
            "Requirement already satisfied: nvidia-cuda-nvrtc-cu12==12.4.127 in /usr/local/lib/python3.11/dist-packages (from torch) (12.4.127)\n",
            "Requirement already satisfied: nvidia-cuda-runtime-cu12==12.4.127 in /usr/local/lib/python3.11/dist-packages (from torch) (12.4.127)\n",
            "Requirement already satisfied: nvidia-cuda-cupti-cu12==12.4.127 in /usr/local/lib/python3.11/dist-packages (from torch) (12.4.127)\n",
            "Requirement already satisfied: nvidia-cudnn-cu12==9.1.0.70 in /usr/local/lib/python3.11/dist-packages (from torch) (9.1.0.70)\n",
            "Requirement already satisfied: nvidia-cublas-cu12==12.4.5.8 in /usr/local/lib/python3.11/dist-packages (from torch) (12.4.5.8)\n",
            "Requirement already satisfied: nvidia-cufft-cu12==11.2.1.3 in /usr/local/lib/python3.11/dist-packages (from torch) (11.2.1.3)\n",
            "Requirement already satisfied: nvidia-curand-cu12==10.3.5.147 in /usr/local/lib/python3.11/dist-packages (from torch) (10.3.5.147)\n",
            "Requirement already satisfied: nvidia-cusolver-cu12==11.6.1.9 in /usr/local/lib/python3.11/dist-packages (from torch) (11.6.1.9)\n",
            "Requirement already satisfied: nvidia-cusparse-cu12==12.3.1.170 in /usr/local/lib/python3.11/dist-packages (from torch) (12.3.1.170)\n",
            "Requirement already satisfied: nvidia-cusparselt-cu12==0.6.2 in /usr/local/lib/python3.11/dist-packages (from torch) (0.6.2)\n",
            "Requirement already satisfied: nvidia-nccl-cu12==2.21.5 in /usr/local/lib/python3.11/dist-packages (from torch) (2.21.5)\n",
            "Requirement already satisfied: nvidia-nvtx-cu12==12.4.127 in /usr/local/lib/python3.11/dist-packages (from torch) (12.4.127)\n",
            "Requirement already satisfied: nvidia-nvjitlink-cu12==12.4.127 in /usr/local/lib/python3.11/dist-packages (from torch) (12.4.127)\n",
            "Requirement already satisfied: triton==3.2.0 in /usr/local/lib/python3.11/dist-packages (from torch) (3.2.0)\n",
            "Requirement already satisfied: sympy==1.13.1 in /usr/local/lib/python3.11/dist-packages (from torch) (1.13.1)\n",
            "Requirement already satisfied: mpmath<1.4,>=1.1.0 in /usr/local/lib/python3.11/dist-packages (from sympy==1.13.1->torch) (1.3.0)\n",
            "Requirement already satisfied: MarkupSafe>=2.0 in /usr/local/lib/python3.11/dist-packages (from jinja2->torch) (3.0.2)\n",
            "Requirement already satisfied: torchvision in /usr/local/lib/python3.11/dist-packages (0.21.0+cu124)\n",
            "Requirement already satisfied: numpy in /usr/local/lib/python3.11/dist-packages (from torchvision) (2.0.2)\n",
            "Requirement already satisfied: torch==2.6.0 in /usr/local/lib/python3.11/dist-packages (from torchvision) (2.6.0+cu124)\n",
            "Requirement already satisfied: pillow!=8.3.*,>=5.3.0 in /usr/local/lib/python3.11/dist-packages (from torchvision) (11.1.0)\n",
            "Requirement already satisfied: filelock in /usr/local/lib/python3.11/dist-packages (from torch==2.6.0->torchvision) (3.18.0)\n",
            "Requirement already satisfied: typing-extensions>=4.10.0 in /usr/local/lib/python3.11/dist-packages (from torch==2.6.0->torchvision) (4.12.2)\n",
            "Requirement already satisfied: networkx in /usr/local/lib/python3.11/dist-packages (from torch==2.6.0->torchvision) (3.4.2)\n",
            "Requirement already satisfied: jinja2 in /usr/local/lib/python3.11/dist-packages (from torch==2.6.0->torchvision) (3.1.6)\n",
            "Requirement already satisfied: fsspec in /usr/local/lib/python3.11/dist-packages (from torch==2.6.0->torchvision) (2025.3.0)\n",
            "Requirement already satisfied: nvidia-cuda-nvrtc-cu12==12.4.127 in /usr/local/lib/python3.11/dist-packages (from torch==2.6.0->torchvision) (12.4.127)\n",
            "Requirement already satisfied: nvidia-cuda-runtime-cu12==12.4.127 in /usr/local/lib/python3.11/dist-packages (from torch==2.6.0->torchvision) (12.4.127)\n",
            "Requirement already satisfied: nvidia-cuda-cupti-cu12==12.4.127 in /usr/local/lib/python3.11/dist-packages (from torch==2.6.0->torchvision) (12.4.127)\n",
            "Requirement already satisfied: nvidia-cudnn-cu12==9.1.0.70 in /usr/local/lib/python3.11/dist-packages (from torch==2.6.0->torchvision) (9.1.0.70)\n",
            "Requirement already satisfied: nvidia-cublas-cu12==12.4.5.8 in /usr/local/lib/python3.11/dist-packages (from torch==2.6.0->torchvision) (12.4.5.8)\n",
            "Requirement already satisfied: nvidia-cufft-cu12==11.2.1.3 in /usr/local/lib/python3.11/dist-packages (from torch==2.6.0->torchvision) (11.2.1.3)\n",
            "Requirement already satisfied: nvidia-curand-cu12==10.3.5.147 in /usr/local/lib/python3.11/dist-packages (from torch==2.6.0->torchvision) (10.3.5.147)\n",
            "Requirement already satisfied: nvidia-cusolver-cu12==11.6.1.9 in /usr/local/lib/python3.11/dist-packages (from torch==2.6.0->torchvision) (11.6.1.9)\n",
            "Requirement already satisfied: nvidia-cusparse-cu12==12.3.1.170 in /usr/local/lib/python3.11/dist-packages (from torch==2.6.0->torchvision) (12.3.1.170)\n",
            "Requirement already satisfied: nvidia-cusparselt-cu12==0.6.2 in /usr/local/lib/python3.11/dist-packages (from torch==2.6.0->torchvision) (0.6.2)\n",
            "Requirement already satisfied: nvidia-nccl-cu12==2.21.5 in /usr/local/lib/python3.11/dist-packages (from torch==2.6.0->torchvision) (2.21.5)\n",
            "Requirement already satisfied: nvidia-nvtx-cu12==12.4.127 in /usr/local/lib/python3.11/dist-packages (from torch==2.6.0->torchvision) (12.4.127)\n",
            "Requirement already satisfied: nvidia-nvjitlink-cu12==12.4.127 in /usr/local/lib/python3.11/dist-packages (from torch==2.6.0->torchvision) (12.4.127)\n",
            "Requirement already satisfied: triton==3.2.0 in /usr/local/lib/python3.11/dist-packages (from torch==2.6.0->torchvision) (3.2.0)\n",
            "Requirement already satisfied: sympy==1.13.1 in /usr/local/lib/python3.11/dist-packages (from torch==2.6.0->torchvision) (1.13.1)\n",
            "Requirement already satisfied: mpmath<1.4,>=1.1.0 in /usr/local/lib/python3.11/dist-packages (from sympy==1.13.1->torch==2.6.0->torchvision) (1.3.0)\n",
            "Requirement already satisfied: MarkupSafe>=2.0 in /usr/local/lib/python3.11/dist-packages (from jinja2->torch==2.6.0->torchvision) (3.0.2)\n",
            "Collecting onnx\n",
            "  Downloading onnx-1.17.0-cp311-cp311-manylinux_2_17_x86_64.manylinux2014_x86_64.whl.metadata (16 kB)\n",
            "Requirement already satisfied: numpy>=1.20 in /usr/local/lib/python3.11/dist-packages (from onnx) (2.0.2)\n",
            "Requirement already satisfied: protobuf>=3.20.2 in /usr/local/lib/python3.11/dist-packages (from onnx) (5.29.4)\n",
            "Downloading onnx-1.17.0-cp311-cp311-manylinux_2_17_x86_64.manylinux2014_x86_64.whl (16.0 MB)\n",
            "\u001b[2K   \u001b[90m━━━━━━━━━━━━━━━━━━━━━━━━━━━━━━━━━━━━━━━━\u001b[0m \u001b[32m16.0/16.0 MB\u001b[0m \u001b[31m99.2 MB/s\u001b[0m eta \u001b[36m0:00:00\u001b[0m\n",
            "\u001b[?25hInstalling collected packages: onnx\n",
            "Successfully installed onnx-1.17.0\n",
            "Collecting onnx-tf\n",
            "  Downloading onnx_tf-1.10.0-py3-none-any.whl.metadata (510 bytes)\n",
            "Requirement already satisfied: onnx>=1.10.2 in /usr/local/lib/python3.11/dist-packages (from onnx-tf) (1.17.0)\n",
            "Requirement already satisfied: PyYAML in /usr/local/lib/python3.11/dist-packages (from onnx-tf) (6.0.2)\n",
            "Collecting tensorflow-addons (from onnx-tf)\n",
            "  Downloading tensorflow_addons-0.23.0-cp311-cp311-manylinux_2_17_x86_64.manylinux2014_x86_64.whl.metadata (1.8 kB)\n",
            "Requirement already satisfied: numpy>=1.20 in /usr/local/lib/python3.11/dist-packages (from onnx>=1.10.2->onnx-tf) (2.0.2)\n",
            "Requirement already satisfied: protobuf>=3.20.2 in /usr/local/lib/python3.11/dist-packages (from onnx>=1.10.2->onnx-tf) (5.29.4)\n",
            "Requirement already satisfied: packaging in /usr/local/lib/python3.11/dist-packages (from tensorflow-addons->onnx-tf) (24.2)\n",
            "Collecting typeguard<3.0.0,>=2.7 (from tensorflow-addons->onnx-tf)\n",
            "  Downloading typeguard-2.13.3-py3-none-any.whl.metadata (3.6 kB)\n",
            "Downloading onnx_tf-1.10.0-py3-none-any.whl (226 kB)\n",
            "\u001b[2K   \u001b[90m━━━━━━━━━━━━━━━━━━━━━━━━━━━━━━━━━━━━━━━━\u001b[0m \u001b[32m226.1/226.1 kB\u001b[0m \u001b[31m6.1 MB/s\u001b[0m eta \u001b[36m0:00:00\u001b[0m\n",
            "\u001b[?25hDownloading tensorflow_addons-0.23.0-cp311-cp311-manylinux_2_17_x86_64.manylinux2014_x86_64.whl (611 kB)\n",
            "\u001b[2K   \u001b[90m━━━━━━━━━━━━━━━━━━━━━━━━━━━━━━━━━━━━━━━━\u001b[0m \u001b[32m611.8/611.8 kB\u001b[0m \u001b[31m32.0 MB/s\u001b[0m eta \u001b[36m0:00:00\u001b[0m\n",
            "\u001b[?25hDownloading typeguard-2.13.3-py3-none-any.whl (17 kB)\n",
            "Installing collected packages: typeguard, tensorflow-addons, onnx-tf\n",
            "  Attempting uninstall: typeguard\n",
            "    Found existing installation: typeguard 4.4.2\n",
            "    Uninstalling typeguard-4.4.2:\n",
            "      Successfully uninstalled typeguard-4.4.2\n",
            "\u001b[31mERROR: pip's dependency resolver does not currently take into account all the packages that are installed. This behaviour is the source of the following dependency conflicts.\n",
            "inflect 7.5.0 requires typeguard>=4.0.1, but you have typeguard 2.13.3 which is incompatible.\u001b[0m\u001b[31m\n",
            "\u001b[0mSuccessfully installed onnx-tf-1.10.0 tensorflow-addons-0.23.0 typeguard-2.13.3\n",
            "Requirement already satisfied: tensorflow in /usr/local/lib/python3.11/dist-packages (2.18.0)\n",
            "Requirement already satisfied: absl-py>=1.0.0 in /usr/local/lib/python3.11/dist-packages (from tensorflow) (1.4.0)\n",
            "Requirement already satisfied: astunparse>=1.6.0 in /usr/local/lib/python3.11/dist-packages (from tensorflow) (1.6.3)\n",
            "Requirement already satisfied: flatbuffers>=24.3.25 in /usr/local/lib/python3.11/dist-packages (from tensorflow) (25.2.10)\n",
            "Requirement already satisfied: gast!=0.5.0,!=0.5.1,!=0.5.2,>=0.2.1 in /usr/local/lib/python3.11/dist-packages (from tensorflow) (0.6.0)\n",
            "Requirement already satisfied: google-pasta>=0.1.1 in /usr/local/lib/python3.11/dist-packages (from tensorflow) (0.2.0)\n",
            "Requirement already satisfied: libclang>=13.0.0 in /usr/local/lib/python3.11/dist-packages (from tensorflow) (18.1.1)\n",
            "Requirement already satisfied: opt-einsum>=2.3.2 in /usr/local/lib/python3.11/dist-packages (from tensorflow) (3.4.0)\n",
            "Requirement already satisfied: packaging in /usr/local/lib/python3.11/dist-packages (from tensorflow) (24.2)\n",
            "Requirement already satisfied: protobuf!=4.21.0,!=4.21.1,!=4.21.2,!=4.21.3,!=4.21.4,!=4.21.5,<6.0.0dev,>=3.20.3 in /usr/local/lib/python3.11/dist-packages (from tensorflow) (5.29.4)\n",
            "Requirement already satisfied: requests<3,>=2.21.0 in /usr/local/lib/python3.11/dist-packages (from tensorflow) (2.32.3)\n",
            "Requirement already satisfied: setuptools in /usr/local/lib/python3.11/dist-packages (from tensorflow) (75.1.0)\n",
            "Requirement already satisfied: six>=1.12.0 in /usr/local/lib/python3.11/dist-packages (from tensorflow) (1.17.0)\n",
            "Requirement already satisfied: termcolor>=1.1.0 in /usr/local/lib/python3.11/dist-packages (from tensorflow) (2.5.0)\n",
            "Requirement already satisfied: typing-extensions>=3.6.6 in /usr/local/lib/python3.11/dist-packages (from tensorflow) (4.12.2)\n",
            "Requirement already satisfied: wrapt>=1.11.0 in /usr/local/lib/python3.11/dist-packages (from tensorflow) (1.17.2)\n",
            "Requirement already satisfied: grpcio<2.0,>=1.24.3 in /usr/local/lib/python3.11/dist-packages (from tensorflow) (1.71.0)\n",
            "Requirement already satisfied: tensorboard<2.19,>=2.18 in /usr/local/lib/python3.11/dist-packages (from tensorflow) (2.18.0)\n",
            "Requirement already satisfied: keras>=3.5.0 in /usr/local/lib/python3.11/dist-packages (from tensorflow) (3.8.0)\n",
            "Requirement already satisfied: numpy<2.1.0,>=1.26.0 in /usr/local/lib/python3.11/dist-packages (from tensorflow) (2.0.2)\n",
            "Requirement already satisfied: h5py>=3.11.0 in /usr/local/lib/python3.11/dist-packages (from tensorflow) (3.13.0)\n",
            "Requirement already satisfied: ml-dtypes<0.5.0,>=0.4.0 in /usr/local/lib/python3.11/dist-packages (from tensorflow) (0.4.1)\n",
            "Requirement already satisfied: tensorflow-io-gcs-filesystem>=0.23.1 in /usr/local/lib/python3.11/dist-packages (from tensorflow) (0.37.1)\n",
            "Requirement already satisfied: wheel<1.0,>=0.23.0 in /usr/local/lib/python3.11/dist-packages (from astunparse>=1.6.0->tensorflow) (0.45.1)\n",
            "Requirement already satisfied: rich in /usr/local/lib/python3.11/dist-packages (from keras>=3.5.0->tensorflow) (13.9.4)\n",
            "Requirement already satisfied: namex in /usr/local/lib/python3.11/dist-packages (from keras>=3.5.0->tensorflow) (0.0.8)\n",
            "Requirement already satisfied: optree in /usr/local/lib/python3.11/dist-packages (from keras>=3.5.0->tensorflow) (0.14.1)\n",
            "Requirement already satisfied: charset-normalizer<4,>=2 in /usr/local/lib/python3.11/dist-packages (from requests<3,>=2.21.0->tensorflow) (3.4.1)\n",
            "Requirement already satisfied: idna<4,>=2.5 in /usr/local/lib/python3.11/dist-packages (from requests<3,>=2.21.0->tensorflow) (3.10)\n",
            "Requirement already satisfied: urllib3<3,>=1.21.1 in /usr/local/lib/python3.11/dist-packages (from requests<3,>=2.21.0->tensorflow) (2.3.0)\n",
            "Requirement already satisfied: certifi>=2017.4.17 in /usr/local/lib/python3.11/dist-packages (from requests<3,>=2.21.0->tensorflow) (2025.1.31)\n",
            "Requirement already satisfied: markdown>=2.6.8 in /usr/local/lib/python3.11/dist-packages (from tensorboard<2.19,>=2.18->tensorflow) (3.7)\n",
            "Requirement already satisfied: tensorboard-data-server<0.8.0,>=0.7.0 in /usr/local/lib/python3.11/dist-packages (from tensorboard<2.19,>=2.18->tensorflow) (0.7.2)\n",
            "Requirement already satisfied: werkzeug>=1.0.1 in /usr/local/lib/python3.11/dist-packages (from tensorboard<2.19,>=2.18->tensorflow) (3.1.3)\n",
            "Requirement already satisfied: MarkupSafe>=2.1.1 in /usr/local/lib/python3.11/dist-packages (from werkzeug>=1.0.1->tensorboard<2.19,>=2.18->tensorflow) (3.0.2)\n",
            "Requirement already satisfied: markdown-it-py>=2.2.0 in /usr/local/lib/python3.11/dist-packages (from rich->keras>=3.5.0->tensorflow) (3.0.0)\n",
            "Requirement already satisfied: pygments<3.0.0,>=2.13.0 in /usr/local/lib/python3.11/dist-packages (from rich->keras>=3.5.0->tensorflow) (2.18.0)\n",
            "Requirement already satisfied: mdurl~=0.1 in /usr/local/lib/python3.11/dist-packages (from markdown-it-py>=2.2.0->rich->keras>=3.5.0->tensorflow) (0.1.2)\n"
          ]
        }
      ],
      "source": [
        "!pip install ultralytics\n",
        "!pip install torch\n",
        "!pip install torchvision\n",
        "!pip install onnx\n",
        "!pip install onnx-tf\n",
        "!pip install tensorflow"
      ]
    },
    {
      "cell_type": "markdown",
      "metadata": {
        "id": "txBathrWucfA"
      },
      "source": [
        "## **Exporte Using Ultralytics**"
      ]
    },
    {
      "cell_type": "code",
      "execution_count": null,
      "metadata": {
        "id": "sBLXFocicp6E"
      },
      "outputs": [],
      "source": [
        "best_yolov8 = \"/content/gdrive/MyDrive/best_yolov8.pt\"\n"
      ]
    },
    {
      "cell_type": "markdown",
      "metadata": {
        "id": "p6XkysCVc_CF"
      },
      "source": [
        "## YoloV8 - INT8 - Quantization\n"
      ]
    },
    {
      "cell_type": "code",
      "execution_count": null,
      "metadata": {
        "colab": {
          "base_uri": "https://localhost:8080/",
          "height": 1000
        },
        "id": "QII1LS9r9BfL",
        "outputId": "6f957826-e0bf-48f5-ebfc-ea4f88c543df"
      },
      "outputs": [
        {
          "name": "stdout",
          "output_type": "stream",
          "text": [
            "Ultralytics 8.3.98 🚀 Python-3.11.11 torch-2.6.0+cu124 CUDA:0 (Tesla T4, 15095MiB)\n",
            "WARNING ⚠️ INT8 export requires a missing 'data' arg for calibration. Using default 'data=coco8.yaml'.\n",
            "YOLOv8n summary (fused): 72 layers, 3,009,158 parameters, 0 gradients, 8.1 GFLOPs\n",
            "\n",
            "\u001b[34m\u001b[1mPyTorch:\u001b[0m starting from '/content/gdrive/MyDrive/best_yolov8.pt' with input shape (1, 3, 640, 640) BCHW and output shape(s) (1, 22, 8400) (6.0 MB)\n",
            "\n",
            "\u001b[34m\u001b[1mTensorFlow SavedModel:\u001b[0m starting export with tensorflow 2.18.0...\n",
            "\n",
            "\u001b[34m\u001b[1mONNX:\u001b[0m starting export with onnx 1.16.1 opset 19...\n",
            "\u001b[34m\u001b[1mONNX:\u001b[0m slimming with onnxslim 0.1.49...\n",
            "\u001b[34m\u001b[1mONNX:\u001b[0m export success ✅ 3.4s, saved as '/content/gdrive/MyDrive/best_yolov8.onnx' (11.8 MB)\n",
            "\u001b[34m\u001b[1mTensorFlow SavedModel:\u001b[0m collecting INT8 calibration images from 'data=coco8.yaml'\n"
          ]
        },
        {
          "name": "stderr",
          "output_type": "stream",
          "text": [
            "Scanning /content/datasets/coco8/labels/val.cache... 4 images, 0 backgrounds, 0 corrupt: 100%|██████████| 4/4 [00:00<?, ?it/s]"
          ]
        },
        {
          "name": "stdout",
          "output_type": "stream",
          "text": [
            "\u001b[34m\u001b[1mTensorFlow SavedModel:\u001b[0m WARNING ⚠️ >300 images recommended for INT8 calibration, found 4 images.\n"
          ]
        },
        {
          "name": "stderr",
          "output_type": "stream",
          "text": [
            "\n"
          ]
        },
        {
          "name": "stdout",
          "output_type": "stream",
          "text": [
            "\u001b[34m\u001b[1mTensorFlow SavedModel:\u001b[0m starting TFLite export with onnx2tf 1.27.1...\n",
            "Saved artifact at '/content/gdrive/MyDrive/best_yolov8_saved_model'. The following endpoints are available:\n",
            "\n",
            "* Endpoint 'serving_default'\n",
            "  inputs_0 (POSITIONAL_ONLY): TensorSpec(shape=(1, 640, 640, 3), dtype=tf.float32, name='images')\n",
            "Output Type:\n",
            "  TensorSpec(shape=(1, 22, 8400), dtype=tf.float32, name=None)\n",
            "Captures:\n",
            "  138697911598160: TensorSpec(shape=(4, 2), dtype=tf.int32, name=None)\n",
            "  138697911598544: TensorSpec(shape=(3, 3, 3, 16), dtype=tf.float32, name=None)\n",
            "  138697911598928: TensorSpec(shape=(16,), dtype=tf.float32, name=None)\n",
            "  138697911591632: TensorSpec(shape=(4, 2), dtype=tf.int32, name=None)\n",
            "  138697911598352: TensorSpec(shape=(3, 3, 16, 32), dtype=tf.float32, name=None)\n",
            "  138697911595472: TensorSpec(shape=(32,), dtype=tf.float32, name=None)\n",
            "  138697911595088: TensorSpec(shape=(1, 1, 32, 32), dtype=tf.float32, name=None)\n",
            "  138697911597968: TensorSpec(shape=(32,), dtype=tf.float32, name=None)\n",
            "  138697911594896: TensorSpec(shape=(4,), dtype=tf.int64, name=None)\n",
            "  138697911595280: TensorSpec(shape=(4,), dtype=tf.int64, name=None)\n",
            "  138697911596240: TensorSpec(shape=(3, 3, 16, 16), dtype=tf.float32, name=None)\n",
            "  138697911594704: TensorSpec(shape=(16,), dtype=tf.float32, name=None)\n",
            "  138697911594512: TensorSpec(shape=(3, 3, 16, 16), dtype=tf.float32, name=None)\n",
            "  138697893814800: TensorSpec(shape=(16,), dtype=tf.float32, name=None)\n",
            "  138697911598736: TensorSpec(shape=(4,), dtype=tf.int64, name=None)\n",
            "  138697911597776: TensorSpec(shape=(4,), dtype=tf.int64, name=None)\n",
            "  138697893814032: TensorSpec(shape=(1, 1, 48, 32), dtype=tf.float32, name=None)\n",
            "  138697893814608: TensorSpec(shape=(32,), dtype=tf.float32, name=None)\n",
            "  138697893813264: TensorSpec(shape=(4, 2), dtype=tf.int32, name=None)\n",
            "  138697893806160: TensorSpec(shape=(3, 3, 32, 64), dtype=tf.float32, name=None)\n",
            "  138697893814416: TensorSpec(shape=(64,), dtype=tf.float32, name=None)\n",
            "  138697893813840: TensorSpec(shape=(1, 1, 64, 64), dtype=tf.float32, name=None)\n",
            "  138697893813648: TensorSpec(shape=(64,), dtype=tf.float32, name=None)\n",
            "  138697893812304: TensorSpec(shape=(4,), dtype=tf.int64, name=None)\n",
            "  138697893813456: TensorSpec(shape=(4,), dtype=tf.int64, name=None)\n",
            "  138697893810768: TensorSpec(shape=(3, 3, 32, 32), dtype=tf.float32, name=None)\n",
            "  138697893809424: TensorSpec(shape=(32,), dtype=tf.float32, name=None)\n",
            "  138697893810192: TensorSpec(shape=(3, 3, 32, 32), dtype=tf.float32, name=None)\n",
            "  138697893806736: TensorSpec(shape=(32,), dtype=tf.float32, name=None)\n",
            "  138697893810000: TensorSpec(shape=(3, 3, 32, 32), dtype=tf.float32, name=None)\n",
            "  138697893806352: TensorSpec(shape=(32,), dtype=tf.float32, name=None)\n",
            "  138697893810576: TensorSpec(shape=(3, 3, 32, 32), dtype=tf.float32, name=None)\n",
            "  138697893815952: TensorSpec(shape=(32,), dtype=tf.float32, name=None)\n",
            "  138697893813072: TensorSpec(shape=(4,), dtype=tf.int64, name=None)\n",
            "  138697893812496: TensorSpec(shape=(4,), dtype=tf.int64, name=None)\n",
            "  138697893810960: TensorSpec(shape=(1, 1, 128, 64), dtype=tf.float32, name=None)\n",
            "  138697893812880: TensorSpec(shape=(64,), dtype=tf.float32, name=None)\n",
            "  138697893812688: TensorSpec(shape=(4, 2), dtype=tf.int32, name=None)\n",
            "  138697893809040: TensorSpec(shape=(3, 3, 64, 128), dtype=tf.float32, name=None)\n",
            "  138697893811152: TensorSpec(shape=(128,), dtype=tf.float32, name=None)\n",
            "  138697893811344: TensorSpec(shape=(1, 1, 128, 128), dtype=tf.float32, name=None)\n",
            "  138697893807696: TensorSpec(shape=(128,), dtype=tf.float32, name=None)\n",
            "  138697893808080: TensorSpec(shape=(4,), dtype=tf.int64, name=None)\n",
            "  138697893811536: TensorSpec(shape=(4,), dtype=tf.int64, name=None)\n",
            "  138697893808464: TensorSpec(shape=(3, 3, 64, 64), dtype=tf.float32, name=None)\n",
            "  138697893815376: TensorSpec(shape=(64,), dtype=tf.float32, name=None)\n",
            "  138697893806928: TensorSpec(shape=(3, 3, 64, 64), dtype=tf.float32, name=None)\n",
            "  138697893806544: TensorSpec(shape=(64,), dtype=tf.float32, name=None)\n",
            "  138697893807504: TensorSpec(shape=(3, 3, 64, 64), dtype=tf.float32, name=None)\n",
            "  138697908977296: TensorSpec(shape=(64,), dtype=tf.float32, name=None)\n",
            "  138697908977488: TensorSpec(shape=(3, 3, 64, 64), dtype=tf.float32, name=None)\n",
            "  138697908977104: TensorSpec(shape=(64,), dtype=tf.float32, name=None)\n",
            "  138697893809232: TensorSpec(shape=(4,), dtype=tf.int64, name=None)\n",
            "  138697893812112: TensorSpec(shape=(4,), dtype=tf.int64, name=None)\n",
            "  138697908976336: TensorSpec(shape=(1, 1, 256, 128), dtype=tf.float32, name=None)\n",
            "  138697908975952: TensorSpec(shape=(128,), dtype=tf.float32, name=None)\n",
            "  138697908976144: TensorSpec(shape=(4, 2), dtype=tf.int32, name=None)\n",
            "  138697908976720: TensorSpec(shape=(3, 3, 128, 256), dtype=tf.float32, name=None)\n",
            "  138697908976912: TensorSpec(shape=(256,), dtype=tf.float32, name=None)\n",
            "  138697908975760: TensorSpec(shape=(1, 1, 256, 256), dtype=tf.float32, name=None)\n",
            "  138697908974224: TensorSpec(shape=(256,), dtype=tf.float32, name=None)\n",
            "  138697908975376: TensorSpec(shape=(4,), dtype=tf.int64, name=None)\n",
            "  138697908974608: TensorSpec(shape=(4,), dtype=tf.int64, name=None)\n",
            "  138697908974800: TensorSpec(shape=(3, 3, 128, 128), dtype=tf.float32, name=None)\n",
            "  138697908973456: TensorSpec(shape=(128,), dtype=tf.float32, name=None)\n",
            "  138697908973264: TensorSpec(shape=(3, 3, 128, 128), dtype=tf.float32, name=None)\n",
            "  138697908971920: TensorSpec(shape=(128,), dtype=tf.float32, name=None)\n",
            "  138697908975184: TensorSpec(shape=(4,), dtype=tf.int64, name=None)\n",
            "  138697908975568: TensorSpec(shape=(4,), dtype=tf.int64, name=None)\n",
            "  138697908972112: TensorSpec(shape=(1, 1, 384, 256), dtype=tf.float32, name=None)\n",
            "  138697908974032: TensorSpec(shape=(256,), dtype=tf.float32, name=None)\n",
            "  138697908974416: TensorSpec(shape=(1, 1, 256, 128), dtype=tf.float32, name=None)\n",
            "  138697908971152: TensorSpec(shape=(128,), dtype=tf.float32, name=None)\n",
            "  138697908972688: TensorSpec(shape=(1, 1, 512, 256), dtype=tf.float32, name=None)\n",
            "  138697908972496: TensorSpec(shape=(256,), dtype=tf.float32, name=None)\n",
            "  138697908972304: TensorSpec(shape=(2,), dtype=tf.int32, name=None)\n",
            "  138697908973072: TensorSpec(shape=(1, 1, 384, 128), dtype=tf.float32, name=None)\n",
            "  138697079966416: TensorSpec(shape=(128,), dtype=tf.float32, name=None)\n",
            "  138697079964688: TensorSpec(shape=(4,), dtype=tf.int64, name=None)\n",
            "  138697079966608: TensorSpec(shape=(4,), dtype=tf.int64, name=None)\n",
            "  138697079965456: TensorSpec(shape=(3, 3, 64, 64), dtype=tf.float32, name=None)\n",
            "  138697079966992: TensorSpec(shape=(64,), dtype=tf.float32, name=None)\n",
            "  138697079964304: TensorSpec(shape=(3, 3, 64, 64), dtype=tf.float32, name=None)\n",
            "  138697079966224: TensorSpec(shape=(64,), dtype=tf.float32, name=None)\n",
            "  138697079964880: TensorSpec(shape=(4,), dtype=tf.int64, name=None)\n",
            "  138697079967568: TensorSpec(shape=(4,), dtype=tf.int64, name=None)\n",
            "  138697079964496: TensorSpec(shape=(1, 1, 192, 128), dtype=tf.float32, name=None)\n",
            "  138697079967184: TensorSpec(shape=(128,), dtype=tf.float32, name=None)\n",
            "  138697079967952: TensorSpec(shape=(2,), dtype=tf.int32, name=None)\n",
            "  138697079967760: TensorSpec(shape=(1, 1, 192, 64), dtype=tf.float32, name=None)\n",
            "  138697079968144: TensorSpec(shape=(64,), dtype=tf.float32, name=None)\n",
            "  138697079968336: TensorSpec(shape=(4,), dtype=tf.int64, name=None)\n",
            "  138697079965264: TensorSpec(shape=(4,), dtype=tf.int64, name=None)\n",
            "  138697079968912: TensorSpec(shape=(3, 3, 32, 32), dtype=tf.float32, name=None)\n",
            "  138697079970256: TensorSpec(shape=(32,), dtype=tf.float32, name=None)\n",
            "  138697079969488: TensorSpec(shape=(3, 3, 32, 32), dtype=tf.float32, name=None)\n",
            "  138697079970640: TensorSpec(shape=(32,), dtype=tf.float32, name=None)\n",
            "  138697079968720: TensorSpec(shape=(4,), dtype=tf.int64, name=None)\n",
            "  138697079968528: TensorSpec(shape=(4,), dtype=tf.int64, name=None)\n",
            "  138697079969680: TensorSpec(shape=(1, 1, 96, 64), dtype=tf.float32, name=None)\n",
            "  138697079970448: TensorSpec(shape=(64,), dtype=tf.float32, name=None)\n",
            "  138697079971024: TensorSpec(shape=(4, 2), dtype=tf.int32, name=None)\n",
            "  138697079970832: TensorSpec(shape=(3, 3, 64, 64), dtype=tf.float32, name=None)\n",
            "  138697079969104: TensorSpec(shape=(64,), dtype=tf.float32, name=None)\n",
            "  138697079972752: TensorSpec(shape=(1, 1, 192, 128), dtype=tf.float32, name=None)\n",
            "  138697079972944: TensorSpec(shape=(128,), dtype=tf.float32, name=None)\n",
            "  138697079973904: TensorSpec(shape=(4,), dtype=tf.int64, name=None)\n",
            "  138697079974096: TensorSpec(shape=(4,), dtype=tf.int64, name=None)\n",
            "  138697079975632: TensorSpec(shape=(3, 3, 64, 64), dtype=tf.float32, name=None)\n",
            "  138697079976784: TensorSpec(shape=(64,), dtype=tf.float32, name=None)\n",
            "  138697079976592: TensorSpec(shape=(3, 3, 64, 64), dtype=tf.float32, name=None)\n",
            "  138697079975056: TensorSpec(shape=(64,), dtype=tf.float32, name=None)\n",
            "  138697079974288: TensorSpec(shape=(4,), dtype=tf.int64, name=None)\n",
            "  138697079974480: TensorSpec(shape=(4,), dtype=tf.int64, name=None)\n",
            "  138697079976208: TensorSpec(shape=(1, 1, 192, 128), dtype=tf.float32, name=None)\n",
            "  138697079975440: TensorSpec(shape=(128,), dtype=tf.float32, name=None)\n",
            "  138697079976400: TensorSpec(shape=(4, 2), dtype=tf.int32, name=None)\n",
            "  138697079974864: TensorSpec(shape=(3, 3, 128, 128), dtype=tf.float32, name=None)\n",
            "  138697079977168: TensorSpec(shape=(128,), dtype=tf.float32, name=None)\n",
            "  138697079978704: TensorSpec(shape=(1, 1, 384, 256), dtype=tf.float32, name=None)\n",
            "  138697079978896: TensorSpec(shape=(256,), dtype=tf.float32, name=None)\n",
            "  138697892218256: TensorSpec(shape=(4,), dtype=tf.int64, name=None)\n",
            "  138697892216912: TensorSpec(shape=(4,), dtype=tf.int64, name=None)\n",
            "  138697892218448: TensorSpec(shape=(3, 3, 128, 128), dtype=tf.float32, name=None)\n",
            "  138697892219600: TensorSpec(shape=(128,), dtype=tf.float32, name=None)\n",
            "  138697079979856: TensorSpec(shape=(3, 3, 128, 128), dtype=tf.float32, name=None)\n",
            "  138697892219408: TensorSpec(shape=(128,), dtype=tf.float32, name=None)\n",
            "  138697892217104: TensorSpec(shape=(4,), dtype=tf.int64, name=None)\n",
            "  138697892217296: TensorSpec(shape=(4,), dtype=tf.int64, name=None)\n",
            "  138697892219024: TensorSpec(shape=(1, 1, 384, 256), dtype=tf.float32, name=None)\n",
            "  138697892217872: TensorSpec(shape=(256,), dtype=tf.float32, name=None)\n",
            "  138697892219792: TensorSpec(shape=(3, 3, 256, 64), dtype=tf.float32, name=None)\n",
            "  138697892217680: TensorSpec(shape=(3, 3, 256, 64), dtype=tf.float32, name=None)\n",
            "  138697079977552: TensorSpec(shape=(3, 3, 128, 64), dtype=tf.float32, name=None)\n",
            "  138697079976976: TensorSpec(shape=(3, 3, 128, 64), dtype=tf.float32, name=None)\n",
            "  138697079971600: TensorSpec(shape=(3, 3, 64, 64), dtype=tf.float32, name=None)\n",
            "  138697079971216: TensorSpec(shape=(3, 3, 64, 64), dtype=tf.float32, name=None)\n",
            "  138697892219984: TensorSpec(shape=(64,), dtype=tf.float32, name=None)\n",
            "  138697892219216: TensorSpec(shape=(64,), dtype=tf.float32, name=None)\n",
            "  138697079977744: TensorSpec(shape=(64,), dtype=tf.float32, name=None)\n",
            "  138697079977360: TensorSpec(shape=(64,), dtype=tf.float32, name=None)\n",
            "  138697079971792: TensorSpec(shape=(64,), dtype=tf.float32, name=None)\n",
            "  138697079971408: TensorSpec(shape=(64,), dtype=tf.float32, name=None)\n",
            "  138697892220176: TensorSpec(shape=(3, 3, 64, 64), dtype=tf.float32, name=None)\n",
            "  138697892220560: TensorSpec(shape=(3, 3, 64, 64), dtype=tf.float32, name=None)\n",
            "  138697079977936: TensorSpec(shape=(3, 3, 64, 64), dtype=tf.float32, name=None)\n",
            "  138697079978128: TensorSpec(shape=(3, 3, 64, 64), dtype=tf.float32, name=None)\n",
            "  138697079971984: TensorSpec(shape=(3, 3, 64, 64), dtype=tf.float32, name=None)\n",
            "  138697079972176: TensorSpec(shape=(3, 3, 64, 64), dtype=tf.float32, name=None)\n",
            "  138697892220368: TensorSpec(shape=(64,), dtype=tf.float32, name=None)\n",
            "  138697892220752: TensorSpec(shape=(64,), dtype=tf.float32, name=None)\n",
            "  138697079978320: TensorSpec(shape=(64,), dtype=tf.float32, name=None)\n",
            "  138697079978512: TensorSpec(shape=(64,), dtype=tf.float32, name=None)\n",
            "  138697079972368: TensorSpec(shape=(64,), dtype=tf.float32, name=None)\n",
            "  138697079972560: TensorSpec(shape=(64,), dtype=tf.float32, name=None)\n",
            "  138697892220944: TensorSpec(shape=(1, 1, 64, 18), dtype=tf.float32, name=None)\n",
            "  138697892221328: TensorSpec(shape=(1, 1, 64, 64), dtype=tf.float32, name=None)\n",
            "  138697079979088: TensorSpec(shape=(1, 1, 64, 18), dtype=tf.float32, name=None)\n",
            "  138697079979664: TensorSpec(shape=(1, 1, 64, 64), dtype=tf.float32, name=None)\n",
            "  138697079973136: TensorSpec(shape=(1, 1, 64, 18), dtype=tf.float32, name=None)\n",
            "  138697079973712: TensorSpec(shape=(1, 1, 64, 64), dtype=tf.float32, name=None)\n",
            "  138697892221520: TensorSpec(shape=(64,), dtype=tf.float32, name=None)\n",
            "  138697892221136: TensorSpec(shape=(18,), dtype=tf.float32, name=None)\n",
            "  138697079979280: TensorSpec(shape=(64,), dtype=tf.float32, name=None)\n",
            "  138697079979472: TensorSpec(shape=(18,), dtype=tf.float32, name=None)\n",
            "  138697079973328: TensorSpec(shape=(64,), dtype=tf.float32, name=None)\n",
            "  138697079973520: TensorSpec(shape=(18,), dtype=tf.float32, name=None)\n",
            "  138697892223632: TensorSpec(shape=(3,), dtype=tf.int64, name=None)\n",
            "  138697892223440: TensorSpec(shape=(3,), dtype=tf.int64, name=None)\n",
            "  138697892222672: TensorSpec(shape=(1, 1, 16, 1), dtype=tf.float32, name=None)\n",
            "  138697892222480: TensorSpec(shape=(3,), dtype=tf.int64, name=None)\n",
            "  138697892224016: TensorSpec(shape=(3,), dtype=tf.int64, name=None)\n",
            "  138697892221712: TensorSpec(shape=(3,), dtype=tf.int64, name=None)\n",
            "  138697892222288: TensorSpec(shape=(3,), dtype=tf.int64, name=None)\n",
            "  138697892225168: TensorSpec(shape=(1, 2, 8400), dtype=tf.float32, name=None)\n",
            "  138697892224208: TensorSpec(shape=(1, 2, 8400), dtype=tf.float32, name=None)\n",
            "  138697892222864: TensorSpec(shape=(3,), dtype=tf.int64, name=None)\n",
            "  138697892223056: TensorSpec(shape=(3,), dtype=tf.int64, name=None)\n",
            "\n",
            "\n",
            "\u001b[34m\u001b[1mTensorFlow SavedModel:\u001b[0m export success ✅ 68.3s, saved as '/content/gdrive/MyDrive/best_yolov8_saved_model' (38.7 MB)\n",
            "\n",
            "\u001b[34m\u001b[1mTensorFlow Lite:\u001b[0m starting export with tensorflow 2.18.0...\n",
            "\u001b[34m\u001b[1mTensorFlow Lite:\u001b[0m export success ✅ 0.0s, saved as '/content/gdrive/MyDrive/best_yolov8_saved_model/best_yolov8_int8.tflite' (3.1 MB)\n",
            "\n",
            "Export complete (68.6s)\n",
            "Results saved to \u001b[1m/content/gdrive/MyDrive\u001b[0m\n",
            "Predict:         yolo predict task=detect model=/content/gdrive/MyDrive/best_yolov8_saved_model/best_yolov8_int8.tflite imgsz=640 int8 \n",
            "Validate:        yolo val task=detect model=/content/gdrive/MyDrive/best_yolov8_saved_model/best_yolov8_int8.tflite imgsz=640 data=/root/Desktop/workspace/Realtime Obstacle Detector/dataset2/data.yaml int8 \n",
            "Visualize:       https://netron.app\n"
          ]
        },
        {
          "data": {
            "application/vnd.google.colaboratory.intrinsic+json": {
              "type": "string"
            },
            "text/plain": [
              "'/content/gdrive/MyDrive/best_yolov8_saved_model/best_yolov8_int8.tflite'"
            ]
          },
          "execution_count": 5,
          "metadata": {},
          "output_type": "execute_result"
        }
      ],
      "source": [
        "from ultralytics import YOLO\n",
        "\n",
        "model = YOLO(best_yolov8)\n",
        "\n",
        "model.export(\n",
        "    format=\"tflite\",\n",
        "    int8=True,\n",
        "    device=0\n",
        ")"
      ]
    },
    {
      "cell_type": "markdown",
      "metadata": {
        "id": "Xg0zetEDfdik"
      },
      "source": [
        "## YoloV8 - FP16 - Quantization\n"
      ]
    },
    {
      "cell_type": "code",
      "execution_count": null,
      "metadata": {
        "colab": {
          "base_uri": "https://localhost:8080/",
          "height": 431
        },
        "id": "hS84DJhhHwOQ",
        "outputId": "804b6af6-e8d2-489e-dcb8-716531195bd0"
      },
      "outputs": [
        {
          "name": "stdout",
          "output_type": "stream",
          "text": [
            "Ultralytics 8.3.98 🚀 Python-3.11.11 torch-2.6.0+cu124 CUDA:0 (Tesla T4, 15095MiB)\n",
            "YOLOv8n summary (fused): 72 layers, 3,009,158 parameters, 0 gradients, 8.1 GFLOPs\n",
            "\n",
            "\u001b[34m\u001b[1mPyTorch:\u001b[0m starting from '/content/gdrive/MyDrive/best_yolov8.pt' with input shape (1, 3, 640, 640) BCHW and output shape(s) (1, 22, 8400) (6.0 MB)\n",
            "\n",
            "\u001b[34m\u001b[1mTensorFlow SavedModel:\u001b[0m starting export with tensorflow 2.18.0...\n",
            "\n",
            "\u001b[34m\u001b[1mONNX:\u001b[0m starting export with onnx 1.16.1 opset 19...\n",
            "\u001b[34m\u001b[1mONNX:\u001b[0m slimming with onnxslim 0.1.49...\n",
            "\u001b[34m\u001b[1mONNX:\u001b[0m export success ✅ 1.8s, saved as '/content/gdrive/MyDrive/best_yolov8.onnx' (11.8 MB)\n",
            "\u001b[34m\u001b[1mTensorFlow SavedModel:\u001b[0m starting TFLite export with onnx2tf 1.27.1...\n",
            "\u001b[34m\u001b[1mTensorFlow SavedModel:\u001b[0m export success ✅ 38.5s, saved as '/content/gdrive/MyDrive/best_yolov8_saved_model' (30.1 MB)\n",
            "\n",
            "\u001b[34m\u001b[1mTensorFlow Lite:\u001b[0m starting export with tensorflow 2.18.0...\n",
            "\u001b[34m\u001b[1mTensorFlow Lite:\u001b[0m export success ✅ 0.0s, saved as '/content/gdrive/MyDrive/best_yolov8_saved_model/best_yolov8_float16.tflite' (5.9 MB)\n",
            "\n",
            "Export complete (38.7s)\n",
            "Results saved to \u001b[1m/content/gdrive/MyDrive\u001b[0m\n",
            "Predict:         yolo predict task=detect model=/content/gdrive/MyDrive/best_yolov8_saved_model/best_yolov8_float16.tflite imgsz=640 half \n",
            "Validate:        yolo val task=detect model=/content/gdrive/MyDrive/best_yolov8_saved_model/best_yolov8_float16.tflite imgsz=640 data=/root/Desktop/workspace/Realtime Obstacle Detector/dataset2/data.yaml half \n",
            "Visualize:       https://netron.app\n"
          ]
        },
        {
          "data": {
            "application/vnd.google.colaboratory.intrinsic+json": {
              "type": "string"
            },
            "text/plain": [
              "'/content/gdrive/MyDrive/best_yolov8_saved_model/best_yolov8_float16.tflite'"
            ]
          },
          "execution_count": 6,
          "metadata": {},
          "output_type": "execute_result"
        }
      ],
      "source": [
        "from ultralytics import YOLO\n",
        "\n",
        "model = YOLO(best_yolov8)\n",
        "\n",
        "model.export(\n",
        "    format=\"tflite\",\n",
        "    half=True,\n",
        "    device=0\n",
        ")"
      ]
    },
    {
      "cell_type": "markdown",
      "metadata": {
        "id": "pd5ZyFv8uyrI"
      },
      "source": [
        "## **Dynamic Quantization using Pytorch and Tensorflow**"
      ]
    },
    {
      "cell_type": "markdown",
      "metadata": {
        "id": "dKsW0RZThuRs"
      },
      "source": [
        "## Exporting ONNX Format"
      ]
    },
    {
      "cell_type": "code",
      "execution_count": null,
      "metadata": {
        "colab": {
          "base_uri": "https://localhost:8080/",
          "height": 306
        },
        "id": "41puMIpZhoAo",
        "outputId": "a404886f-c7dc-4b83-e8fa-86a007c5ea27"
      },
      "outputs": [
        {
          "name": "stdout",
          "output_type": "stream",
          "text": [
            "Ultralytics 8.3.98 🚀 Python-3.11.11 torch-2.6.0+cu124 CUDA:0 (Tesla T4, 15095MiB)\n",
            "YOLOv8n summary (fused): 72 layers, 3,009,158 parameters, 0 gradients, 8.1 GFLOPs\n",
            "\n",
            "\u001b[34m\u001b[1mPyTorch:\u001b[0m starting from '/content/gdrive/MyDrive/best_yolov8.pt' with input shape (1, 3, 640, 640) BCHW and output shape(s) (1, 22, 8400) (6.0 MB)\n",
            "\n",
            "\u001b[34m\u001b[1mONNX:\u001b[0m starting export with onnx 1.16.1 opset 19...\n",
            "\u001b[34m\u001b[1mONNX:\u001b[0m slimming with onnxslim 0.1.49...\n",
            "\u001b[34m\u001b[1mONNX:\u001b[0m export success ✅ 2.3s, saved as '/content/gdrive/MyDrive/best_yolov8.onnx' (11.7 MB)\n",
            "\n",
            "Export complete (2.7s)\n",
            "Results saved to \u001b[1m/content/gdrive/MyDrive\u001b[0m\n",
            "Predict:         yolo predict task=detect model=/content/gdrive/MyDrive/best_yolov8.onnx imgsz=640  \n",
            "Validate:        yolo val task=detect model=/content/gdrive/MyDrive/best_yolov8.onnx imgsz=640 data=/root/Desktop/workspace/Realtime Obstacle Detector/dataset2/data.yaml  \n",
            "Visualize:       https://netron.app\n"
          ]
        },
        {
          "data": {
            "application/vnd.google.colaboratory.intrinsic+json": {
              "type": "string"
            },
            "text/plain": [
              "'/content/gdrive/MyDrive/best_yolov8.onnx'"
            ]
          },
          "execution_count": 7,
          "metadata": {},
          "output_type": "execute_result"
        }
      ],
      "source": [
        "from ultralytics import YOLO\n",
        "\n",
        "model = YOLO(best_yolov8)\n",
        "model.export(\n",
        "    format=\"onnx\",\n",
        "    device=0\n",
        ")"
      ]
    },
    {
      "cell_type": "code",
      "execution_count": null,
      "metadata": {
        "id": "HD3Q4D8KhfRr"
      },
      "outputs": [],
      "source": [
        "!python -m onnxruntime.quantization.preprocess --input /content/gdrive/MyDrive/best_yolov8.onnx --output /content/gdrive/MyDrive/best_yolov8_preprocessed.onnx"
      ]
    },
    {
      "cell_type": "markdown",
      "metadata": {
        "id": "yk81-o6Uiayv"
      },
      "source": [
        "# Quantizationf for INT8 over exported model"
      ]
    },
    {
      "cell_type": "code",
      "execution_count": null,
      "metadata": {
        "id": "H3NyUIELidYV"
      },
      "outputs": [],
      "source": [
        "from onnxruntime.quantization import quantize_dynamic, QuantType\n",
        "\n",
        "preprocessed_onnx = '/content/gdrive/MyDrive/best_yolov8_preprocessed.onnx'\n",
        "model_int8 = '/content/gdrive/MyDrive/int8_dynamic_quantized.onnx'\n",
        "\n",
        "quantize_dynamic(preprocessed_onnx, model_int8, weight_type=QuantType.QUInt8)"
      ]
    },
    {
      "cell_type": "code",
      "execution_count": null,
      "metadata": {
        "colab": {
          "base_uri": "https://localhost:8080/",
          "height": 143
        },
        "id": "4ZaRhQbFjMqg",
        "outputId": "f0754e59-52c9-4cf5-d1cd-772c2b053ed1"
      },
      "outputs": [
        {
          "data": {
            "application/vnd.google.colaboratory.intrinsic+json": {
              "type": "string"
            },
            "text/plain": [
              "\"graph main_graph (\\n  %images[FLOAT, 1x3x640x640]\\n) initializers (\\n  %model.0.conv.bias[FLOAT, 16]\\n  %model.1.conv.bias[FLOAT, 32]\\n  %model.2.cv1.conv.bias[FLOAT, 32]\\n  %onnx::Split_137[INT64, 2]\\n  %model.2.m.0.cv1.conv.bias[FLOAT, 16]\\n  %model.2.m.0.cv2.conv.bias[FLOAT, 16]\\n  %model.2.cv2.conv.bias[FLOAT, 32]\\n  %model.3.conv.bias[FLOAT, 64]\\n  %model.4.cv1.conv.bias[FLOAT, 64]\\n  %onnx::Split_157[INT64, 2]\\n  %model.4.m.0.cv1.conv.bias[FLOAT, 32]\\n  %model.4.m.0.cv2.conv.bias[FLOAT, 32]\\n  %model.4.m.1.cv1.conv.bias[FLOAT, 32]\\n  %model.4.m.1.cv2.conv.bias[FLOAT, 32]\\n  %model.4.cv2.conv.bias[FLOAT, 64]\\n  %model.5.conv.bias[FLOAT, 128]\\n  %model.6.cv1.conv.bias[FLOAT, 128]\\n  %onnx::Split_184[INT64, 2]\\n  %model.6.m.0.cv1.conv.bias[FLOAT, 64]\\n  %model.6.m.0.cv2.conv.bias[FLOAT, 64]\\n  %model.6.m.1.cv1.conv.bias[FLOAT, 64]\\n  %model.6.m.1.cv2.conv.bias[FLOAT, 64]\\n  %model.6.cv2.conv.bias[FLOAT, 128]\\n  %model.7.conv.bias[FLOAT, 256]\\n  %model.8.cv1.conv.bias[FLOAT, 256]\\n  %onnx::Split_211[INT64, 2]\\n  %model.8.m.0.cv1.conv.bias[FLOAT, 128]\\n  %model.8.m.0.cv2.conv.bias[FLOAT, 128]\\n  %model.8.cv2.conv.bias[FLOAT, 256]\\n  %model.9.cv1.conv.bias[FLOAT, 128]\\n  %model.9.cv2.conv.bias[FLOAT, 256]\\n  %/model.10/Concat_1_output_0[INT64, 4]\\n  %model.12.cv1.conv.bias[FLOAT, 128]\\n  %model.12.m.0.cv1.conv.bias[FLOAT, 64]\\n  %model.12.m.0.cv2.conv.bias[FLOAT, 64]\\n  %model.12.cv2.conv.bias[FLOAT, 128]\\n  %/model.13/Concat_1_output_0[INT64, 4]\\n  %model.15.cv1.conv.bias[FLOAT, 64]\\n  %model.15.m.0.cv1.conv.bias[FLOAT, 32]\\n  %model.15.m.0.cv2.conv.bias[FLOAT, 32]\\n  %model.15.cv2.conv.bias[FLOAT, 64]\\n  %model.16.conv.bias[FLOAT, 64]\\n  %model.22.cv2.0.0.conv.bias[FLOAT, 64]\\n  %model.22.cv3.0.0.conv.bias[FLOAT, 64]\\n  %model.22.cv2.0.1.conv.bias[FLOAT, 64]\\n  %model.22.cv3.0.1.conv.bias[FLOAT, 64]\\n  %model.18.cv1.conv.bias[FLOAT, 128]\\n  %model.22.cv2.0.2.bias[FLOAT, 64]\\n  %model.22.cv3.0.2.bias[FLOAT, 18]\\n  %model.18.m.0.cv1.conv.bias[FLOAT, 64]\\n  %/model.22/Constant_output_0[INT64, 3]\\n  %model.18.m.0.cv2.conv.bias[FLOAT, 64]\\n  %model.18.cv2.conv.bias[FLOAT, 128]\\n  %model.19.conv.bias[FLOAT, 128]\\n  %model.22.cv2.1.0.conv.bias[FLOAT, 64]\\n  %model.22.cv3.1.0.conv.bias[FLOAT, 64]\\n  %model.22.cv2.1.1.conv.bias[FLOAT, 64]\\n  %model.22.cv3.1.1.conv.bias[FLOAT, 64]\\n  %model.21.cv1.conv.bias[FLOAT, 256]\\n  %model.22.cv2.1.2.bias[FLOAT, 64]\\n  %model.22.cv3.1.2.bias[FLOAT, 18]\\n  %model.21.m.0.cv1.conv.bias[FLOAT, 128]\\n  %model.21.m.0.cv2.conv.bias[FLOAT, 128]\\n  %model.21.cv2.conv.bias[FLOAT, 256]\\n  %model.22.cv2.2.0.conv.bias[FLOAT, 64]\\n  %model.22.cv3.2.0.conv.bias[FLOAT, 64]\\n  %model.22.cv2.2.1.conv.bias[FLOAT, 64]\\n  %model.22.cv3.2.1.conv.bias[FLOAT, 64]\\n  %model.22.cv2.2.2.bias[FLOAT, 64]\\n  %model.22.cv3.2.2.bias[FLOAT, 18]\\n  %onnx::Split_416[INT64, 2]\\n  %/model.22/dfl/Constant_output_0[INT64, 4]\\n  %/model.22/dfl/Constant_1_output_0[INT64, 3]\\n  %/model.22/Constant_4_output_0[INT64, 1]\\n  %/model.22/Mul_output_0[INT64, 1]\\n  %/model.22/Constant_3_output_0[INT64, 1]\\n  %/model.22/Mul_1_output_0[INT64, 1]\\n  %/model.22/Constant_9_output_0[FLOAT, 1x2x8400]\\n  %/model.22/Constant_10_output_0[FLOAT, 1x2x8400]\\n  %/model.22/Constant_11_output_0[FLOAT, scalar]\\n  %/model.22/Constant_12_output_0[FLOAT, 1x8400]\\n  %model.0.conv.weight_scale[FLOAT, scalar]\\n  %model.0.conv.weight_zero_point[UINT8, scalar]\\n  %model.0.conv.weight_quantized[UINT8, 16x3x3x3]\\n  %/model.0/conv/Conv_output_0_bias_reshape_shape[INT64, 4]\\n  %model.1.conv.weight_scale[FLOAT, scalar]\\n  %model.1.conv.weight_zero_point[UINT8, scalar]\\n  %model.1.conv.weight_quantized[UINT8, 32x16x3x3]\\n  %/model.1/conv/Conv_output_0_bias_reshape_shape[INT64, 4]\\n  %model.2.cv1.conv.weight_scale[FLOAT, scalar]\\n  %model.2.cv1.conv.weight_zero_point[UINT8, scalar]\\n  %model.2.cv1.conv.weight_quantized[UINT8, 32x32x1x1]\\n  %/model.2/cv1/conv/Conv_output_0_bias_reshape_shape[INT64, 4]\\n  %model.2.m.0.cv1.conv.weight_scale[FLOAT, scalar]\\n  %model.2.m.0.cv1.conv.weight_zero_point[UINT8, scalar]\\n  %model.2.m.0.cv1.conv.weight_quantized[UINT8, 16x16x3x3]\\n  %/model.2/m.0/cv1/conv/Conv_output_0_bias_reshape_shape[INT64, 4]\\n  %model.2.m.0.cv2.conv.weight_scale[FLOAT, scalar]\\n  %model.2.m.0.cv2.conv.weight_zero_point[UINT8, scalar]\\n  %model.2.m.0.cv2.conv.weight_quantized[UINT8, 16x16x3x3]\\n  %/model.2/m.0/cv2/conv/Conv_output_0_bias_reshape_shape[INT64, 4]\\n  %model.2.cv2.conv.weight_scale[FLOAT, scalar]\\n  %model.2.cv2.conv.weight_zero_point[UINT8, scalar]\\n  %model.2.cv2.conv.weight_quantized[UINT8, 32x48x1x1]\\n  %/model.2/cv2/conv/Conv_output_0_bias_reshape_shape[INT64, 4]\\n  %model.3.conv.weight_scale[FLOAT, scalar]\\n  %model.3.conv.weight_zero_point[UINT8, scalar]\\n  %model.3.conv.weight_quantized[UINT8, 64x32x3x3]\\n  %/model.3/conv/Conv_output_0_bias_reshape_shape[INT64, 4]\\n  %model.4.cv1.conv.weight_scale[FLOAT, scalar]\\n  %model.4.cv1.conv.weight_zero_point[UINT8, scalar]\\n  %model.4.cv1.conv.weight_quantized[UINT8, 64x64x1x1]\\n  %/model.4/cv1/conv/Conv_output_0_bias_reshape_shape[INT64, 4]\\n  %model.4.m.0.cv1.conv.weight_scale[FLOAT, scalar]\\n  %model.4.m.0.cv1.conv.weight_zero_point[UINT8, scalar]\\n  %model.4.m.0.cv1.conv.weight_quantized[UINT8, 32x32x3x3]\\n  %/model.4/m.0/cv1/conv/Conv_output_0_bias_reshape_shape[INT64, 4]\\n  %model.4.m.0.cv2.conv.weight_scale[FLOAT, scalar]\\n  %model.4.m.0.cv2.conv.weight_zero_point[UINT8, scalar]\\n  %model.4.m.0.cv2.conv.weight_quantized[UINT8, 32x32x3x3]\\n  %/model.4/m.0/cv2/conv/Conv_output_0_bias_reshape_shape[INT64, 4]\\n  %model.4.m.1.cv1.conv.weight_scale[FLOAT, scalar]\\n  %model.4.m.1.cv1.conv.weight_zero_point[UINT8, scalar]\\n  %model.4.m.1.cv1.conv.weight_quantized[UINT8, 32x32x3x3]\\n  %/model.4/m.1/cv1/conv/Conv_output_0_bias_reshape_shape[INT64, 4]\\n  %model.4.m.1.cv2.conv.weight_scale[FLOAT, scalar]\\n  %model.4.m.1.cv2.conv.weight_zero_point[UINT8, scalar]\\n  %model.4.m.1.cv2.conv.weight_quantized[UINT8, 32x32x3x3]\\n  %/model.4/m.1/cv2/conv/Conv_output_0_bias_reshape_shape[INT64, 4]\\n  %model.4.cv2.conv.weight_scale[FLOAT, scalar]\\n  %model.4.cv2.conv.weight_zero_point[UINT8, scalar]\\n  %model.4.cv2.conv.weight_quantized[UINT8, 64x128x1x1]\\n  %/model.4/cv2/conv/Conv_output_0_bias_reshape_shape[INT64, 4]\\n  %model.5.conv.weight_scale[FLOAT, scalar]\\n  %model.5.conv.weight_zero_point[UINT8, scalar]\\n  %model.5.conv.weight_quantized[UINT8, 128x64x3x3]\\n  %/model.5/conv/Conv_output_0_bias_reshape_shape[INT64, 4]\\n  %model.6.cv1.conv.weight_scale[FLOAT, scalar]\\n  %model.6.cv1.conv.weight_zero_point[UINT8, scalar]\\n  %model.6.cv1.conv.weight_quantized[UINT8, 128x128x1x1]\\n  %/model.6/cv1/conv/Conv_output_0_bias_reshape_shape[INT64, 4]\\n  %model.6.m.0.cv1.conv.weight_scale[FLOAT, scalar]\\n  %model.6.m.0.cv1.conv.weight_zero_point[UINT8, scalar]\\n  %model.6.m.0.cv1.conv.weight_quantized[UINT8, 64x64x3x3]\\n  %/model.6/m.0/cv1/conv/Conv_output_0_bias_reshape_shape[INT64, 4]\\n  %model.6.m.0.cv2.conv.weight_scale[FLOAT, scalar]\\n  %model.6.m.0.cv2.conv.weight_zero_point[UINT8, scalar]\\n  %model.6.m.0.cv2.conv.weight_quantized[UINT8, 64x64x3x3]\\n  %/model.6/m.0/cv2/conv/Conv_output_0_bias_reshape_shape[INT64, 4]\\n  %model.6.m.1.cv1.conv.weight_scale[FLOAT, scalar]\\n  %model.6.m.1.cv1.conv.weight_zero_point[UINT8, scalar]\\n  %model.6.m.1.cv1.conv.weight_quantized[UINT8, 64x64x3x3]\\n  %/model.6/m.1/cv1/conv/Conv_output_0_bias_reshape_shape[INT64, 4]\\n  %model.6.m.1.cv2.conv.weight_scale[FLOAT, scalar]\\n  %model.6.m.1.cv2.conv.weight_zero_point[UINT8, scalar]\\n  %model.6.m.1.cv2.conv.weight_quantized[UINT8, 64x64x3x3]\\n  %/model.6/m.1/cv2/conv/Conv_output_0_bias_reshape_shape[INT64, 4]\\n  %model.6.cv2.conv.weight_scale[FLOAT, scalar]\\n  %model.6.cv2.conv.weight_zero_point[UINT8, scalar]\\n  %model.6.cv2.conv.weight_quantized[UINT8, 128x256x1x1]\\n  %/model.6/cv2/conv/Conv_output_0_bias_reshape_shape[INT64, 4]\\n  %model.7.conv.weight_scale[FLOAT, scalar]\\n  %model.7.conv.weight_zero_point[UINT8, scalar]\\n  %model.7.conv.weight_quantized[UINT8, 256x128x3x3]\\n  %/model.7/conv/Conv_output_0_bias_reshape_shape[INT64, 4]\\n  %model.8.cv1.conv.weight_scale[FLOAT, scalar]\\n  %model.8.cv1.conv.weight_zero_point[UINT8, scalar]\\n  %model.8.cv1.conv.weight_quantized[UINT8, 256x256x1x1]\\n  %/model.8/cv1/conv/Conv_output_0_bias_reshape_shape[INT64, 4]\\n  %model.8.m.0.cv1.conv.weight_scale[FLOAT, scalar]\\n  %model.8.m.0.cv1.conv.weight_zero_point[UINT8, scalar]\\n  %model.8.m.0.cv1.conv.weight_quantized[UINT8, 128x128x3x3]\\n  %/model.8/m.0/cv1/conv/Conv_output_0_bias_reshape_shape[INT64, 4]\\n  %model.8.m.0.cv2.conv.weight_scale[FLOAT, scalar]\\n  %model.8.m.0.cv2.conv.weight_zero_point[UINT8, scalar]\\n  %model.8.m.0.cv2.conv.weight_quantized[UINT8, 128x128x3x3]\\n  %/model.8/m.0/cv2/conv/Conv_output_0_bias_reshape_shape[INT64, 4]\\n  %model.8.cv2.conv.weight_scale[FLOAT, scalar]\\n  %model.8.cv2.conv.weight_zero_point[UINT8, scalar]\\n  %model.8.cv2.conv.weight_quantized[UINT8, 256x384x1x1]\\n  %/model.8/cv2/conv/Conv_output_0_bias_reshape_shape[INT64, 4]\\n  %model.9.cv1.conv.weight_scale[FLOAT, scalar]\\n  %model.9.cv1.conv.weight_zero_point[UINT8, scalar]\\n  %model.9.cv1.conv.weight_quantized[UINT8, 128x256x1x1]\\n  %/model.9/cv1/conv/Conv_output_0_bias_reshape_shape[INT64, 4]\\n  %model.9.cv2.conv.weight_scale[FLOAT, scalar]\\n  %model.9.cv2.conv.weight_zero_point[UINT8, scalar]\\n  %model.9.cv2.conv.weight_quantized[UINT8, 256x512x1x1]\\n  %/model.9/cv2/conv/Conv_output_0_bias_reshape_shape[INT64, 4]\\n  %model.12.cv1.conv.weight_scale[FLOAT, scalar]\\n  %model.12.cv1.conv.weight_zero_point[UINT8, scalar]\\n  %model.12.cv1.conv.weight_quantized[UINT8, 128x384x1x1]\\n  %/model.12/cv1/conv/Conv_output_0_bias_reshape_shape[INT64, 4]\\n  %model.12.m.0.cv1.conv.weight_scale[FLOAT, scalar]\\n  %model.12.m.0.cv1.conv.weight_zero_point[UINT8, scalar]\\n  %model.12.m.0.cv1.conv.weight_quantized[UINT8, 64x64x3x3]\\n  %/model.12/m.0/cv1/conv/Conv_output_0_bias_reshape_shape[INT64, 4]\\n  %model.12.m.0.cv2.conv.weight_scale[FLOAT, scalar]\\n  %model.12.m.0.cv2.conv.weight_zero_point[UINT8, scalar]\\n  %model.12.m.0.cv2.conv.weight_quantized[UINT8, 64x64x3x3]\\n  %/model.12/m.0/cv2/conv/Conv_output_0_bias_reshape_shape[INT64, 4]\\n  %model.12.cv2.conv.weight_scale[FLOAT, scalar]\\n  %model.12.cv2.conv.weight_zero_point[UINT8, scalar]\\n  %model.12.cv2.conv.weight_quantized[UINT8, 128x192x1x1]\\n  %/model.12/cv2/conv/Conv_output_0_bias_reshape_shape[INT64, 4]\\n  %model.15.cv1.conv.weight_scale[FLOAT, scalar]\\n  %model.15.cv1.conv.weight_zero_point[UINT8, scalar]\\n  %model.15.cv1.conv.weight_quantized[UINT8, 64x192x1x1]\\n  %/model.15/cv1/conv/Conv_output_0_bias_reshape_shape[INT64, 4]\\n  %model.15.m.0.cv1.conv.weight_scale[FLOAT, scalar]\\n  %model.15.m.0.cv1.conv.weight_zero_point[UINT8, scalar]\\n  %model.15.m.0.cv1.conv.weight_quantized[UINT8, 32x32x3x3]\\n  %/model.15/m.0/cv1/conv/Conv_output_0_bias_reshape_shape[INT64, 4]\\n  %model.15.m.0.cv2.conv.weight_scale[FLOAT, scalar]\\n  %model.15.m.0.cv2.conv.weight_zero_point[UINT8, scalar]\\n  %model.15.m.0.cv2.conv.weight_quantized[UINT8, 32x32x3x3]\\n  %/model.15/m.0/cv2/conv/Conv_output_0_bias_reshape_shape[INT64, 4]\\n  %model.15.cv2.conv.weight_scale[FLOAT, scalar]\\n  %model.15.cv2.conv.weight_zero_point[UINT8, scalar]\\n  %model.15.cv2.conv.weight_quantized[UINT8, 64x96x1x1]\\n  %/model.15/cv2/conv/Conv_output_0_bias_reshape_shape[INT64, 4]\\n  %model.16.conv.weight_scale[FLOAT, scalar]\\n  %model.16.conv.weight_zero_point[UINT8, scalar]\\n  %model.16.conv.weight_quantized[UINT8, 64x64x3x3]\\n  %/model.16/conv/Conv_output_0_bias_reshape_shape[INT64, 4]\\n  %model.22.cv2.0.0.conv.weight_scale[FLOAT, scalar]\\n  %model.22.cv2.0.0.conv.weight_zero_point[UINT8, scalar]\\n  %model.22.cv2.0.0.conv.weight_quantized[UINT8, 64x64x3x3]\\n  %/model.22/cv2.0/cv2.0.0/conv/Conv_output_0_bias_reshape_shape[INT64, 4]\\n  %model.22.cv3.0.0.conv.weight_scale[FLOAT, scalar]\\n  %model.22.cv3.0.0.conv.weight_zero_point[UINT8, scalar]\\n  %model.22.cv3.0.0.conv.weight_quantized[UINT8, 64x64x3x3]\\n  %/model.22/cv3.0/cv3.0.0/conv/Conv_output_0_bias_reshape_shape[INT64, 4]\\n  %model.22.cv2.0.1.conv.weight_scale[FLOAT, scalar]\\n  %model.22.cv2.0.1.conv.weight_zero_point[UINT8, scalar]\\n  %model.22.cv2.0.1.conv.weight_quantized[UINT8, 64x64x3x3]\\n  %/model.22/cv2.0/cv2.0.1/conv/Conv_output_0_bias_reshape_shape[INT64, 4]\\n  %model.22.cv3.0.1.conv.weight_scale[FLOAT, scalar]\\n  %model.22.cv3.0.1.conv.weight_zero_point[UINT8, scalar]\\n  %model.22.cv3.0.1.conv.weight_quantized[UINT8, 64x64x3x3]\\n  %/model.22/cv3.0/cv3.0.1/conv/Conv_output_0_bias_reshape_shape[INT64, 4]\\n  %model.18.cv1.conv.weight_scale[FLOAT, scalar]\\n  %model.18.cv1.conv.weight_zero_point[UINT8, scalar]\\n  %model.18.cv1.conv.weight_quantized[UINT8, 128x192x1x1]\\n  %/model.18/cv1/conv/Conv_output_0_bias_reshape_shape[INT64, 4]\\n  %model.22.cv2.0.2.weight_scale[FLOAT, scalar]\\n  %model.22.cv2.0.2.weight_zero_point[UINT8, scalar]\\n  %model.22.cv2.0.2.weight_quantized[UINT8, 64x64x1x1]\\n  %/model.22/cv2.0/cv2.0.2/Conv_output_0_bias_reshape_shape[INT64, 4]\\n  %model.22.cv3.0.2.weight_scale[FLOAT, scalar]\\n  %model.22.cv3.0.2.weight_zero_point[UINT8, scalar]\\n  %model.22.cv3.0.2.weight_quantized[UINT8, 18x64x1x1]\\n  %/model.22/cv3.0/cv3.0.2/Conv_output_0_bias_reshape_shape[INT64, 4]\\n  %model.18.m.0.cv1.conv.weight_scale[FLOAT, scalar]\\n  %model.18.m.0.cv1.conv.weight_zero_point[UINT8, scalar]\\n  %model.18.m.0.cv1.conv.weight_quantized[UINT8, 64x64x3x3]\\n  %/model.18/m.0/cv1/conv/Conv_output_0_bias_reshape_shape[INT64, 4]\\n  %model.18.m.0.cv2.conv.weight_scale[FLOAT, scalar]\\n  %model.18.m.0.cv2.conv.weight_zero_point[UINT8, scalar]\\n  %model.18.m.0.cv2.conv.weight_quantized[UINT8, 64x64x3x3]\\n  %/model.18/m.0/cv2/conv/Conv_output_0_bias_reshape_shape[INT64, 4]\\n  %model.18.cv2.conv.weight_scale[FLOAT, scalar]\\n  %model.18.cv2.conv.weight_zero_point[UINT8, scalar]\\n  %model.18.cv2.conv.weight_quantized[UINT8, 128x192x1x1]\\n  %/model.18/cv2/conv/Conv_output_0_bias_reshape_shape[INT64, 4]\\n  %model.19.conv.weight_scale[FLOAT, scalar]\\n  %model.19.conv.weight_zero_point[UINT8, scalar]\\n  %model.19.conv.weight_quantized[UINT8, 128x128x3x3]\\n  %/model.19/conv/Conv_output_0_bias_reshape_shape[INT64, 4]\\n  %model.22.cv2.1.0.conv.weight_scale[FLOAT, scalar]\\n  %model.22.cv2.1.0.conv.weight_zero_point[UINT8, scalar]\\n  %model.22.cv2.1.0.conv.weight_quantized[UINT8, 64x128x3x3]\\n  %/model.22/cv2.1/cv2.1.0/conv/Conv_output_0_bias_reshape_shape[INT64, 4]\\n  %model.22.cv3.1.0.conv.weight_scale[FLOAT, scalar]\\n  %model.22.cv3.1.0.conv.weight_zero_point[UINT8, scalar]\\n  %model.22.cv3.1.0.conv.weight_quantized[UINT8, 64x128x3x3]\\n  %/model.22/cv3.1/cv3.1.0/conv/Conv_output_0_bias_reshape_shape[INT64, 4]\\n  %model.22.cv2.1.1.conv.weight_scale[FLOAT, scalar]\\n  %model.22.cv2.1.1.conv.weight_zero_point[UINT8, scalar]\\n  %model.22.cv2.1.1.conv.weight_quantized[UINT8, 64x64x3x3]\\n  %/model.22/cv2.1/cv2.1.1/conv/Conv_output_0_bias_reshape_shape[INT64, 4]\\n  %model.22.cv3.1.1.conv.weight_scale[FLOAT, scalar]\\n  %model.22.cv3.1.1.conv.weight_zero_point[UINT8, scalar]\\n  %model.22.cv3.1.1.conv.weight_quantized[UINT8, 64x64x3x3]\\n  %/model.22/cv3.1/cv3.1.1/conv/Conv_output_0_bias_reshape_shape[INT64, 4]\\n  %model.21.cv1.conv.weight_scale[FLOAT, scalar]\\n  %model.21.cv1.conv.weight_zero_point[UINT8, scalar]\\n  %model.21.cv1.conv.weight_quantized[UINT8, 256x384x1x1]\\n  %/model.21/cv1/conv/Conv_output_0_bias_reshape_shape[INT64, 4]\\n  %model.22.cv2.1.2.weight_scale[FLOAT, scalar]\\n  %model.22.cv2.1.2.weight_zero_point[UINT8, scalar]\\n  %model.22.cv2.1.2.weight_quantized[UINT8, 64x64x1x1]\\n  %/model.22/cv2.1/cv2.1.2/Conv_output_0_bias_reshape_shape[INT64, 4]\\n  %model.22.cv3.1.2.weight_scale[FLOAT, scalar]\\n  %model.22.cv3.1.2.weight_zero_point[UINT8, scalar]\\n  %model.22.cv3.1.2.weight_quantized[UINT8, 18x64x1x1]\\n  %/model.22/cv3.1/cv3.1.2/Conv_output_0_bias_reshape_shape[INT64, 4]\\n  %model.21.m.0.cv1.conv.weight_scale[FLOAT, scalar]\\n  %model.21.m.0.cv1.conv.weight_zero_point[UINT8, scalar]\\n  %model.21.m.0.cv1.conv.weight_quantized[UINT8, 128x128x3x3]\\n  %/model.21/m.0/cv1/conv/Conv_output_0_bias_reshape_shape[INT64, 4]\\n  %model.21.m.0.cv2.conv.weight_scale[FLOAT, scalar]\\n  %model.21.m.0.cv2.conv.weight_zero_point[UINT8, scalar]\\n  %model.21.m.0.cv2.conv.weight_quantized[UINT8, 128x128x3x3]\\n  %/model.21/m.0/cv2/conv/Conv_output_0_bias_reshape_shape[INT64, 4]\\n  %model.21.cv2.conv.weight_scale[FLOAT, scalar]\\n  %model.21.cv2.conv.weight_zero_point[UINT8, scalar]\\n  %model.21.cv2.conv.weight_quantized[UINT8, 256x384x1x1]\\n  %/model.21/cv2/conv/Conv_output_0_bias_reshape_shape[INT64, 4]\\n  %model.22.cv2.2.0.conv.weight_scale[FLOAT, scalar]\\n  %model.22.cv2.2.0.conv.weight_zero_point[UINT8, scalar]\\n  %model.22.cv2.2.0.conv.weight_quantized[UINT8, 64x256x3x3]\\n  %/model.22/cv2.2/cv2.2.0/conv/Conv_output_0_bias_reshape_shape[INT64, 4]\\n  %model.22.cv3.2.0.conv.weight_scale[FLOAT, scalar]\\n  %model.22.cv3.2.0.conv.weight_zero_point[UINT8, scalar]\\n  %model.22.cv3.2.0.conv.weight_quantized[UINT8, 64x256x3x3]\\n  %/model.22/cv3.2/cv3.2.0/conv/Conv_output_0_bias_reshape_shape[INT64, 4]\\n  %model.22.cv2.2.1.conv.weight_scale[FLOAT, scalar]\\n  %model.22.cv2.2.1.conv.weight_zero_point[UINT8, scalar]\\n  %model.22.cv2.2.1.conv.weight_quantized[UINT8, 64x64x3x3]\\n  %/model.22/cv2.2/cv2.2.1/conv/Conv_output_0_bias_reshape_shape[INT64, 4]\\n  %model.22.cv3.2.1.conv.weight_scale[FLOAT, scalar]\\n  %model.22.cv3.2.1.conv.weight_zero_point[UINT8, scalar]\\n  %model.22.cv3.2.1.conv.weight_quantized[UINT8, 64x64x3x3]\\n  %/model.22/cv3.2/cv3.2.1/conv/Conv_output_0_bias_reshape_shape[INT64, 4]\\n  %model.22.cv2.2.2.weight_scale[FLOAT, scalar]\\n  %model.22.cv2.2.2.weight_zero_point[UINT8, scalar]\\n  %model.22.cv2.2.2.weight_quantized[UINT8, 64x64x1x1]\\n  %/model.22/cv2.2/cv2.2.2/Conv_output_0_bias_reshape_shape[INT64, 4]\\n  %model.22.cv3.2.2.weight_scale[FLOAT, scalar]\\n  %model.22.cv3.2.2.weight_zero_point[UINT8, scalar]\\n  %model.22.cv3.2.2.weight_quantized[UINT8, 18x64x1x1]\\n  %/model.22/cv3.2/cv3.2.2/Conv_output_0_bias_reshape_shape[INT64, 4]\\n  %model.22.dfl.conv.weight_scale[FLOAT, scalar]\\n  %model.22.dfl.conv.weight_zero_point[UINT8, scalar]\\n  %model.22.dfl.conv.weight_quantized[UINT8, 1x16x1x1]\\n) {\\n  %images_quantized, %images_scale, %images_zero_point = DynamicQuantizeLinear(%images)\\n  %/model.0/conv/Conv_output_0_bias_reshape_output = Reshape(%model.0.conv.bias, %/model.0/conv/Conv_output_0_bias_reshape_shape)\\n  %/model.1/conv/Conv_output_0_bias_reshape_output = Reshape(%model.1.conv.bias, %/model.1/conv/Conv_output_0_bias_reshape_shape)\\n  %/model.12/cv1/conv/Conv_output_0_bias_reshape_output = Reshape(%model.12.cv1.conv.bias, %/model.12/cv1/conv/Conv_output_0_bias_reshape_shape)\\n  %/model.12/cv2/conv/Conv_output_0_bias_reshape_output = Reshape(%model.12.cv2.conv.bias, %/model.12/cv2/conv/Conv_output_0_bias_reshape_shape)\\n  %/model.12/m.0/cv1/conv/Conv_output_0_bias_reshape_output = Reshape(%model.12.m.0.cv1.conv.bias, %/model.12/m.0/cv1/conv/Conv_output_0_bias_reshape_shape)\\n  %/model.12/m.0/cv2/conv/Conv_output_0_bias_reshape_output = Reshape(%model.12.m.0.cv2.conv.bias, %/model.12/m.0/cv2/conv/Conv_output_0_bias_reshape_shape)\\n  %/model.15/cv1/conv/Conv_output_0_bias_reshape_output = Reshape(%model.15.cv1.conv.bias, %/model.15/cv1/conv/Conv_output_0_bias_reshape_shape)\\n  %/model.15/cv2/conv/Conv_output_0_bias_reshape_output = Reshape(%model.15.cv2.conv.bias, %/model.15/cv2/conv/Conv_output_0_bias_reshape_shape)\\n  %/model.15/m.0/cv1/conv/Conv_output_0_bias_reshape_output = Reshape(%model.15.m.0.cv1.conv.bias, %/model.15/m.0/cv1/conv/Conv_output_0_bias_reshape_shape)\\n  %/model.15/m.0/cv2/conv/Conv_output_0_bias_reshape_output = Reshape(%model.15.m.0.cv2.conv.bias, %/model.15/m.0/cv2/conv/Conv_output_0_bias_reshape_shape)\\n  %/model.16/conv/Conv_output_0_bias_reshape_output = Reshape(%model.16.conv.bias, %/model.16/conv/Conv_output_0_bias_reshape_shape)\\n  %/model.18/cv1/conv/Conv_output_0_bias_reshape_output = Reshape(%model.18.cv1.conv.bias, %/model.18/cv1/conv/Conv_output_0_bias_reshape_shape)\\n  %/model.18/cv2/conv/Conv_output_0_bias_reshape_output = Reshape(%model.18.cv2.conv.bias, %/model.18/cv2/conv/Conv_output_0_bias_reshape_shape)\\n  %/model.18/m.0/cv1/conv/Conv_output_0_bias_reshape_output = Reshape(%model.18.m.0.cv1.conv.bias, %/model.18/m.0/cv1/conv/Conv_output_0_bias_reshape_shape)\\n  %/model.18/m.0/cv2/conv/Conv_output_0_bias_reshape_output = Reshape(%model.18.m.0.cv2.conv.bias, %/model.18/m.0/cv2/conv/Conv_output_0_bias_reshape_shape)\\n  %/model.19/conv/Conv_output_0_bias_reshape_output = Reshape(%model.19.conv.bias, %/model.19/conv/Conv_output_0_bias_reshape_shape)\\n  %/model.2/cv1/conv/Conv_output_0_bias_reshape_output = Reshape(%model.2.cv1.conv.bias, %/model.2/cv1/conv/Conv_output_0_bias_reshape_shape)\\n  %/model.2/cv2/conv/Conv_output_0_bias_reshape_output = Reshape(%model.2.cv2.conv.bias, %/model.2/cv2/conv/Conv_output_0_bias_reshape_shape)\\n  %/model.2/m.0/cv1/conv/Conv_output_0_bias_reshape_output = Reshape(%model.2.m.0.cv1.conv.bias, %/model.2/m.0/cv1/conv/Conv_output_0_bias_reshape_shape)\\n  %/model.2/m.0/cv2/conv/Conv_output_0_bias_reshape_output = Reshape(%model.2.m.0.cv2.conv.bias, %/model.2/m.0/cv2/conv/Conv_output_0_bias_reshape_shape)\\n  %/model.21/cv1/conv/Conv_output_0_bias_reshape_output = Reshape(%model.21.cv1.conv.bias, %/model.21/cv1/conv/Conv_output_0_bias_reshape_shape)\\n  %/model.21/cv2/conv/Conv_output_0_bias_reshape_output = Reshape(%model.21.cv2.conv.bias, %/model.21/cv2/conv/Conv_output_0_bias_reshape_shape)\\n  %/model.21/m.0/cv1/conv/Conv_output_0_bias_reshape_output = Reshape(%model.21.m.0.cv1.conv.bias, %/model.21/m.0/cv1/conv/Conv_output_0_bias_reshape_shape)\\n  %/model.21/m.0/cv2/conv/Conv_output_0_bias_reshape_output = Reshape(%model.21.m.0.cv2.conv.bias, %/model.21/m.0/cv2/conv/Conv_output_0_bias_reshape_shape)\\n  %/model.22/cv2.0/cv2.0.0/conv/Conv_output_0_bias_reshape_output = Reshape(%model.22.cv2.0.0.conv.bias, %/model.22/cv2.0/cv2.0.0/conv/Conv_output_0_bias_reshape_shape)\\n  %/model.22/cv2.0/cv2.0.1/conv/Conv_output_0_bias_reshape_output = Reshape(%model.22.cv2.0.1.conv.bias, %/model.22/cv2.0/cv2.0.1/conv/Conv_output_0_bias_reshape_shape)\\n  %/model.22/cv2.0/cv2.0.2/Conv_output_0_bias_reshape_output = Reshape(%model.22.cv2.0.2.bias, %/model.22/cv2.0/cv2.0.2/Conv_output_0_bias_reshape_shape)\\n  %/model.22/cv2.1/cv2.1.0/conv/Conv_output_0_bias_reshape_output = Reshape(%model.22.cv2.1.0.conv.bias, %/model.22/cv2.1/cv2.1.0/conv/Conv_output_0_bias_reshape_shape)\\n  %/model.22/cv2.1/cv2.1.1/conv/Conv_output_0_bias_reshape_output = Reshape(%model.22.cv2.1.1.conv.bias, %/model.22/cv2.1/cv2.1.1/conv/Conv_output_0_bias_reshape_shape)\\n  %/model.22/cv2.1/cv2.1.2/Conv_output_0_bias_reshape_output = Reshape(%model.22.cv2.1.2.bias, %/model.22/cv2.1/cv2.1.2/Conv_output_0_bias_reshape_shape)\\n  %/model.22/cv2.2/cv2.2.0/conv/Conv_output_0_bias_reshape_output = Reshape(%model.22.cv2.2.0.conv.bias, %/model.22/cv2.2/cv2.2.0/conv/Conv_output_0_bias_reshape_shape)\\n  %/model.22/cv2.2/cv2.2.1/conv/Conv_output_0_bias_reshape_output = Reshape(%model.22.cv2.2.1.conv.bias, %/model.22/cv2.2/cv2.2.1/conv/Conv_output_0_bias_reshape_shape)\\n  %/model.22/cv2.2/cv2.2.2/Conv_output_0_bias_reshape_output = Reshape(%model.22.cv2.2.2.bias, %/model.22/cv2.2/cv2.2.2/Conv_output_0_bias_reshape_shape)\\n  %/model.22/cv3.0/cv3.0.0/conv/Conv_output_0_bias_reshape_output = Reshape(%model.22.cv3.0.0.conv.bias, %/model.22/cv3.0/cv3.0.0/conv/Conv_output_0_bias_reshape_shape)\\n  %/model.22/cv3.0/cv3.0.1/conv/Conv_output_0_bias_reshape_output = Reshape(%model.22.cv3.0.1.conv.bias, %/model.22/cv3.0/cv3.0.1/conv/Conv_output_0_bias_reshape_shape)\\n  %/model.22/cv3.0/cv3.0.2/Conv_output_0_bias_reshape_output = Reshape(%model.22.cv3.0.2.bias, %/model.22/cv3.0/cv3.0.2/Conv_output_0_bias_reshape_shape)\\n  %/model.22/cv3.1/cv3.1.0/conv/Conv_output_0_bias_reshape_output = Reshape(%model.22.cv3.1.0.conv.bias, %/model.22/cv3.1/cv3.1.0/conv/Conv_output_0_bias_reshape_shape)\\n  %/model.22/cv3.1/cv3.1.1/conv/Conv_output_0_bias_reshape_output = Reshape(%model.22.cv3.1.1.conv.bias, %/model.22/cv3.1/cv3.1.1/conv/Conv_output_0_bias_reshape_shape)\\n  %/model.22/cv3.1/cv3.1.2/Conv_output_0_bias_reshape_output = Reshape(%model.22.cv3.1.2.bias, %/model.22/cv3.1/cv3.1.2/Conv_output_0_bias_reshape_shape)\\n  %/model.22/cv3.2/cv3.2.0/conv/Conv_output_0_bias_reshape_output = Reshape(%model.22.cv3.2.0.conv.bias, %/model.22/cv3.2/cv3.2.0/conv/Conv_output_0_bias_reshape_shape)\\n  %/model.22/cv3.2/cv3.2.1/conv/Conv_output_0_bias_reshape_output = Reshape(%model.22.cv3.2.1.conv.bias, %/model.22/cv3.2/cv3.2.1/conv/Conv_output_0_bias_reshape_shape)\\n  %/model.22/cv3.2/cv3.2.2/Conv_output_0_bias_reshape_output = Reshape(%model.22.cv3.2.2.bias, %/model.22/cv3.2/cv3.2.2/Conv_output_0_bias_reshape_shape)\\n  %/model.3/conv/Conv_output_0_bias_reshape_output = Reshape(%model.3.conv.bias, %/model.3/conv/Conv_output_0_bias_reshape_shape)\\n  %/model.4/cv1/conv/Conv_output_0_bias_reshape_output = Reshape(%model.4.cv1.conv.bias, %/model.4/cv1/conv/Conv_output_0_bias_reshape_shape)\\n  %/model.4/cv2/conv/Conv_output_0_bias_reshape_output = Reshape(%model.4.cv2.conv.bias, %/model.4/cv2/conv/Conv_output_0_bias_reshape_shape)\\n  %/model.4/m.0/cv1/conv/Conv_output_0_bias_reshape_output = Reshape(%model.4.m.0.cv1.conv.bias, %/model.4/m.0/cv1/conv/Conv_output_0_bias_reshape_shape)\\n  %/model.4/m.0/cv2/conv/Conv_output_0_bias_reshape_output = Reshape(%model.4.m.0.cv2.conv.bias, %/model.4/m.0/cv2/conv/Conv_output_0_bias_reshape_shape)\\n  %/model.4/m.1/cv1/conv/Conv_output_0_bias_reshape_output = Reshape(%model.4.m.1.cv1.conv.bias, %/model.4/m.1/cv1/conv/Conv_output_0_bias_reshape_shape)\\n  %/model.4/m.1/cv2/conv/Conv_output_0_bias_reshape_output = Reshape(%model.4.m.1.cv2.conv.bias, %/model.4/m.1/cv2/conv/Conv_output_0_bias_reshape_shape)\\n  %/model.5/conv/Conv_output_0_bias_reshape_output = Reshape(%model.5.conv.bias, %/model.5/conv/Conv_output_0_bias_reshape_shape)\\n  %/model.6/cv1/conv/Conv_output_0_bias_reshape_output = Reshape(%model.6.cv1.conv.bias, %/model.6/cv1/conv/Conv_output_0_bias_reshape_shape)\\n  %/model.6/cv2/conv/Conv_output_0_bias_reshape_output = Reshape(%model.6.cv2.conv.bias, %/model.6/cv2/conv/Conv_output_0_bias_reshape_shape)\\n  %/model.6/m.0/cv1/conv/Conv_output_0_bias_reshape_output = Reshape(%model.6.m.0.cv1.conv.bias, %/model.6/m.0/cv1/conv/Conv_output_0_bias_reshape_shape)\\n  %/model.6/m.0/cv2/conv/Conv_output_0_bias_reshape_output = Reshape(%model.6.m.0.cv2.conv.bias, %/model.6/m.0/cv2/conv/Conv_output_0_bias_reshape_shape)\\n  %/model.6/m.1/cv1/conv/Conv_output_0_bias_reshape_output = Reshape(%model.6.m.1.cv1.conv.bias, %/model.6/m.1/cv1/conv/Conv_output_0_bias_reshape_shape)\\n  %/model.6/m.1/cv2/conv/Conv_output_0_bias_reshape_output = Reshape(%model.6.m.1.cv2.conv.bias, %/model.6/m.1/cv2/conv/Conv_output_0_bias_reshape_shape)\\n  %/model.7/conv/Conv_output_0_bias_reshape_output = Reshape(%model.7.conv.bias, %/model.7/conv/Conv_output_0_bias_reshape_shape)\\n  %/model.8/cv1/conv/Conv_output_0_bias_reshape_output = Reshape(%model.8.cv1.conv.bias, %/model.8/cv1/conv/Conv_output_0_bias_reshape_shape)\\n  %/model.8/cv2/conv/Conv_output_0_bias_reshape_output = Reshape(%model.8.cv2.conv.bias, %/model.8/cv2/conv/Conv_output_0_bias_reshape_shape)\\n  %/model.8/m.0/cv1/conv/Conv_output_0_bias_reshape_output = Reshape(%model.8.m.0.cv1.conv.bias, %/model.8/m.0/cv1/conv/Conv_output_0_bias_reshape_shape)\\n  %/model.8/m.0/cv2/conv/Conv_output_0_bias_reshape_output = Reshape(%model.8.m.0.cv2.conv.bias, %/model.8/m.0/cv2/conv/Conv_output_0_bias_reshape_shape)\\n  %/model.9/cv1/conv/Conv_output_0_bias_reshape_output = Reshape(%model.9.cv1.conv.bias, %/model.9/cv1/conv/Conv_output_0_bias_reshape_shape)\\n  %/model.9/cv2/conv/Conv_output_0_bias_reshape_output = Reshape(%model.9.cv2.conv.bias, %/model.9/cv2/conv/Conv_output_0_bias_reshape_shape)\\n  %/model.0/conv/Conv_quant_scales_mul:0 = Mul(%images_scale, %model.0.conv.weight_scale)\\n  %/model.0/conv/Conv_output_0_output_quantized = ConvInteger[dilations = [1, 1], group = 1, kernel_shape = [3, 3], pads = [1, 1, 1, 1], strides = [2, 2]](%images_quantized, %model.0.conv.weight_quantized, %images_zero_point, %model.0.conv.weight_zero_point)\\n  %/model.0/conv/Conv_output_0_output_quantized_cast_output = Cast[to = 1](%/model.0/conv/Conv_output_0_output_quantized)\\n  %/model.0/conv/Conv_output_0quant_scaled_output = Mul(%/model.0/conv/Conv_output_0_output_quantized_cast_output, %/model.0/conv/Conv_quant_scales_mul:0)\\n  %/model.0/conv/Conv_output_0 = Add(%/model.0/conv/Conv_output_0quant_scaled_output, %/model.0/conv/Conv_output_0_bias_reshape_output)\\n  %/model.0/act/Sigmoid_output_0 = Sigmoid(%/model.0/conv/Conv_output_0)\\n  %/model.0/act/Mul_output_0 = Mul(%/model.0/conv/Conv_output_0, %/model.0/act/Sigmoid_output_0)\\n  %/model.0/act/Mul_output_0_quantized, %/model.0/act/Mul_output_0_scale, %/model.0/act/Mul_output_0_zero_point = DynamicQuantizeLinear(%/model.0/act/Mul_output_0)\\n  %/model.1/conv/Conv_quant_scales_mul:0 = Mul(%/model.0/act/Mul_output_0_scale, %model.1.conv.weight_scale)\\n  %/model.1/conv/Conv_output_0_output_quantized = ConvInteger[dilations = [1, 1], group = 1, kernel_shape = [3, 3], pads = [1, 1, 1, 1], strides = [2, 2]](%/model.0/act/Mul_output_0_quantized, %model.1.conv.weight_quantized, %/model.0/act/Mul_output_0_zero_point, %model.1.conv.weight_zero_point)\\n  %/model.1/conv/Conv_output_0_output_quantized_cast_output = Cast[to = 1](%/model.1/conv/Conv_output_0_output_quantized)\\n  %/model.1/conv/Conv_output_0quant_scaled_output = Mul(%/model.1/conv/Conv_output_0_output_quantized_cast_output, %/model.1/conv/Conv_quant_scales_mul:0)\\n  %/model.1/conv/Conv_output_0 = Add(%/model.1/conv/Conv_output_0quant_scaled_output, %/model.1/conv/Conv_output_0_bias_reshape_output)\\n  %/model.1/act/Sigmoid_output_0 = Sigmoid(%/model.1/conv/Conv_output_0)\\n  %/model.1/act/Mul_output_0 = Mul(%/model.1/conv/Conv_output_0, %/model.1/act/Sigmoid_output_0)\\n  %/model.1/act/Mul_output_0_quantized, %/model.1/act/Mul_output_0_scale, %/model.1/act/Mul_output_0_zero_point = DynamicQuantizeLinear(%/model.1/act/Mul_output_0)\\n  %/model.2/cv1/conv/Conv_quant_scales_mul:0 = Mul(%/model.1/act/Mul_output_0_scale, %model.2.cv1.conv.weight_scale)\\n  %/model.2/cv1/conv/Conv_output_0_output_quantized = ConvInteger[dilations = [1, 1], group = 1, kernel_shape = [1, 1], pads = [0, 0, 0, 0], strides = [1, 1]](%/model.1/act/Mul_output_0_quantized, %model.2.cv1.conv.weight_quantized, %/model.1/act/Mul_output_0_zero_point, %model.2.cv1.conv.weight_zero_point)\\n  %/model.2/cv1/conv/Conv_output_0_output_quantized_cast_output = Cast[to = 1](%/model.2/cv1/conv/Conv_output_0_output_quantized)\\n  %/model.2/cv1/conv/Conv_output_0quant_scaled_output = Mul(%/model.2/cv1/conv/Conv_output_0_output_quantized_cast_output, %/model.2/cv1/conv/Conv_quant_scales_mul:0)\\n  %/model.2/cv1/conv/Conv_output_0 = Add(%/model.2/cv1/conv/Conv_output_0quant_scaled_output, %/model.2/cv1/conv/Conv_output_0_bias_reshape_output)\\n  %/model.2/cv1/act/Sigmoid_output_0 = Sigmoid(%/model.2/cv1/conv/Conv_output_0)\\n  %/model.2/cv1/act/Mul_output_0 = Mul(%/model.2/cv1/conv/Conv_output_0, %/model.2/cv1/act/Sigmoid_output_0)\\n  %/model.2/Split_output_0, %/model.2/Split_output_1 = Split[axis = 1](%/model.2/cv1/act/Mul_output_0, %onnx::Split_137)\\n  %/model.2/Split_output_1_quantized, %/model.2/Split_output_1_scale, %/model.2/Split_output_1_zero_point = DynamicQuantizeLinear(%/model.2/Split_output_1)\\n  %/model.2/m.0/cv1/conv/Conv_quant_scales_mul:0 = Mul(%/model.2/Split_output_1_scale, %model.2.m.0.cv1.conv.weight_scale)\\n  %/model.2/m.0/cv1/conv/Conv_output_0_output_quantized = ConvInteger[dilations = [1, 1], group = 1, kernel_shape = [3, 3], pads = [1, 1, 1, 1], strides = [1, 1]](%/model.2/Split_output_1_quantized, %model.2.m.0.cv1.conv.weight_quantized, %/model.2/Split_output_1_zero_point, %model.2.m.0.cv1.conv.weight_zero_point)\\n  %/model.2/m.0/cv1/conv/Conv_output_0_output_quantized_cast_output = Cast[to = 1](%/model.2/m.0/cv1/conv/Conv_output_0_output_quantized)\\n  %/model.2/m.0/cv1/conv/Conv_output_0quant_scaled_output = Mul(%/model.2/m.0/cv1/conv/Conv_output_0_output_quantized_cast_output, %/model.2/m.0/cv1/conv/Conv_quant_scales_mul:0)\\n  %/model.2/m.0/cv1/conv/Conv_output_0 = Add(%/model.2/m.0/cv1/conv/Conv_output_0quant_scaled_output, %/model.2/m.0/cv1/conv/Conv_output_0_bias_reshape_output)\\n  %/model.2/m.0/cv1/act/Sigmoid_output_0 = Sigmoid(%/model.2/m.0/cv1/conv/Conv_output_0)\\n  %/model.2/m.0/cv1/act/Mul_output_0 = Mul(%/model.2/m.0/cv1/conv/Conv_output_0, %/model.2/m.0/cv1/act/Sigmoid_output_0)\\n  %/model.2/m.0/cv1/act/Mul_output_0_quantized, %/model.2/m.0/cv1/act/Mul_output_0_scale, %/model.2/m.0/cv1/act/Mul_output_0_zero_point = DynamicQuantizeLinear(%/model.2/m.0/cv1/act/Mul_output_0)\\n  %/model.2/m.0/cv2/conv/Conv_quant_scales_mul:0 = Mul(%/model.2/m.0/cv1/act/Mul_output_0_scale, %model.2.m.0.cv2.conv.weight_scale)\\n  %/model.2/m.0/cv2/conv/Conv_output_0_output_quantized = ConvInteger[dilations = [1, 1], group = 1, kernel_shape = [3, 3], pads = [1, 1, 1, 1], strides = [1, 1]](%/model.2/m.0/cv1/act/Mul_output_0_quantized, %model.2.m.0.cv2.conv.weight_quantized, %/model.2/m.0/cv1/act/Mul_output_0_zero_point, %model.2.m.0.cv2.conv.weight_zero_point)\\n  %/model.2/m.0/cv2/conv/Conv_output_0_output_quantized_cast_output = Cast[to = 1](%/model.2/m.0/cv2/conv/Conv_output_0_output_quantized)\\n  %/model.2/m.0/cv2/conv/Conv_output_0quant_scaled_output = Mul(%/model.2/m.0/cv2/conv/Conv_output_0_output_quantized_cast_output, %/model.2/m.0/cv2/conv/Conv_quant_scales_mul:0)\\n  %/model.2/m.0/cv2/conv/Conv_output_0 = Add(%/model.2/m.0/cv2/conv/Conv_output_0quant_scaled_output, %/model.2/m.0/cv2/conv/Conv_output_0_bias_reshape_output)\\n  %/model.2/m.0/cv2/act/Sigmoid_output_0 = Sigmoid(%/model.2/m.0/cv2/conv/Conv_output_0)\\n  %/model.2/m.0/cv2/act/Mul_output_0 = Mul(%/model.2/m.0/cv2/conv/Conv_output_0, %/model.2/m.0/cv2/act/Sigmoid_output_0)\\n  %/model.2/m.0/Add_output_0 = Add(%/model.2/Split_output_1, %/model.2/m.0/cv2/act/Mul_output_0)\\n  %/model.2/Concat_output_0 = Concat[axis = 1](%/model.2/Split_output_0, %/model.2/Split_output_1, %/model.2/m.0/Add_output_0)\\n  %/model.2/Concat_output_0_quantized, %/model.2/Concat_output_0_scale, %/model.2/Concat_output_0_zero_point = DynamicQuantizeLinear(%/model.2/Concat_output_0)\\n  %/model.2/cv2/conv/Conv_quant_scales_mul:0 = Mul(%/model.2/Concat_output_0_scale, %model.2.cv2.conv.weight_scale)\\n  %/model.2/cv2/conv/Conv_output_0_output_quantized = ConvInteger[dilations = [1, 1], group = 1, kernel_shape = [1, 1], pads = [0, 0, 0, 0], strides = [1, 1]](%/model.2/Concat_output_0_quantized, %model.2.cv2.conv.weight_quantized, %/model.2/Concat_output_0_zero_point, %model.2.cv2.conv.weight_zero_point)\\n  %/model.2/cv2/conv/Conv_output_0_output_quantized_cast_output = Cast[to = 1](%/model.2/cv2/conv/Conv_output_0_output_quantized)\\n  %/model.2/cv2/conv/Conv_output_0quant_scaled_output = Mul(%/model.2/cv2/conv/Conv_output_0_output_quantized_cast_output, %/model.2/cv2/conv/Conv_quant_scales_mul:0)\\n  %/model.2/cv2/conv/Conv_output_0 = Add(%/model.2/cv2/conv/Conv_output_0quant_scaled_output, %/model.2/cv2/conv/Conv_output_0_bias_reshape_output)\\n  %/model.2/cv2/act/Sigmoid_output_0 = Sigmoid(%/model.2/cv2/conv/Conv_output_0)\\n  %/model.2/cv2/act/Mul_output_0 = Mul(%/model.2/cv2/conv/Conv_output_0, %/model.2/cv2/act/Sigmoid_output_0)\\n  %/model.2/cv2/act/Mul_output_0_quantized, %/model.2/cv2/act/Mul_output_0_scale, %/model.2/cv2/act/Mul_output_0_zero_point = DynamicQuantizeLinear(%/model.2/cv2/act/Mul_output_0)\\n  %/model.3/conv/Conv_quant_scales_mul:0 = Mul(%/model.2/cv2/act/Mul_output_0_scale, %model.3.conv.weight_scale)\\n  %/model.3/conv/Conv_output_0_output_quantized = ConvInteger[dilations = [1, 1], group = 1, kernel_shape = [3, 3], pads = [1, 1, 1, 1], strides = [2, 2]](%/model.2/cv2/act/Mul_output_0_quantized, %model.3.conv.weight_quantized, %/model.2/cv2/act/Mul_output_0_zero_point, %model.3.conv.weight_zero_point)\\n  %/model.3/conv/Conv_output_0_output_quantized_cast_output = Cast[to = 1](%/model.3/conv/Conv_output_0_output_quantized)\\n  %/model.3/conv/Conv_output_0quant_scaled_output = Mul(%/model.3/conv/Conv_output_0_output_quantized_cast_output, %/model.3/conv/Conv_quant_scales_mul:0)\\n  %/model.3/conv/Conv_output_0 = Add(%/model.3/conv/Conv_output_0quant_scaled_output, %/model.3/conv/Conv_output_0_bias_reshape_output)\\n  %/model.3/act/Sigmoid_output_0 = Sigmoid(%/model.3/conv/Conv_output_0)\\n  %/model.3/act/Mul_output_0 = Mul(%/model.3/conv/Conv_output_0, %/model.3/act/Sigmoid_output_0)\\n  %/model.3/act/Mul_output_0_quantized, %/model.3/act/Mul_output_0_scale, %/model.3/act/Mul_output_0_zero_point = DynamicQuantizeLinear(%/model.3/act/Mul_output_0)\\n  %/model.4/cv1/conv/Conv_quant_scales_mul:0 = Mul(%/model.3/act/Mul_output_0_scale, %model.4.cv1.conv.weight_scale)\\n  %/model.4/cv1/conv/Conv_output_0_output_quantized = ConvInteger[dilations = [1, 1], group = 1, kernel_shape = [1, 1], pads = [0, 0, 0, 0], strides = [1, 1]](%/model.3/act/Mul_output_0_quantized, %model.4.cv1.conv.weight_quantized, %/model.3/act/Mul_output_0_zero_point, %model.4.cv1.conv.weight_zero_point)\\n  %/model.4/cv1/conv/Conv_output_0_output_quantized_cast_output = Cast[to = 1](%/model.4/cv1/conv/Conv_output_0_output_quantized)\\n  %/model.4/cv1/conv/Conv_output_0quant_scaled_output = Mul(%/model.4/cv1/conv/Conv_output_0_output_quantized_cast_output, %/model.4/cv1/conv/Conv_quant_scales_mul:0)\\n  %/model.4/cv1/conv/Conv_output_0 = Add(%/model.4/cv1/conv/Conv_output_0quant_scaled_output, %/model.4/cv1/conv/Conv_output_0_bias_reshape_output)\\n  %/model.4/cv1/act/Sigmoid_output_0 = Sigmoid(%/model.4/cv1/conv/Conv_output_0)\\n  %/model.4/cv1/act/Mul_output_0 = Mul(%/model.4/cv1/conv/Conv_output_0, %/model.4/cv1/act/Sigmoid_output_0)\\n  %/model.4/Split_output_0, %/model.4/Split_output_1 = Split[axis = 1](%/model.4/cv1/act/Mul_output_0, %onnx::Split_157)\\n  %/model.4/Split_output_1_quantized, %/model.4/Split_output_1_scale, %/model.4/Split_output_1_zero_point = DynamicQuantizeLinear(%/model.4/Split_output_1)\\n  %/model.4/m.0/cv1/conv/Conv_quant_scales_mul:0 = Mul(%/model.4/Split_output_1_scale, %model.4.m.0.cv1.conv.weight_scale)\\n  %/model.4/m.0/cv1/conv/Conv_output_0_output_quantized = ConvInteger[dilations = [1, 1], group = 1, kernel_shape = [3, 3], pads = [1, 1, 1, 1], strides = [1, 1]](%/model.4/Split_output_1_quantized, %model.4.m.0.cv1.conv.weight_quantized, %/model.4/Split_output_1_zero_point, %model.4.m.0.cv1.conv.weight_zero_point)\\n  %/model.4/m.0/cv1/conv/Conv_output_0_output_quantized_cast_output = Cast[to = 1](%/model.4/m.0/cv1/conv/Conv_output_0_output_quantized)\\n  %/model.4/m.0/cv1/conv/Conv_output_0quant_scaled_output = Mul(%/model.4/m.0/cv1/conv/Conv_output_0_output_quantized_cast_output, %/model.4/m.0/cv1/conv/Conv_quant_scales_mul:0)\\n  %/model.4/m.0/cv1/conv/Conv_output_0 = Add(%/model.4/m.0/cv1/conv/Conv_output_0quant_scaled_output, %/model.4/m.0/cv1/conv/Conv_output_0_bias_reshape_output)\\n  %/model.4/m.0/cv1/act/Sigmoid_output_0 = Sigmoid(%/model.4/m.0/cv1/conv/Conv_output_0)\\n  %/model.4/m.0/cv1/act/Mul_output_0 = Mul(%/model.4/m.0/cv1/conv/Conv_output_0, %/model.4/m.0/cv1/act/Sigmoid_output_0)\\n  %/model.4/m.0/cv1/act/Mul_output_0_quantized, %/model.4/m.0/cv1/act/Mul_output_0_scale, %/model.4/m.0/cv1/act/Mul_output_0_zero_point = DynamicQuantizeLinear(%/model.4/m.0/cv1/act/Mul_output_0)\\n  %/model.4/m.0/cv2/conv/Conv_quant_scales_mul:0 = Mul(%/model.4/m.0/cv1/act/Mul_output_0_scale, %model.4.m.0.cv2.conv.weight_scale)\\n  %/model.4/m.0/cv2/conv/Conv_output_0_output_quantized = ConvInteger[dilations = [1, 1], group = 1, kernel_shape = [3, 3], pads = [1, 1, 1, 1], strides = [1, 1]](%/model.4/m.0/cv1/act/Mul_output_0_quantized, %model.4.m.0.cv2.conv.weight_quantized, %/model.4/m.0/cv1/act/Mul_output_0_zero_point, %model.4.m.0.cv2.conv.weight_zero_point)\\n  %/model.4/m.0/cv2/conv/Conv_output_0_output_quantized_cast_output = Cast[to = 1](%/model.4/m.0/cv2/conv/Conv_output_0_output_quantized)\\n  %/model.4/m.0/cv2/conv/Conv_output_0quant_scaled_output = Mul(%/model.4/m.0/cv2/conv/Conv_output_0_output_quantized_cast_output, %/model.4/m.0/cv2/conv/Conv_quant_scales_mul:0)\\n  %/model.4/m.0/cv2/conv/Conv_output_0 = Add(%/model.4/m.0/cv2/conv/Conv_output_0quant_scaled_output, %/model.4/m.0/cv2/conv/Conv_output_0_bias_reshape_output)\\n  %/model.4/m.0/cv2/act/Sigmoid_output_0 = Sigmoid(%/model.4/m.0/cv2/conv/Conv_output_0)\\n  %/model.4/m.0/cv2/act/Mul_output_0 = Mul(%/model.4/m.0/cv2/conv/Conv_output_0, %/model.4/m.0/cv2/act/Sigmoid_output_0)\\n  %/model.4/m.0/Add_output_0 = Add(%/model.4/Split_output_1, %/model.4/m.0/cv2/act/Mul_output_0)\\n  %/model.4/m.0/Add_output_0_quantized, %/model.4/m.0/Add_output_0_scale, %/model.4/m.0/Add_output_0_zero_point = DynamicQuantizeLinear(%/model.4/m.0/Add_output_0)\\n  %/model.4/m.1/cv1/conv/Conv_quant_scales_mul:0 = Mul(%/model.4/m.0/Add_output_0_scale, %model.4.m.1.cv1.conv.weight_scale)\\n  %/model.4/m.1/cv1/conv/Conv_output_0_output_quantized = ConvInteger[dilations = [1, 1], group = 1, kernel_shape = [3, 3], pads = [1, 1, 1, 1], strides = [1, 1]](%/model.4/m.0/Add_output_0_quantized, %model.4.m.1.cv1.conv.weight_quantized, %/model.4/m.0/Add_output_0_zero_point, %model.4.m.1.cv1.conv.weight_zero_point)\\n  %/model.4/m.1/cv1/conv/Conv_output_0_output_quantized_cast_output = Cast[to = 1](%/model.4/m.1/cv1/conv/Conv_output_0_output_quantized)\\n  %/model.4/m.1/cv1/conv/Conv_output_0quant_scaled_output = Mul(%/model.4/m.1/cv1/conv/Conv_output_0_output_quantized_cast_output, %/model.4/m.1/cv1/conv/Conv_quant_scales_mul:0)\\n  %/model.4/m.1/cv1/conv/Conv_output_0 = Add(%/model.4/m.1/cv1/conv/Conv_output_0quant_scaled_output, %/model.4/m.1/cv1/conv/Conv_output_0_bias_reshape_output)\\n  %/model.4/m.1/cv1/act/Sigmoid_output_0 = Sigmoid(%/model.4/m.1/cv1/conv/Conv_output_0)\\n  %/model.4/m.1/cv1/act/Mul_output_0 = Mul(%/model.4/m.1/cv1/conv/Conv_output_0, %/model.4/m.1/cv1/act/Sigmoid_output_0)\\n  %/model.4/m.1/cv1/act/Mul_output_0_quantized, %/model.4/m.1/cv1/act/Mul_output_0_scale, %/model.4/m.1/cv1/act/Mul_output_0_zero_point = DynamicQuantizeLinear(%/model.4/m.1/cv1/act/Mul_output_0)\\n  %/model.4/m.1/cv2/conv/Conv_quant_scales_mul:0 = Mul(%/model.4/m.1/cv1/act/Mul_output_0_scale, %model.4.m.1.cv2.conv.weight_scale)\\n  %/model.4/m.1/cv2/conv/Conv_output_0_output_quantized = ConvInteger[dilations = [1, 1], group = 1, kernel_shape = [3, 3], pads = [1, 1, 1, 1], strides = [1, 1]](%/model.4/m.1/cv1/act/Mul_output_0_quantized, %model.4.m.1.cv2.conv.weight_quantized, %/model.4/m.1/cv1/act/Mul_output_0_zero_point, %model.4.m.1.cv2.conv.weight_zero_point)\\n  %/model.4/m.1/cv2/conv/Conv_output_0_output_quantized_cast_output = Cast[to = 1](%/model.4/m.1/cv2/conv/Conv_output_0_output_quantized)\\n  %/model.4/m.1/cv2/conv/Conv_output_0quant_scaled_output = Mul(%/model.4/m.1/cv2/conv/Conv_output_0_output_quantized_cast_output, %/model.4/m.1/cv2/conv/Conv_quant_scales_mul:0)\\n  %/model.4/m.1/cv2/conv/Conv_output_0 = Add(%/model.4/m.1/cv2/conv/Conv_output_0quant_scaled_output, %/model.4/m.1/cv2/conv/Conv_output_0_bias_reshape_output)\\n  %/model.4/m.1/cv2/act/Sigmoid_output_0 = Sigmoid(%/model.4/m.1/cv2/conv/Conv_output_0)\\n  %/model.4/m.1/cv2/act/Mul_output_0 = Mul(%/model.4/m.1/cv2/conv/Conv_output_0, %/model.4/m.1/cv2/act/Sigmoid_output_0)\\n  %/model.4/m.1/Add_output_0 = Add(%/model.4/m.0/Add_output_0, %/model.4/m.1/cv2/act/Mul_output_0)\\n  %/model.4/Concat_output_0 = Concat[axis = 1](%/model.4/Split_output_0, %/model.4/Split_output_1, %/model.4/m.0/Add_output_0, %/model.4/m.1/Add_output_0)\\n  %/model.4/Concat_output_0_quantized, %/model.4/Concat_output_0_scale, %/model.4/Concat_output_0_zero_point = DynamicQuantizeLinear(%/model.4/Concat_output_0)\\n  %/model.4/cv2/conv/Conv_quant_scales_mul:0 = Mul(%/model.4/Concat_output_0_scale, %model.4.cv2.conv.weight_scale)\\n  %/model.4/cv2/conv/Conv_output_0_output_quantized = ConvInteger[dilations = [1, 1], group = 1, kernel_shape = [1, 1], pads = [0, 0, 0, 0], strides = [1, 1]](%/model.4/Concat_output_0_quantized, %model.4.cv2.conv.weight_quantized, %/model.4/Concat_output_0_zero_point, %model.4.cv2.conv.weight_zero_point)\\n  %/model.4/cv2/conv/Conv_output_0_output_quantized_cast_output = Cast[to = 1](%/model.4/cv2/conv/Conv_output_0_output_quantized)\\n  %/model.4/cv2/conv/Conv_output_0quant_scaled_output = Mul(%/model.4/cv2/conv/Conv_output_0_output_quantized_cast_output, %/model.4/cv2/conv/Conv_quant_scales_mul:0)\\n  %/model.4/cv2/conv/Conv_output_0 = Add(%/model.4/cv2/conv/Conv_output_0quant_scaled_output, %/model.4/cv2/conv/Conv_output_0_bias_reshape_output)\\n  %/model.4/cv2/act/Sigmoid_output_0 = Sigmoid(%/model.4/cv2/conv/Conv_output_0)\\n  %/model.4/cv2/act/Mul_output_0 = Mul(%/model.4/cv2/conv/Conv_output_0, %/model.4/cv2/act/Sigmoid_output_0)\\n  %/model.4/cv2/act/Mul_output_0_quantized, %/model.4/cv2/act/Mul_output_0_scale, %/model.4/cv2/act/Mul_output_0_zero_point = DynamicQuantizeLinear(%/model.4/cv2/act/Mul_output_0)\\n  %/model.5/conv/Conv_quant_scales_mul:0 = Mul(%/model.4/cv2/act/Mul_output_0_scale, %model.5.conv.weight_scale)\\n  %/model.5/conv/Conv_output_0_output_quantized = ConvInteger[dilations = [1, 1], group = 1, kernel_shape = [3, 3], pads = [1, 1, 1, 1], strides = [2, 2]](%/model.4/cv2/act/Mul_output_0_quantized, %model.5.conv.weight_quantized, %/model.4/cv2/act/Mul_output_0_zero_point, %model.5.conv.weight_zero_point)\\n  %/model.5/conv/Conv_output_0_output_quantized_cast_output = Cast[to = 1](%/model.5/conv/Conv_output_0_output_quantized)\\n  %/model.5/conv/Conv_output_0quant_scaled_output = Mul(%/model.5/conv/Conv_output_0_output_quantized_cast_output, %/model.5/conv/Conv_quant_scales_mul:0)\\n  %/model.5/conv/Conv_output_0 = Add(%/model.5/conv/Conv_output_0quant_scaled_output, %/model.5/conv/Conv_output_0_bias_reshape_output)\\n  %/model.5/act/Sigmoid_output_0 = Sigmoid(%/model.5/conv/Conv_output_0)\\n  %/model.5/act/Mul_output_0 = Mul(%/model.5/conv/Conv_output_0, %/model.5/act/Sigmoid_output_0)\\n  %/model.5/act/Mul_output_0_quantized, %/model.5/act/Mul_output_0_scale, %/model.5/act/Mul_output_0_zero_point = DynamicQuantizeLinear(%/model.5/act/Mul_output_0)\\n  %/model.6/cv1/conv/Conv_quant_scales_mul:0 = Mul(%/model.5/act/Mul_output_0_scale, %model.6.cv1.conv.weight_scale)\\n  %/model.6/cv1/conv/Conv_output_0_output_quantized = ConvInteger[dilations = [1, 1], group = 1, kernel_shape = [1, 1], pads = [0, 0, 0, 0], strides = [1, 1]](%/model.5/act/Mul_output_0_quantized, %model.6.cv1.conv.weight_quantized, %/model.5/act/Mul_output_0_zero_point, %model.6.cv1.conv.weight_zero_point)\\n  %/model.6/cv1/conv/Conv_output_0_output_quantized_cast_output = Cast[to = 1](%/model.6/cv1/conv/Conv_output_0_output_quantized)\\n  %/model.6/cv1/conv/Conv_output_0quant_scaled_output = Mul(%/model.6/cv1/conv/Conv_output_0_output_quantized_cast_output, %/model.6/cv1/conv/Conv_quant_scales_mul:0)\\n  %/model.6/cv1/conv/Conv_output_0 = Add(%/model.6/cv1/conv/Conv_output_0quant_scaled_output, %/model.6/cv1/conv/Conv_output_0_bias_reshape_output)\\n  %/model.6/cv1/act/Sigmoid_output_0 = Sigmoid(%/model.6/cv1/conv/Conv_output_0)\\n  %/model.6/cv1/act/Mul_output_0 = Mul(%/model.6/cv1/conv/Conv_output_0, %/model.6/cv1/act/Sigmoid_output_0)\\n  %/model.6/Split_output_0, %/model.6/Split_output_1 = Split[axis = 1](%/model.6/cv1/act/Mul_output_0, %onnx::Split_184)\\n  %/model.6/Split_output_1_quantized, %/model.6/Split_output_1_scale, %/model.6/Split_output_1_zero_point = DynamicQuantizeLinear(%/model.6/Split_output_1)\\n  %/model.6/m.0/cv1/conv/Conv_quant_scales_mul:0 = Mul(%/model.6/Split_output_1_scale, %model.6.m.0.cv1.conv.weight_scale)\\n  %/model.6/m.0/cv1/conv/Conv_output_0_output_quantized = ConvInteger[dilations = [1, 1], group = 1, kernel_shape = [3, 3], pads = [1, 1, 1, 1], strides = [1, 1]](%/model.6/Split_output_1_quantized, %model.6.m.0.cv1.conv.weight_quantized, %/model.6/Split_output_1_zero_point, %model.6.m.0.cv1.conv.weight_zero_point)\\n  %/model.6/m.0/cv1/conv/Conv_output_0_output_quantized_cast_output = Cast[to = 1](%/model.6/m.0/cv1/conv/Conv_output_0_output_quantized)\\n  %/model.6/m.0/cv1/conv/Conv_output_0quant_scaled_output = Mul(%/model.6/m.0/cv1/conv/Conv_output_0_output_quantized_cast_output, %/model.6/m.0/cv1/conv/Conv_quant_scales_mul:0)\\n  %/model.6/m.0/cv1/conv/Conv_output_0 = Add(%/model.6/m.0/cv1/conv/Conv_output_0quant_scaled_output, %/model.6/m.0/cv1/conv/Conv_output_0_bias_reshape_output)\\n  %/model.6/m.0/cv1/act/Sigmoid_output_0 = Sigmoid(%/model.6/m.0/cv1/conv/Conv_output_0)\\n  %/model.6/m.0/cv1/act/Mul_output_0 = Mul(%/model.6/m.0/cv1/conv/Conv_output_0, %/model.6/m.0/cv1/act/Sigmoid_output_0)\\n  %/model.6/m.0/cv1/act/Mul_output_0_quantized, %/model.6/m.0/cv1/act/Mul_output_0_scale, %/model.6/m.0/cv1/act/Mul_output_0_zero_point = DynamicQuantizeLinear(%/model.6/m.0/cv1/act/Mul_output_0)\\n  %/model.6/m.0/cv2/conv/Conv_quant_scales_mul:0 = Mul(%/model.6/m.0/cv1/act/Mul_output_0_scale, %model.6.m.0.cv2.conv.weight_scale)\\n  %/model.6/m.0/cv2/conv/Conv_output_0_output_quantized = ConvInteger[dilations = [1, 1], group = 1, kernel_shape = [3, 3], pads = [1, 1, 1, 1], strides = [1, 1]](%/model.6/m.0/cv1/act/Mul_output_0_quantized, %model.6.m.0.cv2.conv.weight_quantized, %/model.6/m.0/cv1/act/Mul_output_0_zero_point, %model.6.m.0.cv2.conv.weight_zero_point)\\n  %/model.6/m.0/cv2/conv/Conv_output_0_output_quantized_cast_output = Cast[to = 1](%/model.6/m.0/cv2/conv/Conv_output_0_output_quantized)\\n  %/model.6/m.0/cv2/conv/Conv_output_0quant_scaled_output = Mul(%/model.6/m.0/cv2/conv/Conv_output_0_output_quantized_cast_output, %/model.6/m.0/cv2/conv/Conv_quant_scales_mul:0)\\n  %/model.6/m.0/cv2/conv/Conv_output_0 = Add(%/model.6/m.0/cv2/conv/Conv_output_0quant_scaled_output, %/model.6/m.0/cv2/conv/Conv_output_0_bias_reshape_output)\\n  %/model.6/m.0/cv2/act/Sigmoid_output_0 = Sigmoid(%/model.6/m.0/cv2/conv/Conv_output_0)\\n  %/model.6/m.0/cv2/act/Mul_output_0 = Mul(%/model.6/m.0/cv2/conv/Conv_output_0, %/model.6/m.0/cv2/act/Sigmoid_output_0)\\n  %/model.6/m.0/Add_output_0 = Add(%/model.6/Split_output_1, %/model.6/m.0/cv2/act/Mul_output_0)\\n  %/model.6/m.0/Add_output_0_quantized, %/model.6/m.0/Add_output_0_scale, %/model.6/m.0/Add_output_0_zero_point = DynamicQuantizeLinear(%/model.6/m.0/Add_output_0)\\n  %/model.6/m.1/cv1/conv/Conv_quant_scales_mul:0 = Mul(%/model.6/m.0/Add_output_0_scale, %model.6.m.1.cv1.conv.weight_scale)\\n  %/model.6/m.1/cv1/conv/Conv_output_0_output_quantized = ConvInteger[dilations = [1, 1], group = 1, kernel_shape = [3, 3], pads = [1, 1, 1, 1], strides = [1, 1]](%/model.6/m.0/Add_output_0_quantized, %model.6.m.1.cv1.conv.weight_quantized, %/model.6/m.0/Add_output_0_zero_point, %model.6.m.1.cv1.conv.weight_zero_point)\\n  %/model.6/m.1/cv1/conv/Conv_output_0_output_quantized_cast_output = Cast[to = 1](%/model.6/m.1/cv1/conv/Conv_output_0_output_quantized)\\n  %/model.6/m.1/cv1/conv/Conv_output_0quant_scaled_output = Mul(%/model.6/m.1/cv1/conv/Conv_output_0_output_quantized_cast_output, %/model.6/m.1/cv1/conv/Conv_quant_scales_mul:0)\\n  %/model.6/m.1/cv1/conv/Conv_output_0 = Add(%/model.6/m.1/cv1/conv/Conv_output_0quant_scaled_output, %/model.6/m.1/cv1/conv/Conv_output_0_bias_reshape_output)\\n  %/model.6/m.1/cv1/act/Sigmoid_output_0 = Sigmoid(%/model.6/m.1/cv1/conv/Conv_output_0)\\n  %/model.6/m.1/cv1/act/Mul_output_0 = Mul(%/model.6/m.1/cv1/conv/Conv_output_0, %/model.6/m.1/cv1/act/Sigmoid_output_0)\\n  %/model.6/m.1/cv1/act/Mul_output_0_quantized, %/model.6/m.1/cv1/act/Mul_output_0_scale, %/model.6/m.1/cv1/act/Mul_output_0_zero_point = DynamicQuantizeLinear(%/model.6/m.1/cv1/act/Mul_output_0)\\n  %/model.6/m.1/cv2/conv/Conv_quant_scales_mul:0 = Mul(%/model.6/m.1/cv1/act/Mul_output_0_scale, %model.6.m.1.cv2.conv.weight_scale)\\n  %/model.6/m.1/cv2/conv/Conv_output_0_output_quantized = ConvInteger[dilations = [1, 1], group = 1, kernel_shape = [3, 3], pads = [1, 1, 1, 1], strides = [1, 1]](%/model.6/m.1/cv1/act/Mul_output_0_quantized, %model.6.m.1.cv2.conv.weight_quantized, %/model.6/m.1/cv1/act/Mul_output_0_zero_point, %model.6.m.1.cv2.conv.weight_zero_point)\\n  %/model.6/m.1/cv2/conv/Conv_output_0_output_quantized_cast_output = Cast[to = 1](%/model.6/m.1/cv2/conv/Conv_output_0_output_quantized)\\n  %/model.6/m.1/cv2/conv/Conv_output_0quant_scaled_output = Mul(%/model.6/m.1/cv2/conv/Conv_output_0_output_quantized_cast_output, %/model.6/m.1/cv2/conv/Conv_quant_scales_mul:0)\\n  %/model.6/m.1/cv2/conv/Conv_output_0 = Add(%/model.6/m.1/cv2/conv/Conv_output_0quant_scaled_output, %/model.6/m.1/cv2/conv/Conv_output_0_bias_reshape_output)\\n  %/model.6/m.1/cv2/act/Sigmoid_output_0 = Sigmoid(%/model.6/m.1/cv2/conv/Conv_output_0)\\n  %/model.6/m.1/cv2/act/Mul_output_0 = Mul(%/model.6/m.1/cv2/conv/Conv_output_0, %/model.6/m.1/cv2/act/Sigmoid_output_0)\\n  %/model.6/m.1/Add_output_0 = Add(%/model.6/m.0/Add_output_0, %/model.6/m.1/cv2/act/Mul_output_0)\\n  %/model.6/Concat_output_0 = Concat[axis = 1](%/model.6/Split_output_0, %/model.6/Split_output_1, %/model.6/m.0/Add_output_0, %/model.6/m.1/Add_output_0)\\n  %/model.6/Concat_output_0_quantized, %/model.6/Concat_output_0_scale, %/model.6/Concat_output_0_zero_point = DynamicQuantizeLinear(%/model.6/Concat_output_0)\\n  %/model.6/cv2/conv/Conv_quant_scales_mul:0 = Mul(%/model.6/Concat_output_0_scale, %model.6.cv2.conv.weight_scale)\\n  %/model.6/cv2/conv/Conv_output_0_output_quantized = ConvInteger[dilations = [1, 1], group = 1, kernel_shape = [1, 1], pads = [0, 0, 0, 0], strides = [1, 1]](%/model.6/Concat_output_0_quantized, %model.6.cv2.conv.weight_quantized, %/model.6/Concat_output_0_zero_point, %model.6.cv2.conv.weight_zero_point)\\n  %/model.6/cv2/conv/Conv_output_0_output_quantized_cast_output = Cast[to = 1](%/model.6/cv2/conv/Conv_output_0_output_quantized)\\n  %/model.6/cv2/conv/Conv_output_0quant_scaled_output = Mul(%/model.6/cv2/conv/Conv_output_0_output_quantized_cast_output, %/model.6/cv2/conv/Conv_quant_scales_mul:0)\\n  %/model.6/cv2/conv/Conv_output_0 = Add(%/model.6/cv2/conv/Conv_output_0quant_scaled_output, %/model.6/cv2/conv/Conv_output_0_bias_reshape_output)\\n  %/model.6/cv2/act/Sigmoid_output_0 = Sigmoid(%/model.6/cv2/conv/Conv_output_0)\\n  %/model.6/cv2/act/Mul_output_0 = Mul(%/model.6/cv2/conv/Conv_output_0, %/model.6/cv2/act/Sigmoid_output_0)\\n  %/model.6/cv2/act/Mul_output_0_quantized, %/model.6/cv2/act/Mul_output_0_scale, %/model.6/cv2/act/Mul_output_0_zero_point = DynamicQuantizeLinear(%/model.6/cv2/act/Mul_output_0)\\n  %/model.7/conv/Conv_quant_scales_mul:0 = Mul(%/model.6/cv2/act/Mul_output_0_scale, %model.7.conv.weight_scale)\\n  %/model.7/conv/Conv_output_0_output_quantized = ConvInteger[dilations = [1, 1], group = 1, kernel_shape = [3, 3], pads = [1, 1, 1, 1], strides = [2, 2]](%/model.6/cv2/act/Mul_output_0_quantized, %model.7.conv.weight_quantized, %/model.6/cv2/act/Mul_output_0_zero_point, %model.7.conv.weight_zero_point)\\n  %/model.7/conv/Conv_output_0_output_quantized_cast_output = Cast[to = 1](%/model.7/conv/Conv_output_0_output_quantized)\\n  %/model.7/conv/Conv_output_0quant_scaled_output = Mul(%/model.7/conv/Conv_output_0_output_quantized_cast_output, %/model.7/conv/Conv_quant_scales_mul:0)\\n  %/model.7/conv/Conv_output_0 = Add(%/model.7/conv/Conv_output_0quant_scaled_output, %/model.7/conv/Conv_output_0_bias_reshape_output)\\n  %/model.7/act/Sigmoid_output_0 = Sigmoid(%/model.7/conv/Conv_output_0)\\n  %/model.7/act/Mul_output_0 = Mul(%/model.7/conv/Conv_output_0, %/model.7/act/Sigmoid_output_0)\\n  %/model.7/act/Mul_output_0_quantized, %/model.7/act/Mul_output_0_scale, %/model.7/act/Mul_output_0_zero_point = DynamicQuantizeLinear(%/model.7/act/Mul_output_0)\\n  %/model.8/cv1/conv/Conv_quant_scales_mul:0 = Mul(%/model.7/act/Mul_output_0_scale, %model.8.cv1.conv.weight_scale)\\n  %/model.8/cv1/conv/Conv_output_0_output_quantized = ConvInteger[dilations = [1, 1], group = 1, kernel_shape = [1, 1], pads = [0, 0, 0, 0], strides = [1, 1]](%/model.7/act/Mul_output_0_quantized, %model.8.cv1.conv.weight_quantized, %/model.7/act/Mul_output_0_zero_point, %model.8.cv1.conv.weight_zero_point)\\n  %/model.8/cv1/conv/Conv_output_0_output_quantized_cast_output = Cast[to = 1](%/model.8/cv1/conv/Conv_output_0_output_quantized)\\n  %/model.8/cv1/conv/Conv_output_0quant_scaled_output = Mul(%/model.8/cv1/conv/Conv_output_0_output_quantized_cast_output, %/model.8/cv1/conv/Conv_quant_scales_mul:0)\\n  %/model.8/cv1/conv/Conv_output_0 = Add(%/model.8/cv1/conv/Conv_output_0quant_scaled_output, %/model.8/cv1/conv/Conv_output_0_bias_reshape_output)\\n  %/model.8/cv1/act/Sigmoid_output_0 = Sigmoid(%/model.8/cv1/conv/Conv_output_0)\\n  %/model.8/cv1/act/Mul_output_0 = Mul(%/model.8/cv1/conv/Conv_output_0, %/model.8/cv1/act/Sigmoid_output_0)\\n  %/model.8/Split_output_0, %/model.8/Split_output_1 = Split[axis = 1](%/model.8/cv1/act/Mul_output_0, %onnx::Split_211)\\n  %/model.8/Split_output_1_quantized, %/model.8/Split_output_1_scale, %/model.8/Split_output_1_zero_point = DynamicQuantizeLinear(%/model.8/Split_output_1)\\n  %/model.8/m.0/cv1/conv/Conv_quant_scales_mul:0 = Mul(%/model.8/Split_output_1_scale, %model.8.m.0.cv1.conv.weight_scale)\\n  %/model.8/m.0/cv1/conv/Conv_output_0_output_quantized = ConvInteger[dilations = [1, 1], group = 1, kernel_shape = [3, 3], pads = [1, 1, 1, 1], strides = [1, 1]](%/model.8/Split_output_1_quantized, %model.8.m.0.cv1.conv.weight_quantized, %/model.8/Split_output_1_zero_point, %model.8.m.0.cv1.conv.weight_zero_point)\\n  %/model.8/m.0/cv1/conv/Conv_output_0_output_quantized_cast_output = Cast[to = 1](%/model.8/m.0/cv1/conv/Conv_output_0_output_quantized)\\n  %/model.8/m.0/cv1/conv/Conv_output_0quant_scaled_output = Mul(%/model.8/m.0/cv1/conv/Conv_output_0_output_quantized_cast_output, %/model.8/m.0/cv1/conv/Conv_quant_scales_mul:0)\\n  %/model.8/m.0/cv1/conv/Conv_output_0 = Add(%/model.8/m.0/cv1/conv/Conv_output_0quant_scaled_output, %/model.8/m.0/cv1/conv/Conv_output_0_bias_reshape_output)\\n  %/model.8/m.0/cv1/act/Sigmoid_output_0 = Sigmoid(%/model.8/m.0/cv1/conv/Conv_output_0)\\n  %/model.8/m.0/cv1/act/Mul_output_0 = Mul(%/model.8/m.0/cv1/conv/Conv_output_0, %/model.8/m.0/cv1/act/Sigmoid_output_0)\\n  %/model.8/m.0/cv1/act/Mul_output_0_quantized, %/model.8/m.0/cv1/act/Mul_output_0_scale, %/model.8/m.0/cv1/act/Mul_output_0_zero_point = DynamicQuantizeLinear(%/model.8/m.0/cv1/act/Mul_output_0)\\n  %/model.8/m.0/cv2/conv/Conv_quant_scales_mul:0 = Mul(%/model.8/m.0/cv1/act/Mul_output_0_scale, %model.8.m.0.cv2.conv.weight_scale)\\n  %/model.8/m.0/cv2/conv/Conv_output_0_output_quantized = ConvInteger[dilations = [1, 1], group = 1, kernel_shape = [3, 3], pads = [1, 1, 1, 1], strides = [1, 1]](%/model.8/m.0/cv1/act/Mul_output_0_quantized, %model.8.m.0.cv2.conv.weight_quantized, %/model.8/m.0/cv1/act/Mul_output_0_zero_point, %model.8.m.0.cv2.conv.weight_zero_point)\\n  %/model.8/m.0/cv2/conv/Conv_output_0_output_quantized_cast_output = Cast[to = 1](%/model.8/m.0/cv2/conv/Conv_output_0_output_quantized)\\n  %/model.8/m.0/cv2/conv/Conv_output_0quant_scaled_output = Mul(%/model.8/m.0/cv2/conv/Conv_output_0_output_quantized_cast_output, %/model.8/m.0/cv2/conv/Conv_quant_scales_mul:0)\\n  %/model.8/m.0/cv2/conv/Conv_output_0 = Add(%/model.8/m.0/cv2/conv/Conv_output_0quant_scaled_output, %/model.8/m.0/cv2/conv/Conv_output_0_bias_reshape_output)\\n  %/model.8/m.0/cv2/act/Sigmoid_output_0 = Sigmoid(%/model.8/m.0/cv2/conv/Conv_output_0)\\n  %/model.8/m.0/cv2/act/Mul_output_0 = Mul(%/model.8/m.0/cv2/conv/Conv_output_0, %/model.8/m.0/cv2/act/Sigmoid_output_0)\\n  %/model.8/m.0/Add_output_0 = Add(%/model.8/Split_output_1, %/model.8/m.0/cv2/act/Mul_output_0)\\n  %/model.8/Concat_output_0 = Concat[axis = 1](%/model.8/Split_output_0, %/model.8/Split_output_1, %/model.8/m.0/Add_output_0)\\n  %/model.8/Concat_output_0_quantized, %/model.8/Concat_output_0_scale, %/model.8/Concat_output_0_zero_point = DynamicQuantizeLinear(%/model.8/Concat_output_0)\\n  %/model.8/cv2/conv/Conv_quant_scales_mul:0 = Mul(%/model.8/Concat_output_0_scale, %model.8.cv2.conv.weight_scale)\\n  %/model.8/cv2/conv/Conv_output_0_output_quantized = ConvInteger[dilations = [1, 1], group = 1, kernel_shape = [1, 1], pads = [0, 0, 0, 0], strides = [1, 1]](%/model.8/Concat_output_0_quantized, %model.8.cv2.conv.weight_quantized, %/model.8/Concat_output_0_zero_point, %model.8.cv2.conv.weight_zero_point)\\n  %/model.8/cv2/conv/Conv_output_0_output_quantized_cast_output = Cast[to = 1](%/model.8/cv2/conv/Conv_output_0_output_quantized)\\n  %/model.8/cv2/conv/Conv_output_0quant_scaled_output = Mul(%/model.8/cv2/conv/Conv_output_0_output_quantized_cast_output, %/model.8/cv2/conv/Conv_quant_scales_mul:0)\\n  %/model.8/cv2/conv/Conv_output_0 = Add(%/model.8/cv2/conv/Conv_output_0quant_scaled_output, %/model.8/cv2/conv/Conv_output_0_bias_reshape_output)\\n  %/model.8/cv2/act/Sigmoid_output_0 = Sigmoid(%/model.8/cv2/conv/Conv_output_0)\\n  %/model.8/cv2/act/Mul_output_0 = Mul(%/model.8/cv2/conv/Conv_output_0, %/model.8/cv2/act/Sigmoid_output_0)\\n  %/model.8/cv2/act/Mul_output_0_quantized, %/model.8/cv2/act/Mul_output_0_scale, %/model.8/cv2/act/Mul_output_0_zero_point = DynamicQuantizeLinear(%/model.8/cv2/act/Mul_output_0)\\n  %/model.9/cv1/conv/Conv_quant_scales_mul:0 = Mul(%/model.8/cv2/act/Mul_output_0_scale, %model.9.cv1.conv.weight_scale)\\n  %/model.9/cv1/conv/Conv_output_0_output_quantized = ConvInteger[dilations = [1, 1], group = 1, kernel_shape = [1, 1], pads = [0, 0, 0, 0], strides = [1, 1]](%/model.8/cv2/act/Mul_output_0_quantized, %model.9.cv1.conv.weight_quantized, %/model.8/cv2/act/Mul_output_0_zero_point, %model.9.cv1.conv.weight_zero_point)\\n  %/model.9/cv1/conv/Conv_output_0_output_quantized_cast_output = Cast[to = 1](%/model.9/cv1/conv/Conv_output_0_output_quantized)\\n  %/model.9/cv1/conv/Conv_output_0quant_scaled_output = Mul(%/model.9/cv1/conv/Conv_output_0_output_quantized_cast_output, %/model.9/cv1/conv/Conv_quant_scales_mul:0)\\n  %/model.9/cv1/conv/Conv_output_0 = Add(%/model.9/cv1/conv/Conv_output_0quant_scaled_output, %/model.9/cv1/conv/Conv_output_0_bias_reshape_output)\\n  %/model.9/cv1/act/Sigmoid_output_0 = Sigmoid(%/model.9/cv1/conv/Conv_output_0)\\n  %/model.9/cv1/act/Mul_output_0 = Mul(%/model.9/cv1/conv/Conv_output_0, %/model.9/cv1/act/Sigmoid_output_0)\\n  %/model.9/m/MaxPool_output_0 = MaxPool[ceil_mode = 0, dilations = [1, 1], kernel_shape = [5, 5], pads = [2, 2, 2, 2], strides = [1, 1]](%/model.9/cv1/act/Mul_output_0)\\n  %/model.9/m_1/MaxPool_output_0 = MaxPool[ceil_mode = 0, dilations = [1, 1], kernel_shape = [5, 5], pads = [2, 2, 2, 2], strides = [1, 1]](%/model.9/m/MaxPool_output_0)\\n  %/model.9/m_2/MaxPool_output_0 = MaxPool[ceil_mode = 0, dilations = [1, 1], kernel_shape = [5, 5], pads = [2, 2, 2, 2], strides = [1, 1]](%/model.9/m_1/MaxPool_output_0)\\n  %/model.9/Concat_output_0 = Concat[axis = 1](%/model.9/cv1/act/Mul_output_0, %/model.9/m/MaxPool_output_0, %/model.9/m_1/MaxPool_output_0, %/model.9/m_2/MaxPool_output_0)\\n  %/model.9/Concat_output_0_quantized, %/model.9/Concat_output_0_scale, %/model.9/Concat_output_0_zero_point = DynamicQuantizeLinear(%/model.9/Concat_output_0)\\n  %/model.9/cv2/conv/Conv_quant_scales_mul:0 = Mul(%/model.9/Concat_output_0_scale, %model.9.cv2.conv.weight_scale)\\n  %/model.9/cv2/conv/Conv_output_0_output_quantized = ConvInteger[dilations = [1, 1], group = 1, kernel_shape = [1, 1], pads = [0, 0, 0, 0], strides = [1, 1]](%/model.9/Concat_output_0_quantized, %model.9.cv2.conv.weight_quantized, %/model.9/Concat_output_0_zero_point, %model.9.cv2.conv.weight_zero_point)\\n  %/model.9/cv2/conv/Conv_output_0_output_quantized_cast_output = Cast[to = 1](%/model.9/cv2/conv/Conv_output_0_output_quantized)\\n  %/model.9/cv2/conv/Conv_output_0quant_scaled_output = Mul(%/model.9/cv2/conv/Conv_output_0_output_quantized_cast_output, %/model.9/cv2/conv/Conv_quant_scales_mul:0)\\n  %/model.9/cv2/conv/Conv_output_0 = Add(%/model.9/cv2/conv/Conv_output_0quant_scaled_output, %/model.9/cv2/conv/Conv_output_0_bias_reshape_output)\\n  %/model.9/cv2/act/Sigmoid_output_0 = Sigmoid(%/model.9/cv2/conv/Conv_output_0)\\n  %/model.9/cv2/act/Mul_output_0 = Mul(%/model.9/cv2/conv/Conv_output_0, %/model.9/cv2/act/Sigmoid_output_0)\\n  %/model.10/Resize_output_0 = Resize[coordinate_transformation_mode = 'asymmetric', cubic_coeff_a = -0.75, mode = 'nearest', nearest_mode = 'floor'](%/model.9/cv2/act/Mul_output_0, %, %, %/model.10/Concat_1_output_0)\\n  %/model.11/Concat_output_0 = Concat[axis = 1](%/model.10/Resize_output_0, %/model.6/cv2/act/Mul_output_0)\\n  %/model.11/Concat_output_0_quantized, %/model.11/Concat_output_0_scale, %/model.11/Concat_output_0_zero_point = DynamicQuantizeLinear(%/model.11/Concat_output_0)\\n  %/model.12/cv1/conv/Conv_quant_scales_mul:0 = Mul(%/model.11/Concat_output_0_scale, %model.12.cv1.conv.weight_scale)\\n  %/model.12/cv1/conv/Conv_output_0_output_quantized = ConvInteger[dilations = [1, 1], group = 1, kernel_shape = [1, 1], pads = [0, 0, 0, 0], strides = [1, 1]](%/model.11/Concat_output_0_quantized, %model.12.cv1.conv.weight_quantized, %/model.11/Concat_output_0_zero_point, %model.12.cv1.conv.weight_zero_point)\\n  %/model.12/cv1/conv/Conv_output_0_output_quantized_cast_output = Cast[to = 1](%/model.12/cv1/conv/Conv_output_0_output_quantized)\\n  %/model.12/cv1/conv/Conv_output_0quant_scaled_output = Mul(%/model.12/cv1/conv/Conv_output_0_output_quantized_cast_output, %/model.12/cv1/conv/Conv_quant_scales_mul:0)\\n  %/model.12/cv1/conv/Conv_output_0 = Add(%/model.12/cv1/conv/Conv_output_0quant_scaled_output, %/model.12/cv1/conv/Conv_output_0_bias_reshape_output)\\n  %/model.12/cv1/act/Sigmoid_output_0 = Sigmoid(%/model.12/cv1/conv/Conv_output_0)\\n  %/model.12/cv1/act/Mul_output_0 = Mul(%/model.12/cv1/conv/Conv_output_0, %/model.12/cv1/act/Sigmoid_output_0)\\n  %/model.12/Split_output_0, %/model.12/Split_output_1 = Split[axis = 1](%/model.12/cv1/act/Mul_output_0, %onnx::Split_184)\\n  %/model.12/Split_output_1_quantized, %/model.12/Split_output_1_scale, %/model.12/Split_output_1_zero_point = DynamicQuantizeLinear(%/model.12/Split_output_1)\\n  %/model.12/m.0/cv1/conv/Conv_quant_scales_mul:0 = Mul(%/model.12/Split_output_1_scale, %model.12.m.0.cv1.conv.weight_scale)\\n  %/model.12/m.0/cv1/conv/Conv_output_0_output_quantized = ConvInteger[dilations = [1, 1], group = 1, kernel_shape = [3, 3], pads = [1, 1, 1, 1], strides = [1, 1]](%/model.12/Split_output_1_quantized, %model.12.m.0.cv1.conv.weight_quantized, %/model.12/Split_output_1_zero_point, %model.12.m.0.cv1.conv.weight_zero_point)\\n  %/model.12/m.0/cv1/conv/Conv_output_0_output_quantized_cast_output = Cast[to = 1](%/model.12/m.0/cv1/conv/Conv_output_0_output_quantized)\\n  %/model.12/m.0/cv1/conv/Conv_output_0quant_scaled_output = Mul(%/model.12/m.0/cv1/conv/Conv_output_0_output_quantized_cast_output, %/model.12/m.0/cv1/conv/Conv_quant_scales_mul:0)\\n  %/model.12/m.0/cv1/conv/Conv_output_0 = Add(%/model.12/m.0/cv1/conv/Conv_output_0quant_scaled_output, %/model.12/m.0/cv1/conv/Conv_output_0_bias_reshape_output)\\n  %/model.12/m.0/cv1/act/Sigmoid_output_0 = Sigmoid(%/model.12/m.0/cv1/conv/Conv_output_0)\\n  %/model.12/m.0/cv1/act/Mul_output_0 = Mul(%/model.12/m.0/cv1/conv/Conv_output_0, %/model.12/m.0/cv1/act/Sigmoid_output_0)\\n  %/model.12/m.0/cv1/act/Mul_output_0_quantized, %/model.12/m.0/cv1/act/Mul_output_0_scale, %/model.12/m.0/cv1/act/Mul_output_0_zero_point = DynamicQuantizeLinear(%/model.12/m.0/cv1/act/Mul_output_0)\\n  %/model.12/m.0/cv2/conv/Conv_quant_scales_mul:0 = Mul(%/model.12/m.0/cv1/act/Mul_output_0_scale, %model.12.m.0.cv2.conv.weight_scale)\\n  %/model.12/m.0/cv2/conv/Conv_output_0_output_quantized = ConvInteger[dilations = [1, 1], group = 1, kernel_shape = [3, 3], pads = [1, 1, 1, 1], strides = [1, 1]](%/model.12/m.0/cv1/act/Mul_output_0_quantized, %model.12.m.0.cv2.conv.weight_quantized, %/model.12/m.0/cv1/act/Mul_output_0_zero_point, %model.12.m.0.cv2.conv.weight_zero_point)\\n  %/model.12/m.0/cv2/conv/Conv_output_0_output_quantized_cast_output = Cast[to = 1](%/model.12/m.0/cv2/conv/Conv_output_0_output_quantized)\\n  %/model.12/m.0/cv2/conv/Conv_output_0quant_scaled_output = Mul(%/model.12/m.0/cv2/conv/Conv_output_0_output_quantized_cast_output, %/model.12/m.0/cv2/conv/Conv_quant_scales_mul:0)\\n  %/model.12/m.0/cv2/conv/Conv_output_0 = Add(%/model.12/m.0/cv2/conv/Conv_output_0quant_scaled_output, %/model.12/m.0/cv2/conv/Conv_output_0_bias_reshape_output)\\n  %/model.12/m.0/cv2/act/Sigmoid_output_0 = Sigmoid(%/model.12/m.0/cv2/conv/Conv_output_0)\\n  %/model.12/m.0/cv2/act/Mul_output_0 = Mul(%/model.12/m.0/cv2/conv/Conv_output_0, %/model.12/m.0/cv2/act/Sigmoid_output_0)\\n  %/model.12/Concat_output_0 = Concat[axis = 1](%/model.12/Split_output_0, %/model.12/Split_output_1, %/model.12/m.0/cv2/act/Mul_output_0)\\n  %/model.12/Concat_output_0_quantized, %/model.12/Concat_output_0_scale, %/model.12/Concat_output_0_zero_point = DynamicQuantizeLinear(%/model.12/Concat_output_0)\\n  %/model.12/cv2/conv/Conv_quant_scales_mul:0 = Mul(%/model.12/Concat_output_0_scale, %model.12.cv2.conv.weight_scale)\\n  %/model.12/cv2/conv/Conv_output_0_output_quantized = ConvInteger[dilations = [1, 1], group = 1, kernel_shape = [1, 1], pads = [0, 0, 0, 0], strides = [1, 1]](%/model.12/Concat_output_0_quantized, %model.12.cv2.conv.weight_quantized, %/model.12/Concat_output_0_zero_point, %model.12.cv2.conv.weight_zero_point)\\n  %/model.12/cv2/conv/Conv_output_0_output_quantized_cast_output = Cast[to = 1](%/model.12/cv2/conv/Conv_output_0_output_quantized)\\n  %/model.12/cv2/conv/Conv_output_0quant_scaled_output = Mul(%/model.12/cv2/conv/Conv_output_0_output_quantized_cast_output, %/model.12/cv2/conv/Conv_quant_scales_mul:0)\\n  %/model.12/cv2/conv/Conv_output_0 = Add(%/model.12/cv2/conv/Conv_output_0quant_scaled_output, %/model.12/cv2/conv/Conv_output_0_bias_reshape_output)\\n  %/model.12/cv2/act/Sigmoid_output_0 = Sigmoid(%/model.12/cv2/conv/Conv_output_0)\\n  %/model.12/cv2/act/Mul_output_0 = Mul(%/model.12/cv2/conv/Conv_output_0, %/model.12/cv2/act/Sigmoid_output_0)\\n  %/model.13/Resize_output_0 = Resize[coordinate_transformation_mode = 'asymmetric', cubic_coeff_a = -0.75, mode = 'nearest', nearest_mode = 'floor'](%/model.12/cv2/act/Mul_output_0, %, %, %/model.13/Concat_1_output_0)\\n  %/model.14/Concat_output_0 = Concat[axis = 1](%/model.13/Resize_output_0, %/model.4/cv2/act/Mul_output_0)\\n  %/model.14/Concat_output_0_quantized, %/model.14/Concat_output_0_scale, %/model.14/Concat_output_0_zero_point = DynamicQuantizeLinear(%/model.14/Concat_output_0)\\n  %/model.15/cv1/conv/Conv_quant_scales_mul:0 = Mul(%/model.14/Concat_output_0_scale, %model.15.cv1.conv.weight_scale)\\n  %/model.15/cv1/conv/Conv_output_0_output_quantized = ConvInteger[dilations = [1, 1], group = 1, kernel_shape = [1, 1], pads = [0, 0, 0, 0], strides = [1, 1]](%/model.14/Concat_output_0_quantized, %model.15.cv1.conv.weight_quantized, %/model.14/Concat_output_0_zero_point, %model.15.cv1.conv.weight_zero_point)\\n  %/model.15/cv1/conv/Conv_output_0_output_quantized_cast_output = Cast[to = 1](%/model.15/cv1/conv/Conv_output_0_output_quantized)\\n  %/model.15/cv1/conv/Conv_output_0quant_scaled_output = Mul(%/model.15/cv1/conv/Conv_output_0_output_quantized_cast_output, %/model.15/cv1/conv/Conv_quant_scales_mul:0)\\n  %/model.15/cv1/conv/Conv_output_0 = Add(%/model.15/cv1/conv/Conv_output_0quant_scaled_output, %/model.15/cv1/conv/Conv_output_0_bias_reshape_output)\\n  %/model.15/cv1/act/Sigmoid_output_0 = Sigmoid(%/model.15/cv1/conv/Conv_output_0)\\n  %/model.15/cv1/act/Mul_output_0 = Mul(%/model.15/cv1/conv/Conv_output_0, %/model.15/cv1/act/Sigmoid_output_0)\\n  %/model.15/Split_output_0, %/model.15/Split_output_1 = Split[axis = 1](%/model.15/cv1/act/Mul_output_0, %onnx::Split_157)\\n  %/model.15/Split_output_1_quantized, %/model.15/Split_output_1_scale, %/model.15/Split_output_1_zero_point = DynamicQuantizeLinear(%/model.15/Split_output_1)\\n  %/model.15/m.0/cv1/conv/Conv_quant_scales_mul:0 = Mul(%/model.15/Split_output_1_scale, %model.15.m.0.cv1.conv.weight_scale)\\n  %/model.15/m.0/cv1/conv/Conv_output_0_output_quantized = ConvInteger[dilations = [1, 1], group = 1, kernel_shape = [3, 3], pads = [1, 1, 1, 1], strides = [1, 1]](%/model.15/Split_output_1_quantized, %model.15.m.0.cv1.conv.weight_quantized, %/model.15/Split_output_1_zero_point, %model.15.m.0.cv1.conv.weight_zero_point)\\n  %/model.15/m.0/cv1/conv/Conv_output_0_output_quantized_cast_output = Cast[to = 1](%/model.15/m.0/cv1/conv/Conv_output_0_output_quantized)\\n  %/model.15/m.0/cv1/conv/Conv_output_0quant_scaled_output = Mul(%/model.15/m.0/cv1/conv/Conv_output_0_output_quantized_cast_output, %/model.15/m.0/cv1/conv/Conv_quant_scales_mul:0)\\n  %/model.15/m.0/cv1/conv/Conv_output_0 = Add(%/model.15/m.0/cv1/conv/Conv_output_0quant_scaled_output, %/model.15/m.0/cv1/conv/Conv_output_0_bias_reshape_output)\\n  %/model.15/m.0/cv1/act/Sigmoid_output_0 = Sigmoid(%/model.15/m.0/cv1/conv/Conv_output_0)\\n  %/model.15/m.0/cv1/act/Mul_output_0 = Mul(%/model.15/m.0/cv1/conv/Conv_output_0, %/model.15/m.0/cv1/act/Sigmoid_output_0)\\n  %/model.15/m.0/cv1/act/Mul_output_0_quantized, %/model.15/m.0/cv1/act/Mul_output_0_scale, %/model.15/m.0/cv1/act/Mul_output_0_zero_point = DynamicQuantizeLinear(%/model.15/m.0/cv1/act/Mul_output_0)\\n  %/model.15/m.0/cv2/conv/Conv_quant_scales_mul:0 = Mul(%/model.15/m.0/cv1/act/Mul_output_0_scale, %model.15.m.0.cv2.conv.weight_scale)\\n  %/model.15/m.0/cv2/conv/Conv_output_0_output_quantized = ConvInteger[dilations = [1, 1], group = 1, kernel_shape = [3, 3], pads = [1, 1, 1, 1], strides = [1, 1]](%/model.15/m.0/cv1/act/Mul_output_0_quantized, %model.15.m.0.cv2.conv.weight_quantized, %/model.15/m.0/cv1/act/Mul_output_0_zero_point, %model.15.m.0.cv2.conv.weight_zero_point)\\n  %/model.15/m.0/cv2/conv/Conv_output_0_output_quantized_cast_output = Cast[to = 1](%/model.15/m.0/cv2/conv/Conv_output_0_output_quantized)\\n  %/model.15/m.0/cv2/conv/Conv_output_0quant_scaled_output = Mul(%/model.15/m.0/cv2/conv/Conv_output_0_output_quantized_cast_output, %/model.15/m.0/cv2/conv/Conv_quant_scales_mul:0)\\n  %/model.15/m.0/cv2/conv/Conv_output_0 = Add(%/model.15/m.0/cv2/conv/Conv_output_0quant_scaled_output, %/model.15/m.0/cv2/conv/Conv_output_0_bias_reshape_output)\\n  %/model.15/m.0/cv2/act/Sigmoid_output_0 = Sigmoid(%/model.15/m.0/cv2/conv/Conv_output_0)\\n  %/model.15/m.0/cv2/act/Mul_output_0 = Mul(%/model.15/m.0/cv2/conv/Conv_output_0, %/model.15/m.0/cv2/act/Sigmoid_output_0)\\n  %/model.15/Concat_output_0 = Concat[axis = 1](%/model.15/Split_output_0, %/model.15/Split_output_1, %/model.15/m.0/cv2/act/Mul_output_0)\\n  %/model.15/Concat_output_0_quantized, %/model.15/Concat_output_0_scale, %/model.15/Concat_output_0_zero_point = DynamicQuantizeLinear(%/model.15/Concat_output_0)\\n  %/model.15/cv2/conv/Conv_quant_scales_mul:0 = Mul(%/model.15/Concat_output_0_scale, %model.15.cv2.conv.weight_scale)\\n  %/model.15/cv2/conv/Conv_output_0_output_quantized = ConvInteger[dilations = [1, 1], group = 1, kernel_shape = [1, 1], pads = [0, 0, 0, 0], strides = [1, 1]](%/model.15/Concat_output_0_quantized, %model.15.cv2.conv.weight_quantized, %/model.15/Concat_output_0_zero_point, %model.15.cv2.conv.weight_zero_point)\\n  %/model.15/cv2/conv/Conv_output_0_output_quantized_cast_output = Cast[to = 1](%/model.15/cv2/conv/Conv_output_0_output_quantized)\\n  %/model.15/cv2/conv/Conv_output_0quant_scaled_output = Mul(%/model.15/cv2/conv/Conv_output_0_output_quantized_cast_output, %/model.15/cv2/conv/Conv_quant_scales_mul:0)\\n  %/model.15/cv2/conv/Conv_output_0 = Add(%/model.15/cv2/conv/Conv_output_0quant_scaled_output, %/model.15/cv2/conv/Conv_output_0_bias_reshape_output)\\n  %/model.15/cv2/act/Sigmoid_output_0 = Sigmoid(%/model.15/cv2/conv/Conv_output_0)\\n  %/model.15/cv2/act/Mul_output_0 = Mul(%/model.15/cv2/conv/Conv_output_0, %/model.15/cv2/act/Sigmoid_output_0)\\n  %/model.15/cv2/act/Mul_output_0_quantized, %/model.15/cv2/act/Mul_output_0_scale, %/model.15/cv2/act/Mul_output_0_zero_point = DynamicQuantizeLinear(%/model.15/cv2/act/Mul_output_0)\\n  %/model.16/conv/Conv_quant_scales_mul:0 = Mul(%/model.15/cv2/act/Mul_output_0_scale, %model.16.conv.weight_scale)\\n  %/model.22/cv2.0/cv2.0.0/conv/Conv_quant_scales_mul:0 = Mul(%/model.15/cv2/act/Mul_output_0_scale, %model.22.cv2.0.0.conv.weight_scale)\\n  %/model.22/cv3.0/cv3.0.0/conv/Conv_quant_scales_mul:0 = Mul(%/model.15/cv2/act/Mul_output_0_scale, %model.22.cv3.0.0.conv.weight_scale)\\n  %/model.16/conv/Conv_output_0_output_quantized = ConvInteger[dilations = [1, 1], group = 1, kernel_shape = [3, 3], pads = [1, 1, 1, 1], strides = [2, 2]](%/model.15/cv2/act/Mul_output_0_quantized, %model.16.conv.weight_quantized, %/model.15/cv2/act/Mul_output_0_zero_point, %model.16.conv.weight_zero_point)\\n  %/model.22/cv2.0/cv2.0.0/conv/Conv_output_0_output_quantized = ConvInteger[dilations = [1, 1], group = 1, kernel_shape = [3, 3], pads = [1, 1, 1, 1], strides = [1, 1]](%/model.15/cv2/act/Mul_output_0_quantized, %model.22.cv2.0.0.conv.weight_quantized, %/model.15/cv2/act/Mul_output_0_zero_point, %model.22.cv2.0.0.conv.weight_zero_point)\\n  %/model.22/cv3.0/cv3.0.0/conv/Conv_output_0_output_quantized = ConvInteger[dilations = [1, 1], group = 1, kernel_shape = [3, 3], pads = [1, 1, 1, 1], strides = [1, 1]](%/model.15/cv2/act/Mul_output_0_quantized, %model.22.cv3.0.0.conv.weight_quantized, %/model.15/cv2/act/Mul_output_0_zero_point, %model.22.cv3.0.0.conv.weight_zero_point)\\n  %/model.16/conv/Conv_output_0_output_quantized_cast_output = Cast[to = 1](%/model.16/conv/Conv_output_0_output_quantized)\\n  %/model.22/cv2.0/cv2.0.0/conv/Conv_output_0_output_quantized_cast_output = Cast[to = 1](%/model.22/cv2.0/cv2.0.0/conv/Conv_output_0_output_quantized)\\n  %/model.22/cv3.0/cv3.0.0/conv/Conv_output_0_output_quantized_cast_output = Cast[to = 1](%/model.22/cv3.0/cv3.0.0/conv/Conv_output_0_output_quantized)\\n  %/model.16/conv/Conv_output_0quant_scaled_output = Mul(%/model.16/conv/Conv_output_0_output_quantized_cast_output, %/model.16/conv/Conv_quant_scales_mul:0)\\n  %/model.22/cv2.0/cv2.0.0/conv/Conv_output_0quant_scaled_output = Mul(%/model.22/cv2.0/cv2.0.0/conv/Conv_output_0_output_quantized_cast_output, %/model.22/cv2.0/cv2.0.0/conv/Conv_quant_scales_mul:0)\\n  %/model.22/cv3.0/cv3.0.0/conv/Conv_output_0quant_scaled_output = Mul(%/model.22/cv3.0/cv3.0.0/conv/Conv_output_0_output_quantized_cast_output, %/model.22/cv3.0/cv3.0.0/conv/Conv_quant_scales_mul:0)\\n  %/model.16/conv/Conv_output_0 = Add(%/model.16/conv/Conv_output_0quant_scaled_output, %/model.16/conv/Conv_output_0_bias_reshape_output)\\n  %/model.22/cv2.0/cv2.0.0/conv/Conv_output_0 = Add(%/model.22/cv2.0/cv2.0.0/conv/Conv_output_0quant_scaled_output, %/model.22/cv2.0/cv2.0.0/conv/Conv_output_0_bias_reshape_output)\\n  %/model.22/cv3.0/cv3.0.0/conv/Conv_output_0 = Add(%/model.22/cv3.0/cv3.0.0/conv/Conv_output_0quant_scaled_output, %/model.22/cv3.0/cv3.0.0/conv/Conv_output_0_bias_reshape_output)\\n  %/model.16/act/Sigmoid_output_0 = Sigmoid(%/model.16/conv/Conv_output_0)\\n  %/model.22/cv2.0/cv2.0.0/act/Sigmoid_output_0 = Sigmoid(%/model.22/cv2.0/cv2.0.0/conv/Conv_output_0)\\n  %/model.22/cv3.0/cv3.0.0/act/Sigmoid_output_0 = Sigmoid(%/model.22/cv3.0/cv3.0.0/conv/Conv_output_0)\\n  %/model.16/act/Mul_output_0 = Mul(%/model.16/conv/Conv_output_0, %/model.16/act/Sigmoid_output_0)\\n  %/model.22/cv2.0/cv2.0.0/act/Mul_output_0 = Mul(%/model.22/cv2.0/cv2.0.0/conv/Conv_output_0, %/model.22/cv2.0/cv2.0.0/act/Sigmoid_output_0)\\n  %/model.22/cv3.0/cv3.0.0/act/Mul_output_0 = Mul(%/model.22/cv3.0/cv3.0.0/conv/Conv_output_0, %/model.22/cv3.0/cv3.0.0/act/Sigmoid_output_0)\\n  %/model.17/Concat_output_0 = Concat[axis = 1](%/model.16/act/Mul_output_0, %/model.12/cv2/act/Mul_output_0)\\n  %/model.22/cv2.0/cv2.0.0/act/Mul_output_0_quantized, %/model.22/cv2.0/cv2.0.0/act/Mul_output_0_scale, %/model.22/cv2.0/cv2.0.0/act/Mul_output_0_zero_point = DynamicQuantizeLinear(%/model.22/cv2.0/cv2.0.0/act/Mul_output_0)\\n  %/model.22/cv3.0/cv3.0.0/act/Mul_output_0_quantized, %/model.22/cv3.0/cv3.0.0/act/Mul_output_0_scale, %/model.22/cv3.0/cv3.0.0/act/Mul_output_0_zero_point = DynamicQuantizeLinear(%/model.22/cv3.0/cv3.0.0/act/Mul_output_0)\\n  %/model.17/Concat_output_0_quantized, %/model.17/Concat_output_0_scale, %/model.17/Concat_output_0_zero_point = DynamicQuantizeLinear(%/model.17/Concat_output_0)\\n  %/model.22/cv2.0/cv2.0.1/conv/Conv_quant_scales_mul:0 = Mul(%/model.22/cv2.0/cv2.0.0/act/Mul_output_0_scale, %model.22.cv2.0.1.conv.weight_scale)\\n  %/model.22/cv2.0/cv2.0.1/conv/Conv_output_0_output_quantized = ConvInteger[dilations = [1, 1], group = 1, kernel_shape = [3, 3], pads = [1, 1, 1, 1], strides = [1, 1]](%/model.22/cv2.0/cv2.0.0/act/Mul_output_0_quantized, %model.22.cv2.0.1.conv.weight_quantized, %/model.22/cv2.0/cv2.0.0/act/Mul_output_0_zero_point, %model.22.cv2.0.1.conv.weight_zero_point)\\n  %/model.22/cv3.0/cv3.0.1/conv/Conv_quant_scales_mul:0 = Mul(%/model.22/cv3.0/cv3.0.0/act/Mul_output_0_scale, %model.22.cv3.0.1.conv.weight_scale)\\n  %/model.22/cv3.0/cv3.0.1/conv/Conv_output_0_output_quantized = ConvInteger[dilations = [1, 1], group = 1, kernel_shape = [3, 3], pads = [1, 1, 1, 1], strides = [1, 1]](%/model.22/cv3.0/cv3.0.0/act/Mul_output_0_quantized, %model.22.cv3.0.1.conv.weight_quantized, %/model.22/cv3.0/cv3.0.0/act/Mul_output_0_zero_point, %model.22.cv3.0.1.conv.weight_zero_point)\\n  %/model.18/cv1/conv/Conv_quant_scales_mul:0 = Mul(%/model.17/Concat_output_0_scale, %model.18.cv1.conv.weight_scale)\\n  %/model.18/cv1/conv/Conv_output_0_output_quantized = ConvInteger[dilations = [1, 1], group = 1, kernel_shape = [1, 1], pads = [0, 0, 0, 0], strides = [1, 1]](%/model.17/Concat_output_0_quantized, %model.18.cv1.conv.weight_quantized, %/model.17/Concat_output_0_zero_point, %model.18.cv1.conv.weight_zero_point)\\n  %/model.22/cv2.0/cv2.0.1/conv/Conv_output_0_output_quantized_cast_output = Cast[to = 1](%/model.22/cv2.0/cv2.0.1/conv/Conv_output_0_output_quantized)\\n  %/model.22/cv3.0/cv3.0.1/conv/Conv_output_0_output_quantized_cast_output = Cast[to = 1](%/model.22/cv3.0/cv3.0.1/conv/Conv_output_0_output_quantized)\\n  %/model.18/cv1/conv/Conv_output_0_output_quantized_cast_output = Cast[to = 1](%/model.18/cv1/conv/Conv_output_0_output_quantized)\\n  %/model.22/cv2.0/cv2.0.1/conv/Conv_output_0quant_scaled_output = Mul(%/model.22/cv2.0/cv2.0.1/conv/Conv_output_0_output_quantized_cast_output, %/model.22/cv2.0/cv2.0.1/conv/Conv_quant_scales_mul:0)\\n  %/model.22/cv3.0/cv3.0.1/conv/Conv_output_0quant_scaled_output = Mul(%/model.22/cv3.0/cv3.0.1/conv/Conv_output_0_output_quantized_cast_output, %/model.22/cv3.0/cv3.0.1/conv/Conv_quant_scales_mul:0)\\n  %/model.18/cv1/conv/Conv_output_0quant_scaled_output = Mul(%/model.18/cv1/conv/Conv_output_0_output_quantized_cast_output, %/model.18/cv1/conv/Conv_quant_scales_mul:0)\\n  %/model.22/cv2.0/cv2.0.1/conv/Conv_output_0 = Add(%/model.22/cv2.0/cv2.0.1/conv/Conv_output_0quant_scaled_output, %/model.22/cv2.0/cv2.0.1/conv/Conv_output_0_bias_reshape_output)\\n  %/model.22/cv3.0/cv3.0.1/conv/Conv_output_0 = Add(%/model.22/cv3.0/cv3.0.1/conv/Conv_output_0quant_scaled_output, %/model.22/cv3.0/cv3.0.1/conv/Conv_output_0_bias_reshape_output)\\n  %/model.18/cv1/conv/Conv_output_0 = Add(%/model.18/cv1/conv/Conv_output_0quant_scaled_output, %/model.18/cv1/conv/Conv_output_0_bias_reshape_output)\\n  %/model.22/cv2.0/cv2.0.1/act/Sigmoid_output_0 = Sigmoid(%/model.22/cv2.0/cv2.0.1/conv/Conv_output_0)\\n  %/model.22/cv3.0/cv3.0.1/act/Sigmoid_output_0 = Sigmoid(%/model.22/cv3.0/cv3.0.1/conv/Conv_output_0)\\n  %/model.18/cv1/act/Sigmoid_output_0 = Sigmoid(%/model.18/cv1/conv/Conv_output_0)\\n  %/model.22/cv2.0/cv2.0.1/act/Mul_output_0 = Mul(%/model.22/cv2.0/cv2.0.1/conv/Conv_output_0, %/model.22/cv2.0/cv2.0.1/act/Sigmoid_output_0)\\n  %/model.22/cv3.0/cv3.0.1/act/Mul_output_0 = Mul(%/model.22/cv3.0/cv3.0.1/conv/Conv_output_0, %/model.22/cv3.0/cv3.0.1/act/Sigmoid_output_0)\\n  %/model.18/cv1/act/Mul_output_0 = Mul(%/model.18/cv1/conv/Conv_output_0, %/model.18/cv1/act/Sigmoid_output_0)\\n  %/model.22/cv2.0/cv2.0.1/act/Mul_output_0_quantized, %/model.22/cv2.0/cv2.0.1/act/Mul_output_0_scale, %/model.22/cv2.0/cv2.0.1/act/Mul_output_0_zero_point = DynamicQuantizeLinear(%/model.22/cv2.0/cv2.0.1/act/Mul_output_0)\\n  %/model.22/cv3.0/cv3.0.1/act/Mul_output_0_quantized, %/model.22/cv3.0/cv3.0.1/act/Mul_output_0_scale, %/model.22/cv3.0/cv3.0.1/act/Mul_output_0_zero_point = DynamicQuantizeLinear(%/model.22/cv3.0/cv3.0.1/act/Mul_output_0)\\n  %/model.18/Split_output_0, %/model.18/Split_output_1 = Split[axis = 1](%/model.18/cv1/act/Mul_output_0, %onnx::Split_184)\\n  %/model.22/cv2.0/cv2.0.2/Conv_quant_scales_mul:0 = Mul(%/model.22/cv2.0/cv2.0.1/act/Mul_output_0_scale, %model.22.cv2.0.2.weight_scale)\\n  %/model.22/cv2.0/cv2.0.2/Conv_output_0_output_quantized = ConvInteger[dilations = [1, 1], group = 1, kernel_shape = [1, 1], pads = [0, 0, 0, 0], strides = [1, 1]](%/model.22/cv2.0/cv2.0.1/act/Mul_output_0_quantized, %model.22.cv2.0.2.weight_quantized, %/model.22/cv2.0/cv2.0.1/act/Mul_output_0_zero_point, %model.22.cv2.0.2.weight_zero_point)\\n  %/model.22/cv3.0/cv3.0.2/Conv_quant_scales_mul:0 = Mul(%/model.22/cv3.0/cv3.0.1/act/Mul_output_0_scale, %model.22.cv3.0.2.weight_scale)\\n  %/model.22/cv3.0/cv3.0.2/Conv_output_0_output_quantized = ConvInteger[dilations = [1, 1], group = 1, kernel_shape = [1, 1], pads = [0, 0, 0, 0], strides = [1, 1]](%/model.22/cv3.0/cv3.0.1/act/Mul_output_0_quantized, %model.22.cv3.0.2.weight_quantized, %/model.22/cv3.0/cv3.0.1/act/Mul_output_0_zero_point, %model.22.cv3.0.2.weight_zero_point)\\n  %/model.18/Split_output_1_quantized, %/model.18/Split_output_1_scale, %/model.18/Split_output_1_zero_point = DynamicQuantizeLinear(%/model.18/Split_output_1)\\n  %/model.22/cv2.0/cv2.0.2/Conv_output_0_output_quantized_cast_output = Cast[to = 1](%/model.22/cv2.0/cv2.0.2/Conv_output_0_output_quantized)\\n  %/model.22/cv3.0/cv3.0.2/Conv_output_0_output_quantized_cast_output = Cast[to = 1](%/model.22/cv3.0/cv3.0.2/Conv_output_0_output_quantized)\\n  %/model.18/m.0/cv1/conv/Conv_quant_scales_mul:0 = Mul(%/model.18/Split_output_1_scale, %model.18.m.0.cv1.conv.weight_scale)\\n  %/model.18/m.0/cv1/conv/Conv_output_0_output_quantized = ConvInteger[dilations = [1, 1], group = 1, kernel_shape = [3, 3], pads = [1, 1, 1, 1], strides = [1, 1]](%/model.18/Split_output_1_quantized, %model.18.m.0.cv1.conv.weight_quantized, %/model.18/Split_output_1_zero_point, %model.18.m.0.cv1.conv.weight_zero_point)\\n  %/model.22/cv2.0/cv2.0.2/Conv_output_0quant_scaled_output = Mul(%/model.22/cv2.0/cv2.0.2/Conv_output_0_output_quantized_cast_output, %/model.22/cv2.0/cv2.0.2/Conv_quant_scales_mul:0)\\n  %/model.22/cv3.0/cv3.0.2/Conv_output_0quant_scaled_output = Mul(%/model.22/cv3.0/cv3.0.2/Conv_output_0_output_quantized_cast_output, %/model.22/cv3.0/cv3.0.2/Conv_quant_scales_mul:0)\\n  %/model.18/m.0/cv1/conv/Conv_output_0_output_quantized_cast_output = Cast[to = 1](%/model.18/m.0/cv1/conv/Conv_output_0_output_quantized)\\n  %/model.22/cv2.0/cv2.0.2/Conv_output_0 = Add(%/model.22/cv2.0/cv2.0.2/Conv_output_0quant_scaled_output, %/model.22/cv2.0/cv2.0.2/Conv_output_0_bias_reshape_output)\\n  %/model.22/cv3.0/cv3.0.2/Conv_output_0 = Add(%/model.22/cv3.0/cv3.0.2/Conv_output_0quant_scaled_output, %/model.22/cv3.0/cv3.0.2/Conv_output_0_bias_reshape_output)\\n  %/model.18/m.0/cv1/conv/Conv_output_0quant_scaled_output = Mul(%/model.18/m.0/cv1/conv/Conv_output_0_output_quantized_cast_output, %/model.18/m.0/cv1/conv/Conv_quant_scales_mul:0)\\n  %/model.22/Concat_output_0 = Concat[axis = 1](%/model.22/cv2.0/cv2.0.2/Conv_output_0, %/model.22/cv3.0/cv3.0.2/Conv_output_0)\\n  %/model.18/m.0/cv1/conv/Conv_output_0 = Add(%/model.18/m.0/cv1/conv/Conv_output_0quant_scaled_output, %/model.18/m.0/cv1/conv/Conv_output_0_bias_reshape_output)\\n  %/model.22/Reshape_output_0 = Reshape[allowzero = 0](%/model.22/Concat_output_0, %/model.22/Constant_output_0)\\n  %/model.18/m.0/cv1/act/Sigmoid_output_0 = Sigmoid(%/model.18/m.0/cv1/conv/Conv_output_0)\\n  %/model.18/m.0/cv1/act/Mul_output_0 = Mul(%/model.18/m.0/cv1/conv/Conv_output_0, %/model.18/m.0/cv1/act/Sigmoid_output_0)\\n  %/model.18/m.0/cv1/act/Mul_output_0_quantized, %/model.18/m.0/cv1/act/Mul_output_0_scale, %/model.18/m.0/cv1/act/Mul_output_0_zero_point = DynamicQuantizeLinear(%/model.18/m.0/cv1/act/Mul_output_0)\\n  %/model.18/m.0/cv2/conv/Conv_quant_scales_mul:0 = Mul(%/model.18/m.0/cv1/act/Mul_output_0_scale, %model.18.m.0.cv2.conv.weight_scale)\\n  %/model.18/m.0/cv2/conv/Conv_output_0_output_quantized = ConvInteger[dilations = [1, 1], group = 1, kernel_shape = [3, 3], pads = [1, 1, 1, 1], strides = [1, 1]](%/model.18/m.0/cv1/act/Mul_output_0_quantized, %model.18.m.0.cv2.conv.weight_quantized, %/model.18/m.0/cv1/act/Mul_output_0_zero_point, %model.18.m.0.cv2.conv.weight_zero_point)\\n  %/model.18/m.0/cv2/conv/Conv_output_0_output_quantized_cast_output = Cast[to = 1](%/model.18/m.0/cv2/conv/Conv_output_0_output_quantized)\\n  %/model.18/m.0/cv2/conv/Conv_output_0quant_scaled_output = Mul(%/model.18/m.0/cv2/conv/Conv_output_0_output_quantized_cast_output, %/model.18/m.0/cv2/conv/Conv_quant_scales_mul:0)\\n  %/model.18/m.0/cv2/conv/Conv_output_0 = Add(%/model.18/m.0/cv2/conv/Conv_output_0quant_scaled_output, %/model.18/m.0/cv2/conv/Conv_output_0_bias_reshape_output)\\n  %/model.18/m.0/cv2/act/Sigmoid_output_0 = Sigmoid(%/model.18/m.0/cv2/conv/Conv_output_0)\\n  %/model.18/m.0/cv2/act/Mul_output_0 = Mul(%/model.18/m.0/cv2/conv/Conv_output_0, %/model.18/m.0/cv2/act/Sigmoid_output_0)\\n  %/model.18/Concat_output_0 = Concat[axis = 1](%/model.18/Split_output_0, %/model.18/Split_output_1, %/model.18/m.0/cv2/act/Mul_output_0)\\n  %/model.18/Concat_output_0_quantized, %/model.18/Concat_output_0_scale, %/model.18/Concat_output_0_zero_point = DynamicQuantizeLinear(%/model.18/Concat_output_0)\\n  %/model.18/cv2/conv/Conv_quant_scales_mul:0 = Mul(%/model.18/Concat_output_0_scale, %model.18.cv2.conv.weight_scale)\\n  %/model.18/cv2/conv/Conv_output_0_output_quantized = ConvInteger[dilations = [1, 1], group = 1, kernel_shape = [1, 1], pads = [0, 0, 0, 0], strides = [1, 1]](%/model.18/Concat_output_0_quantized, %model.18.cv2.conv.weight_quantized, %/model.18/Concat_output_0_zero_point, %model.18.cv2.conv.weight_zero_point)\\n  %/model.18/cv2/conv/Conv_output_0_output_quantized_cast_output = Cast[to = 1](%/model.18/cv2/conv/Conv_output_0_output_quantized)\\n  %/model.18/cv2/conv/Conv_output_0quant_scaled_output = Mul(%/model.18/cv2/conv/Conv_output_0_output_quantized_cast_output, %/model.18/cv2/conv/Conv_quant_scales_mul:0)\\n  %/model.18/cv2/conv/Conv_output_0 = Add(%/model.18/cv2/conv/Conv_output_0quant_scaled_output, %/model.18/cv2/conv/Conv_output_0_bias_reshape_output)\\n  %/model.18/cv2/act/Sigmoid_output_0 = Sigmoid(%/model.18/cv2/conv/Conv_output_0)\\n  %/model.18/cv2/act/Mul_output_0 = Mul(%/model.18/cv2/conv/Conv_output_0, %/model.18/cv2/act/Sigmoid_output_0)\\n  %/model.18/cv2/act/Mul_output_0_quantized, %/model.18/cv2/act/Mul_output_0_scale, %/model.18/cv2/act/Mul_output_0_zero_point = DynamicQuantizeLinear(%/model.18/cv2/act/Mul_output_0)\\n  %/model.19/conv/Conv_quant_scales_mul:0 = Mul(%/model.18/cv2/act/Mul_output_0_scale, %model.19.conv.weight_scale)\\n  %/model.22/cv2.1/cv2.1.0/conv/Conv_quant_scales_mul:0 = Mul(%/model.18/cv2/act/Mul_output_0_scale, %model.22.cv2.1.0.conv.weight_scale)\\n  %/model.22/cv3.1/cv3.1.0/conv/Conv_quant_scales_mul:0 = Mul(%/model.18/cv2/act/Mul_output_0_scale, %model.22.cv3.1.0.conv.weight_scale)\\n  %/model.19/conv/Conv_output_0_output_quantized = ConvInteger[dilations = [1, 1], group = 1, kernel_shape = [3, 3], pads = [1, 1, 1, 1], strides = [2, 2]](%/model.18/cv2/act/Mul_output_0_quantized, %model.19.conv.weight_quantized, %/model.18/cv2/act/Mul_output_0_zero_point, %model.19.conv.weight_zero_point)\\n  %/model.22/cv2.1/cv2.1.0/conv/Conv_output_0_output_quantized = ConvInteger[dilations = [1, 1], group = 1, kernel_shape = [3, 3], pads = [1, 1, 1, 1], strides = [1, 1]](%/model.18/cv2/act/Mul_output_0_quantized, %model.22.cv2.1.0.conv.weight_quantized, %/model.18/cv2/act/Mul_output_0_zero_point, %model.22.cv2.1.0.conv.weight_zero_point)\\n  %/model.22/cv3.1/cv3.1.0/conv/Conv_output_0_output_quantized = ConvInteger[dilations = [1, 1], group = 1, kernel_shape = [3, 3], pads = [1, 1, 1, 1], strides = [1, 1]](%/model.18/cv2/act/Mul_output_0_quantized, %model.22.cv3.1.0.conv.weight_quantized, %/model.18/cv2/act/Mul_output_0_zero_point, %model.22.cv3.1.0.conv.weight_zero_point)\\n  %/model.19/conv/Conv_output_0_output_quantized_cast_output = Cast[to = 1](%/model.19/conv/Conv_output_0_output_quantized)\\n  %/model.22/cv2.1/cv2.1.0/conv/Conv_output_0_output_quantized_cast_output = Cast[to = 1](%/model.22/cv2.1/cv2.1.0/conv/Conv_output_0_output_quantized)\\n  %/model.22/cv3.1/cv3.1.0/conv/Conv_output_0_output_quantized_cast_output = Cast[to = 1](%/model.22/cv3.1/cv3.1.0/conv/Conv_output_0_output_quantized)\\n  %/model.19/conv/Conv_output_0quant_scaled_output = Mul(%/model.19/conv/Conv_output_0_output_quantized_cast_output, %/model.19/conv/Conv_quant_scales_mul:0)\\n  %/model.22/cv2.1/cv2.1.0/conv/Conv_output_0quant_scaled_output = Mul(%/model.22/cv2.1/cv2.1.0/conv/Conv_output_0_output_quantized_cast_output, %/model.22/cv2.1/cv2.1.0/conv/Conv_quant_scales_mul:0)\\n  %/model.22/cv3.1/cv3.1.0/conv/Conv_output_0quant_scaled_output = Mul(%/model.22/cv3.1/cv3.1.0/conv/Conv_output_0_output_quantized_cast_output, %/model.22/cv3.1/cv3.1.0/conv/Conv_quant_scales_mul:0)\\n  %/model.19/conv/Conv_output_0 = Add(%/model.19/conv/Conv_output_0quant_scaled_output, %/model.19/conv/Conv_output_0_bias_reshape_output)\\n  %/model.22/cv2.1/cv2.1.0/conv/Conv_output_0 = Add(%/model.22/cv2.1/cv2.1.0/conv/Conv_output_0quant_scaled_output, %/model.22/cv2.1/cv2.1.0/conv/Conv_output_0_bias_reshape_output)\\n  %/model.22/cv3.1/cv3.1.0/conv/Conv_output_0 = Add(%/model.22/cv3.1/cv3.1.0/conv/Conv_output_0quant_scaled_output, %/model.22/cv3.1/cv3.1.0/conv/Conv_output_0_bias_reshape_output)\\n  %/model.19/act/Sigmoid_output_0 = Sigmoid(%/model.19/conv/Conv_output_0)\\n  %/model.22/cv2.1/cv2.1.0/act/Sigmoid_output_0 = Sigmoid(%/model.22/cv2.1/cv2.1.0/conv/Conv_output_0)\\n  %/model.22/cv3.1/cv3.1.0/act/Sigmoid_output_0 = Sigmoid(%/model.22/cv3.1/cv3.1.0/conv/Conv_output_0)\\n  %/model.19/act/Mul_output_0 = Mul(%/model.19/conv/Conv_output_0, %/model.19/act/Sigmoid_output_0)\\n  %/model.22/cv2.1/cv2.1.0/act/Mul_output_0 = Mul(%/model.22/cv2.1/cv2.1.0/conv/Conv_output_0, %/model.22/cv2.1/cv2.1.0/act/Sigmoid_output_0)\\n  %/model.22/cv3.1/cv3.1.0/act/Mul_output_0 = Mul(%/model.22/cv3.1/cv3.1.0/conv/Conv_output_0, %/model.22/cv3.1/cv3.1.0/act/Sigmoid_output_0)\\n  %/model.20/Concat_output_0 = Concat[axis = 1](%/model.19/act/Mul_output_0, %/model.9/cv2/act/Mul_output_0)\\n  %/model.22/cv2.1/cv2.1.0/act/Mul_output_0_quantized, %/model.22/cv2.1/cv2.1.0/act/Mul_output_0_scale, %/model.22/cv2.1/cv2.1.0/act/Mul_output_0_zero_point = DynamicQuantizeLinear(%/model.22/cv2.1/cv2.1.0/act/Mul_output_0)\\n  %/model.22/cv3.1/cv3.1.0/act/Mul_output_0_quantized, %/model.22/cv3.1/cv3.1.0/act/Mul_output_0_scale, %/model.22/cv3.1/cv3.1.0/act/Mul_output_0_zero_point = DynamicQuantizeLinear(%/model.22/cv3.1/cv3.1.0/act/Mul_output_0)\\n  %/model.20/Concat_output_0_quantized, %/model.20/Concat_output_0_scale, %/model.20/Concat_output_0_zero_point = DynamicQuantizeLinear(%/model.20/Concat_output_0)\\n  %/model.22/cv2.1/cv2.1.1/conv/Conv_quant_scales_mul:0 = Mul(%/model.22/cv2.1/cv2.1.0/act/Mul_output_0_scale, %model.22.cv2.1.1.conv.weight_scale)\\n  %/model.22/cv2.1/cv2.1.1/conv/Conv_output_0_output_quantized = ConvInteger[dilations = [1, 1], group = 1, kernel_shape = [3, 3], pads = [1, 1, 1, 1], strides = [1, 1]](%/model.22/cv2.1/cv2.1.0/act/Mul_output_0_quantized, %model.22.cv2.1.1.conv.weight_quantized, %/model.22/cv2.1/cv2.1.0/act/Mul_output_0_zero_point, %model.22.cv2.1.1.conv.weight_zero_point)\\n  %/model.22/cv3.1/cv3.1.1/conv/Conv_quant_scales_mul:0 = Mul(%/model.22/cv3.1/cv3.1.0/act/Mul_output_0_scale, %model.22.cv3.1.1.conv.weight_scale)\\n  %/model.22/cv3.1/cv3.1.1/conv/Conv_output_0_output_quantized = ConvInteger[dilations = [1, 1], group = 1, kernel_shape = [3, 3], pads = [1, 1, 1, 1], strides = [1, 1]](%/model.22/cv3.1/cv3.1.0/act/Mul_output_0_quantized, %model.22.cv3.1.1.conv.weight_quantized, %/model.22/cv3.1/cv3.1.0/act/Mul_output_0_zero_point, %model.22.cv3.1.1.conv.weight_zero_point)\\n  %/model.21/cv1/conv/Conv_quant_scales_mul:0 = Mul(%/model.20/Concat_output_0_scale, %model.21.cv1.conv.weight_scale)\\n  %/model.21/cv1/conv/Conv_output_0_output_quantized = ConvInteger[dilations = [1, 1], group = 1, kernel_shape = [1, 1], pads = [0, 0, 0, 0], strides = [1, 1]](%/model.20/Concat_output_0_quantized, %model.21.cv1.conv.weight_quantized, %/model.20/Concat_output_0_zero_point, %model.21.cv1.conv.weight_zero_point)\\n  %/model.22/cv2.1/cv2.1.1/conv/Conv_output_0_output_quantized_cast_output = Cast[to = 1](%/model.22/cv2.1/cv2.1.1/conv/Conv_output_0_output_quantized)\\n  %/model.22/cv3.1/cv3.1.1/conv/Conv_output_0_output_quantized_cast_output = Cast[to = 1](%/model.22/cv3.1/cv3.1.1/conv/Conv_output_0_output_quantized)\\n  %/model.21/cv1/conv/Conv_output_0_output_quantized_cast_output = Cast[to = 1](%/model.21/cv1/conv/Conv_output_0_output_quantized)\\n  %/model.22/cv2.1/cv2.1.1/conv/Conv_output_0quant_scaled_output = Mul(%/model.22/cv2.1/cv2.1.1/conv/Conv_output_0_output_quantized_cast_output, %/model.22/cv2.1/cv2.1.1/conv/Conv_quant_scales_mul:0)\\n  %/model.22/cv3.1/cv3.1.1/conv/Conv_output_0quant_scaled_output = Mul(%/model.22/cv3.1/cv3.1.1/conv/Conv_output_0_output_quantized_cast_output, %/model.22/cv3.1/cv3.1.1/conv/Conv_quant_scales_mul:0)\\n  %/model.21/cv1/conv/Conv_output_0quant_scaled_output = Mul(%/model.21/cv1/conv/Conv_output_0_output_quantized_cast_output, %/model.21/cv1/conv/Conv_quant_scales_mul:0)\\n  %/model.22/cv2.1/cv2.1.1/conv/Conv_output_0 = Add(%/model.22/cv2.1/cv2.1.1/conv/Conv_output_0quant_scaled_output, %/model.22/cv2.1/cv2.1.1/conv/Conv_output_0_bias_reshape_output)\\n  %/model.22/cv3.1/cv3.1.1/conv/Conv_output_0 = Add(%/model.22/cv3.1/cv3.1.1/conv/Conv_output_0quant_scaled_output, %/model.22/cv3.1/cv3.1.1/conv/Conv_output_0_bias_reshape_output)\\n  %/model.21/cv1/conv/Conv_output_0 = Add(%/model.21/cv1/conv/Conv_output_0quant_scaled_output, %/model.21/cv1/conv/Conv_output_0_bias_reshape_output)\\n  %/model.22/cv2.1/cv2.1.1/act/Sigmoid_output_0 = Sigmoid(%/model.22/cv2.1/cv2.1.1/conv/Conv_output_0)\\n  %/model.22/cv3.1/cv3.1.1/act/Sigmoid_output_0 = Sigmoid(%/model.22/cv3.1/cv3.1.1/conv/Conv_output_0)\\n  %/model.21/cv1/act/Sigmoid_output_0 = Sigmoid(%/model.21/cv1/conv/Conv_output_0)\\n  %/model.22/cv2.1/cv2.1.1/act/Mul_output_0 = Mul(%/model.22/cv2.1/cv2.1.1/conv/Conv_output_0, %/model.22/cv2.1/cv2.1.1/act/Sigmoid_output_0)\\n  %/model.22/cv3.1/cv3.1.1/act/Mul_output_0 = Mul(%/model.22/cv3.1/cv3.1.1/conv/Conv_output_0, %/model.22/cv3.1/cv3.1.1/act/Sigmoid_output_0)\\n  %/model.21/cv1/act/Mul_output_0 = Mul(%/model.21/cv1/conv/Conv_output_0, %/model.21/cv1/act/Sigmoid_output_0)\\n  %/model.22/cv2.1/cv2.1.1/act/Mul_output_0_quantized, %/model.22/cv2.1/cv2.1.1/act/Mul_output_0_scale, %/model.22/cv2.1/cv2.1.1/act/Mul_output_0_zero_point = DynamicQuantizeLinear(%/model.22/cv2.1/cv2.1.1/act/Mul_output_0)\\n  %/model.22/cv3.1/cv3.1.1/act/Mul_output_0_quantized, %/model.22/cv3.1/cv3.1.1/act/Mul_output_0_scale, %/model.22/cv3.1/cv3.1.1/act/Mul_output_0_zero_point = DynamicQuantizeLinear(%/model.22/cv3.1/cv3.1.1/act/Mul_output_0)\\n  %/model.21/Split_output_0, %/model.21/Split_output_1 = Split[axis = 1](%/model.21/cv1/act/Mul_output_0, %onnx::Split_211)\\n  %/model.22/cv2.1/cv2.1.2/Conv_quant_scales_mul:0 = Mul(%/model.22/cv2.1/cv2.1.1/act/Mul_output_0_scale, %model.22.cv2.1.2.weight_scale)\\n  %/model.22/cv2.1/cv2.1.2/Conv_output_0_output_quantized = ConvInteger[dilations = [1, 1], group = 1, kernel_shape = [1, 1], pads = [0, 0, 0, 0], strides = [1, 1]](%/model.22/cv2.1/cv2.1.1/act/Mul_output_0_quantized, %model.22.cv2.1.2.weight_quantized, %/model.22/cv2.1/cv2.1.1/act/Mul_output_0_zero_point, %model.22.cv2.1.2.weight_zero_point)\\n  %/model.22/cv3.1/cv3.1.2/Conv_quant_scales_mul:0 = Mul(%/model.22/cv3.1/cv3.1.1/act/Mul_output_0_scale, %model.22.cv3.1.2.weight_scale)\\n  %/model.22/cv3.1/cv3.1.2/Conv_output_0_output_quantized = ConvInteger[dilations = [1, 1], group = 1, kernel_shape = [1, 1], pads = [0, 0, 0, 0], strides = [1, 1]](%/model.22/cv3.1/cv3.1.1/act/Mul_output_0_quantized, %model.22.cv3.1.2.weight_quantized, %/model.22/cv3.1/cv3.1.1/act/Mul_output_0_zero_point, %model.22.cv3.1.2.weight_zero_point)\\n  %/model.21/Split_output_1_quantized, %/model.21/Split_output_1_scale, %/model.21/Split_output_1_zero_point = DynamicQuantizeLinear(%/model.21/Split_output_1)\\n  %/model.22/cv2.1/cv2.1.2/Conv_output_0_output_quantized_cast_output = Cast[to = 1](%/model.22/cv2.1/cv2.1.2/Conv_output_0_output_quantized)\\n  %/model.22/cv3.1/cv3.1.2/Conv_output_0_output_quantized_cast_output = Cast[to = 1](%/model.22/cv3.1/cv3.1.2/Conv_output_0_output_quantized)\\n  %/model.21/m.0/cv1/conv/Conv_quant_scales_mul:0 = Mul(%/model.21/Split_output_1_scale, %model.21.m.0.cv1.conv.weight_scale)\\n  %/model.21/m.0/cv1/conv/Conv_output_0_output_quantized = ConvInteger[dilations = [1, 1], group = 1, kernel_shape = [3, 3], pads = [1, 1, 1, 1], strides = [1, 1]](%/model.21/Split_output_1_quantized, %model.21.m.0.cv1.conv.weight_quantized, %/model.21/Split_output_1_zero_point, %model.21.m.0.cv1.conv.weight_zero_point)\\n  %/model.22/cv2.1/cv2.1.2/Conv_output_0quant_scaled_output = Mul(%/model.22/cv2.1/cv2.1.2/Conv_output_0_output_quantized_cast_output, %/model.22/cv2.1/cv2.1.2/Conv_quant_scales_mul:0)\\n  %/model.22/cv3.1/cv3.1.2/Conv_output_0quant_scaled_output = Mul(%/model.22/cv3.1/cv3.1.2/Conv_output_0_output_quantized_cast_output, %/model.22/cv3.1/cv3.1.2/Conv_quant_scales_mul:0)\\n  %/model.21/m.0/cv1/conv/Conv_output_0_output_quantized_cast_output = Cast[to = 1](%/model.21/m.0/cv1/conv/Conv_output_0_output_quantized)\\n  %/model.22/cv2.1/cv2.1.2/Conv_output_0 = Add(%/model.22/cv2.1/cv2.1.2/Conv_output_0quant_scaled_output, %/model.22/cv2.1/cv2.1.2/Conv_output_0_bias_reshape_output)\\n  %/model.22/cv3.1/cv3.1.2/Conv_output_0 = Add(%/model.22/cv3.1/cv3.1.2/Conv_output_0quant_scaled_output, %/model.22/cv3.1/cv3.1.2/Conv_output_0_bias_reshape_output)\\n  %/model.21/m.0/cv1/conv/Conv_output_0quant_scaled_output = Mul(%/model.21/m.0/cv1/conv/Conv_output_0_output_quantized_cast_output, %/model.21/m.0/cv1/conv/Conv_quant_scales_mul:0)\\n  %/model.22/Concat_1_output_0 = Concat[axis = 1](%/model.22/cv2.1/cv2.1.2/Conv_output_0, %/model.22/cv3.1/cv3.1.2/Conv_output_0)\\n  %/model.21/m.0/cv1/conv/Conv_output_0 = Add(%/model.21/m.0/cv1/conv/Conv_output_0quant_scaled_output, %/model.21/m.0/cv1/conv/Conv_output_0_bias_reshape_output)\\n  %/model.22/Reshape_1_output_0 = Reshape[allowzero = 0](%/model.22/Concat_1_output_0, %/model.22/Constant_output_0)\\n  %/model.21/m.0/cv1/act/Sigmoid_output_0 = Sigmoid(%/model.21/m.0/cv1/conv/Conv_output_0)\\n  %/model.21/m.0/cv1/act/Mul_output_0 = Mul(%/model.21/m.0/cv1/conv/Conv_output_0, %/model.21/m.0/cv1/act/Sigmoid_output_0)\\n  %/model.21/m.0/cv1/act/Mul_output_0_quantized, %/model.21/m.0/cv1/act/Mul_output_0_scale, %/model.21/m.0/cv1/act/Mul_output_0_zero_point = DynamicQuantizeLinear(%/model.21/m.0/cv1/act/Mul_output_0)\\n  %/model.21/m.0/cv2/conv/Conv_quant_scales_mul:0 = Mul(%/model.21/m.0/cv1/act/Mul_output_0_scale, %model.21.m.0.cv2.conv.weight_scale)\\n  %/model.21/m.0/cv2/conv/Conv_output_0_output_quantized = ConvInteger[dilations = [1, 1], group = 1, kernel_shape = [3, 3], pads = [1, 1, 1, 1], strides = [1, 1]](%/model.21/m.0/cv1/act/Mul_output_0_quantized, %model.21.m.0.cv2.conv.weight_quantized, %/model.21/m.0/cv1/act/Mul_output_0_zero_point, %model.21.m.0.cv2.conv.weight_zero_point)\\n  %/model.21/m.0/cv2/conv/Conv_output_0_output_quantized_cast_output = Cast[to = 1](%/model.21/m.0/cv2/conv/Conv_output_0_output_quantized)\\n  %/model.21/m.0/cv2/conv/Conv_output_0quant_scaled_output = Mul(%/model.21/m.0/cv2/conv/Conv_output_0_output_quantized_cast_output, %/model.21/m.0/cv2/conv/Conv_quant_scales_mul:0)\\n  %/model.21/m.0/cv2/conv/Conv_output_0 = Add(%/model.21/m.0/cv2/conv/Conv_output_0quant_scaled_output, %/model.21/m.0/cv2/conv/Conv_output_0_bias_reshape_output)\\n  %/model.21/m.0/cv2/act/Sigmoid_output_0 = Sigmoid(%/model.21/m.0/cv2/conv/Conv_output_0)\\n  %/model.21/m.0/cv2/act/Mul_output_0 = Mul(%/model.21/m.0/cv2/conv/Conv_output_0, %/model.21/m.0/cv2/act/Sigmoid_output_0)\\n  %/model.21/Concat_output_0 = Concat[axis = 1](%/model.21/Split_output_0, %/model.21/Split_output_1, %/model.21/m.0/cv2/act/Mul_output_0)\\n  %/model.21/Concat_output_0_quantized, %/model.21/Concat_output_0_scale, %/model.21/Concat_output_0_zero_point = DynamicQuantizeLinear(%/model.21/Concat_output_0)\\n  %/model.21/cv2/conv/Conv_quant_scales_mul:0 = Mul(%/model.21/Concat_output_0_scale, %model.21.cv2.conv.weight_scale)\\n  %/model.21/cv2/conv/Conv_output_0_output_quantized = ConvInteger[dilations = [1, 1], group = 1, kernel_shape = [1, 1], pads = [0, 0, 0, 0], strides = [1, 1]](%/model.21/Concat_output_0_quantized, %model.21.cv2.conv.weight_quantized, %/model.21/Concat_output_0_zero_point, %model.21.cv2.conv.weight_zero_point)\\n  %/model.21/cv2/conv/Conv_output_0_output_quantized_cast_output = Cast[to = 1](%/model.21/cv2/conv/Conv_output_0_output_quantized)\\n  %/model.21/cv2/conv/Conv_output_0quant_scaled_output = Mul(%/model.21/cv2/conv/Conv_output_0_output_quantized_cast_output, %/model.21/cv2/conv/Conv_quant_scales_mul:0)\\n  %/model.21/cv2/conv/Conv_output_0 = Add(%/model.21/cv2/conv/Conv_output_0quant_scaled_output, %/model.21/cv2/conv/Conv_output_0_bias_reshape_output)\\n  %/model.21/cv2/act/Sigmoid_output_0 = Sigmoid(%/model.21/cv2/conv/Conv_output_0)\\n  %/model.21/cv2/act/Mul_output_0 = Mul(%/model.21/cv2/conv/Conv_output_0, %/model.21/cv2/act/Sigmoid_output_0)\\n  %/model.21/cv2/act/Mul_output_0_quantized, %/model.21/cv2/act/Mul_output_0_scale, %/model.21/cv2/act/Mul_output_0_zero_point = DynamicQuantizeLinear(%/model.21/cv2/act/Mul_output_0)\\n  %/model.22/cv2.2/cv2.2.0/conv/Conv_quant_scales_mul:0 = Mul(%/model.21/cv2/act/Mul_output_0_scale, %model.22.cv2.2.0.conv.weight_scale)\\n  %/model.22/cv3.2/cv3.2.0/conv/Conv_quant_scales_mul:0 = Mul(%/model.21/cv2/act/Mul_output_0_scale, %model.22.cv3.2.0.conv.weight_scale)\\n  %/model.22/cv2.2/cv2.2.0/conv/Conv_output_0_output_quantized = ConvInteger[dilations = [1, 1], group = 1, kernel_shape = [3, 3], pads = [1, 1, 1, 1], strides = [1, 1]](%/model.21/cv2/act/Mul_output_0_quantized, %model.22.cv2.2.0.conv.weight_quantized, %/model.21/cv2/act/Mul_output_0_zero_point, %model.22.cv2.2.0.conv.weight_zero_point)\\n  %/model.22/cv3.2/cv3.2.0/conv/Conv_output_0_output_quantized = ConvInteger[dilations = [1, 1], group = 1, kernel_shape = [3, 3], pads = [1, 1, 1, 1], strides = [1, 1]](%/model.21/cv2/act/Mul_output_0_quantized, %model.22.cv3.2.0.conv.weight_quantized, %/model.21/cv2/act/Mul_output_0_zero_point, %model.22.cv3.2.0.conv.weight_zero_point)\\n  %/model.22/cv2.2/cv2.2.0/conv/Conv_output_0_output_quantized_cast_output = Cast[to = 1](%/model.22/cv2.2/cv2.2.0/conv/Conv_output_0_output_quantized)\\n  %/model.22/cv3.2/cv3.2.0/conv/Conv_output_0_output_quantized_cast_output = Cast[to = 1](%/model.22/cv3.2/cv3.2.0/conv/Conv_output_0_output_quantized)\\n  %/model.22/cv2.2/cv2.2.0/conv/Conv_output_0quant_scaled_output = Mul(%/model.22/cv2.2/cv2.2.0/conv/Conv_output_0_output_quantized_cast_output, %/model.22/cv2.2/cv2.2.0/conv/Conv_quant_scales_mul:0)\\n  %/model.22/cv3.2/cv3.2.0/conv/Conv_output_0quant_scaled_output = Mul(%/model.22/cv3.2/cv3.2.0/conv/Conv_output_0_output_quantized_cast_output, %/model.22/cv3.2/cv3.2.0/conv/Conv_quant_scales_mul:0)\\n  %/model.22/cv2.2/cv2.2.0/conv/Conv_output_0 = Add(%/model.22/cv2.2/cv2.2.0/conv/Conv_output_0quant_scaled_output, %/model.22/cv2.2/cv2.2.0/conv/Conv_output_0_bias_reshape_output)\\n  %/model.22/cv3.2/cv3.2.0/conv/Conv_output_0 = Add(%/model.22/cv3.2/cv3.2.0/conv/Conv_output_0quant_scaled_output, %/model.22/cv3.2/cv3.2.0/conv/Conv_output_0_bias_reshape_output)\\n  %/model.22/cv2.2/cv2.2.0/act/Sigmoid_output_0 = Sigmoid(%/model.22/cv2.2/cv2.2.0/conv/Conv_output_0)\\n  %/model.22/cv3.2/cv3.2.0/act/Sigmoid_output_0 = Sigmoid(%/model.22/cv3.2/cv3.2.0/conv/Conv_output_0)\\n  %/model.22/cv2.2/cv2.2.0/act/Mul_output_0 = Mul(%/model.22/cv2.2/cv2.2.0/conv/Conv_output_0, %/model.22/cv2.2/cv2.2.0/act/Sigmoid_output_0)\\n  %/model.22/cv3.2/cv3.2.0/act/Mul_output_0 = Mul(%/model.22/cv3.2/cv3.2.0/conv/Conv_output_0, %/model.22/cv3.2/cv3.2.0/act/Sigmoid_output_0)\\n  %/model.22/cv2.2/cv2.2.0/act/Mul_output_0_quantized, %/model.22/cv2.2/cv2.2.0/act/Mul_output_0_scale, %/model.22/cv2.2/cv2.2.0/act/Mul_output_0_zero_point = DynamicQuantizeLinear(%/model.22/cv2.2/cv2.2.0/act/Mul_output_0)\\n  %/model.22/cv3.2/cv3.2.0/act/Mul_output_0_quantized, %/model.22/cv3.2/cv3.2.0/act/Mul_output_0_scale, %/model.22/cv3.2/cv3.2.0/act/Mul_output_0_zero_point = DynamicQuantizeLinear(%/model.22/cv3.2/cv3.2.0/act/Mul_output_0)\\n  %/model.22/cv2.2/cv2.2.1/conv/Conv_quant_scales_mul:0 = Mul(%/model.22/cv2.2/cv2.2.0/act/Mul_output_0_scale, %model.22.cv2.2.1.conv.weight_scale)\\n  %/model.22/cv2.2/cv2.2.1/conv/Conv_output_0_output_quantized = ConvInteger[dilations = [1, 1], group = 1, kernel_shape = [3, 3], pads = [1, 1, 1, 1], strides = [1, 1]](%/model.22/cv2.2/cv2.2.0/act/Mul_output_0_quantized, %model.22.cv2.2.1.conv.weight_quantized, %/model.22/cv2.2/cv2.2.0/act/Mul_output_0_zero_point, %model.22.cv2.2.1.conv.weight_zero_point)\\n  %/model.22/cv3.2/cv3.2.1/conv/Conv_quant_scales_mul:0 = Mul(%/model.22/cv3.2/cv3.2.0/act/Mul_output_0_scale, %model.22.cv3.2.1.conv.weight_scale)\\n  %/model.22/cv3.2/cv3.2.1/conv/Conv_output_0_output_quantized = ConvInteger[dilations = [1, 1], group = 1, kernel_shape = [3, 3], pads = [1, 1, 1, 1], strides = [1, 1]](%/model.22/cv3.2/cv3.2.0/act/Mul_output_0_quantized, %model.22.cv3.2.1.conv.weight_quantized, %/model.22/cv3.2/cv3.2.0/act/Mul_output_0_zero_point, %model.22.cv3.2.1.conv.weight_zero_point)\\n  %/model.22/cv2.2/cv2.2.1/conv/Conv_output_0_output_quantized_cast_output = Cast[to = 1](%/model.22/cv2.2/cv2.2.1/conv/Conv_output_0_output_quantized)\\n  %/model.22/cv3.2/cv3.2.1/conv/Conv_output_0_output_quantized_cast_output = Cast[to = 1](%/model.22/cv3.2/cv3.2.1/conv/Conv_output_0_output_quantized)\\n  %/model.22/cv2.2/cv2.2.1/conv/Conv_output_0quant_scaled_output = Mul(%/model.22/cv2.2/cv2.2.1/conv/Conv_output_0_output_quantized_cast_output, %/model.22/cv2.2/cv2.2.1/conv/Conv_quant_scales_mul:0)\\n  %/model.22/cv3.2/cv3.2.1/conv/Conv_output_0quant_scaled_output = Mul(%/model.22/cv3.2/cv3.2.1/conv/Conv_output_0_output_quantized_cast_output, %/model.22/cv3.2/cv3.2.1/conv/Conv_quant_scales_mul:0)\\n  %/model.22/cv2.2/cv2.2.1/conv/Conv_output_0 = Add(%/model.22/cv2.2/cv2.2.1/conv/Conv_output_0quant_scaled_output, %/model.22/cv2.2/cv2.2.1/conv/Conv_output_0_bias_reshape_output)\\n  %/model.22/cv3.2/cv3.2.1/conv/Conv_output_0 = Add(%/model.22/cv3.2/cv3.2.1/conv/Conv_output_0quant_scaled_output, %/model.22/cv3.2/cv3.2.1/conv/Conv_output_0_bias_reshape_output)\\n  %/model.22/cv2.2/cv2.2.1/act/Sigmoid_output_0 = Sigmoid(%/model.22/cv2.2/cv2.2.1/conv/Conv_output_0)\\n  %/model.22/cv3.2/cv3.2.1/act/Sigmoid_output_0 = Sigmoid(%/model.22/cv3.2/cv3.2.1/conv/Conv_output_0)\\n  %/model.22/cv2.2/cv2.2.1/act/Mul_output_0 = Mul(%/model.22/cv2.2/cv2.2.1/conv/Conv_output_0, %/model.22/cv2.2/cv2.2.1/act/Sigmoid_output_0)\\n  %/model.22/cv3.2/cv3.2.1/act/Mul_output_0 = Mul(%/model.22/cv3.2/cv3.2.1/conv/Conv_output_0, %/model.22/cv3.2/cv3.2.1/act/Sigmoid_output_0)\\n  %/model.22/cv2.2/cv2.2.1/act/Mul_output_0_quantized, %/model.22/cv2.2/cv2.2.1/act/Mul_output_0_scale, %/model.22/cv2.2/cv2.2.1/act/Mul_output_0_zero_point = DynamicQuantizeLinear(%/model.22/cv2.2/cv2.2.1/act/Mul_output_0)\\n  %/model.22/cv3.2/cv3.2.1/act/Mul_output_0_quantized, %/model.22/cv3.2/cv3.2.1/act/Mul_output_0_scale, %/model.22/cv3.2/cv3.2.1/act/Mul_output_0_zero_point = DynamicQuantizeLinear(%/model.22/cv3.2/cv3.2.1/act/Mul_output_0)\\n  %/model.22/cv2.2/cv2.2.2/Conv_quant_scales_mul:0 = Mul(%/model.22/cv2.2/cv2.2.1/act/Mul_output_0_scale, %model.22.cv2.2.2.weight_scale)\\n  %/model.22/cv2.2/cv2.2.2/Conv_output_0_output_quantized = ConvInteger[dilations = [1, 1], group = 1, kernel_shape = [1, 1], pads = [0, 0, 0, 0], strides = [1, 1]](%/model.22/cv2.2/cv2.2.1/act/Mul_output_0_quantized, %model.22.cv2.2.2.weight_quantized, %/model.22/cv2.2/cv2.2.1/act/Mul_output_0_zero_point, %model.22.cv2.2.2.weight_zero_point)\\n  %/model.22/cv3.2/cv3.2.2/Conv_quant_scales_mul:0 = Mul(%/model.22/cv3.2/cv3.2.1/act/Mul_output_0_scale, %model.22.cv3.2.2.weight_scale)\\n  %/model.22/cv3.2/cv3.2.2/Conv_output_0_output_quantized = ConvInteger[dilations = [1, 1], group = 1, kernel_shape = [1, 1], pads = [0, 0, 0, 0], strides = [1, 1]](%/model.22/cv3.2/cv3.2.1/act/Mul_output_0_quantized, %model.22.cv3.2.2.weight_quantized, %/model.22/cv3.2/cv3.2.1/act/Mul_output_0_zero_point, %model.22.cv3.2.2.weight_zero_point)\\n  %/model.22/cv2.2/cv2.2.2/Conv_output_0_output_quantized_cast_output = Cast[to = 1](%/model.22/cv2.2/cv2.2.2/Conv_output_0_output_quantized)\\n  %/model.22/cv3.2/cv3.2.2/Conv_output_0_output_quantized_cast_output = Cast[to = 1](%/model.22/cv3.2/cv3.2.2/Conv_output_0_output_quantized)\\n  %/model.22/cv2.2/cv2.2.2/Conv_output_0quant_scaled_output = Mul(%/model.22/cv2.2/cv2.2.2/Conv_output_0_output_quantized_cast_output, %/model.22/cv2.2/cv2.2.2/Conv_quant_scales_mul:0)\\n  %/model.22/cv3.2/cv3.2.2/Conv_output_0quant_scaled_output = Mul(%/model.22/cv3.2/cv3.2.2/Conv_output_0_output_quantized_cast_output, %/model.22/cv3.2/cv3.2.2/Conv_quant_scales_mul:0)\\n  %/model.22/cv2.2/cv2.2.2/Conv_output_0 = Add(%/model.22/cv2.2/cv2.2.2/Conv_output_0quant_scaled_output, %/model.22/cv2.2/cv2.2.2/Conv_output_0_bias_reshape_output)\\n  %/model.22/cv3.2/cv3.2.2/Conv_output_0 = Add(%/model.22/cv3.2/cv3.2.2/Conv_output_0quant_scaled_output, %/model.22/cv3.2/cv3.2.2/Conv_output_0_bias_reshape_output)\\n  %/model.22/Concat_2_output_0 = Concat[axis = 1](%/model.22/cv2.2/cv2.2.2/Conv_output_0, %/model.22/cv3.2/cv3.2.2/Conv_output_0)\\n  %/model.22/Reshape_2_output_0 = Reshape[allowzero = 0](%/model.22/Concat_2_output_0, %/model.22/Constant_output_0)\\n  %/model.22/Concat_3_output_0 = Concat[axis = 2](%/model.22/Reshape_output_0, %/model.22/Reshape_1_output_0, %/model.22/Reshape_2_output_0)\\n  %/model.22/Split_output_0, %/model.22/Split_output_1 = Split[axis = 1](%/model.22/Concat_3_output_0, %onnx::Split_416)\\n  %/model.22/dfl/Reshape_output_0 = Reshape[allowzero = 0](%/model.22/Split_output_0, %/model.22/dfl/Constant_output_0)\\n  %/model.22/Sigmoid_output_0 = Sigmoid(%/model.22/Split_output_1)\\n  %/model.22/dfl/Transpose_output_0 = Transpose[perm = [0, 2, 1, 3]](%/model.22/dfl/Reshape_output_0)\\n  %/model.22/dfl/Softmax_output_0 = Softmax[axis = 1](%/model.22/dfl/Transpose_output_0)\\n  %/model.22/dfl/Softmax_output_0_quantized, %/model.22/dfl/Softmax_output_0_scale, %/model.22/dfl/Softmax_output_0_zero_point = DynamicQuantizeLinear(%/model.22/dfl/Softmax_output_0)\\n  %/model.22/dfl/conv/Conv_quant_scales_mul:0 = Mul(%/model.22/dfl/Softmax_output_0_scale, %model.22.dfl.conv.weight_scale)\\n  %/model.22/dfl/conv/Conv_output_0_output_quantized = ConvInteger[dilations = [1, 1], group = 1, kernel_shape = [1, 1], pads = [0, 0, 0, 0], strides = [1, 1]](%/model.22/dfl/Softmax_output_0_quantized, %model.22.dfl.conv.weight_quantized, %/model.22/dfl/Softmax_output_0_zero_point, %model.22.dfl.conv.weight_zero_point)\\n  %/model.22/dfl/conv/Conv_output_0_output_quantized_cast_output = Cast[to = 1](%/model.22/dfl/conv/Conv_output_0_output_quantized)\\n  %/model.22/dfl/conv/Conv_output_0 = Mul(%/model.22/dfl/conv/Conv_output_0_output_quantized_cast_output, %/model.22/dfl/conv/Conv_quant_scales_mul:0)\\n  %/model.22/dfl/Reshape_1_output_0 = Reshape[allowzero = 0](%/model.22/dfl/conv/Conv_output_0, %/model.22/dfl/Constant_1_output_0)\\n  %/model.22/Slice_output_0 = Slice(%/model.22/dfl/Reshape_1_output_0, %/model.22/Constant_4_output_0, %/model.22/Mul_output_0, %/model.22/Constant_3_output_0)\\n  %/model.22/Slice_1_output_0 = Slice(%/model.22/dfl/Reshape_1_output_0, %/model.22/Mul_output_0, %/model.22/Mul_1_output_0, %/model.22/Constant_3_output_0)\\n  %/model.22/Sub_output_0 = Sub(%/model.22/Constant_9_output_0, %/model.22/Slice_output_0)\\n  %/model.22/Add_1_output_0 = Add(%/model.22/Constant_10_output_0, %/model.22/Slice_1_output_0)\\n  %/model.22/Add_2_output_0 = Add(%/model.22/Sub_output_0, %/model.22/Add_1_output_0)\\n  %/model.22/Sub_1_output_0 = Sub(%/model.22/Add_1_output_0, %/model.22/Sub_output_0)\\n  %/model.22/Div_1_output_0 = Div(%/model.22/Add_2_output_0, %/model.22/Constant_11_output_0)\\n  %/model.22/Concat_4_output_0 = Concat[axis = 1](%/model.22/Div_1_output_0, %/model.22/Sub_1_output_0)\\n  %/model.22/Mul_2_output_0 = Mul(%/model.22/Concat_4_output_0, %/model.22/Constant_12_output_0)\\n  %output0 = Concat[axis = 1](%/model.22/Mul_2_output_0, %/model.22/Sigmoid_output_0)\\n  return %output0\\n}\""
            ]
          },
          "execution_count": 12,
          "metadata": {},
          "output_type": "execute_result"
        }
      ],
      "source": [
        "import onnx\n",
        "\n",
        "model = onnx.load(model_int8)\n",
        "\n",
        "onnx.checker.check_model(model)\n",
        "\n",
        "onnx.helper.printable_graph(model.graph)"
      ]
    },
    {
      "cell_type": "code",
      "execution_count": 5,
      "metadata": {
        "colab": {
          "base_uri": "https://localhost:8080/"
        },
        "id": "1RZ1hE-wmsZ4",
        "outputId": "8d08b449-c648-4d14-90fe-3c78e036dbe1"
      },
      "outputs": [
        {
          "name": "stdout",
          "output_type": "stream",
          "text": [
            "Found existing installation: tensorflow 2.15.0\n",
            "Uninstalling tensorflow-2.15.0:\n",
            "  Would remove:\n",
            "    /usr/local/bin/estimator_ckpt_converter\n",
            "    /usr/local/bin/import_pb_to_tensorboard\n",
            "    /usr/local/bin/saved_model_cli\n",
            "    /usr/local/bin/tensorboard\n",
            "    /usr/local/bin/tf_upgrade_v2\n",
            "    /usr/local/bin/tflite_convert\n",
            "    /usr/local/bin/toco\n",
            "    /usr/local/bin/toco_from_protos\n",
            "    /usr/local/lib/python3.11/dist-packages/tensorflow-2.15.0.dist-info/*\n",
            "    /usr/local/lib/python3.11/dist-packages/tensorflow/*\n",
            "Proceed (Y/n)? Y\n",
            "  Successfully uninstalled tensorflow-2.15.0\n",
            "Found existing installation: tf-keras 2.15.0\n",
            "Uninstalling tf-keras-2.15.0:\n",
            "  Would remove:\n",
            "    /usr/local/lib/python3.11/dist-packages/tf_keras-2.15.0.dist-info/*\n",
            "    /usr/local/lib/python3.11/dist-packages/tf_keras/*\n",
            "Proceed (Y/n)? Y\n",
            "  Successfully uninstalled tf-keras-2.15.0\n",
            "Found existing installation: tensorflow-probability 0.22.0\n",
            "Uninstalling tensorflow-probability-0.22.0:\n",
            "  Would remove:\n",
            "    /usr/local/lib/python3.11/dist-packages/tensorflow_probability-0.22.0.dist-info/*\n",
            "    /usr/local/lib/python3.11/dist-packages/tensorflow_probability/*\n",
            "Proceed (Y/n)? Y\n",
            "  Successfully uninstalled tensorflow-probability-0.22.0\n",
            "Collecting tensorflow==2.15.0\n",
            "  Using cached tensorflow-2.15.0-cp311-cp311-manylinux_2_17_x86_64.manylinux2014_x86_64.whl.metadata (4.4 kB)\n",
            "Collecting tf-keras==2.15.0\n",
            "  Using cached tf_keras-2.15.0-py3-none-any.whl.metadata (1.6 kB)\n",
            "Collecting tensorflow-probability==0.22\n",
            "  Using cached tensorflow_probability-0.22.0-py2.py3-none-any.whl.metadata (13 kB)\n",
            "Requirement already satisfied: absl-py>=1.0.0 in /usr/local/lib/python3.11/dist-packages (from tensorflow==2.15.0) (1.4.0)\n",
            "Requirement already satisfied: astunparse>=1.6.0 in /usr/local/lib/python3.11/dist-packages (from tensorflow==2.15.0) (1.6.3)\n",
            "Requirement already satisfied: flatbuffers>=23.5.26 in /usr/local/lib/python3.11/dist-packages (from tensorflow==2.15.0) (25.2.10)\n",
            "Requirement already satisfied: gast!=0.5.0,!=0.5.1,!=0.5.2,>=0.2.1 in /usr/local/lib/python3.11/dist-packages (from tensorflow==2.15.0) (0.6.0)\n",
            "Requirement already satisfied: google-pasta>=0.1.1 in /usr/local/lib/python3.11/dist-packages (from tensorflow==2.15.0) (0.2.0)\n",
            "Requirement already satisfied: h5py>=2.9.0 in /usr/local/lib/python3.11/dist-packages (from tensorflow==2.15.0) (3.13.0)\n",
            "Requirement already satisfied: libclang>=13.0.0 in /usr/local/lib/python3.11/dist-packages (from tensorflow==2.15.0) (18.1.1)\n",
            "Requirement already satisfied: ml-dtypes~=0.2.0 in /usr/local/lib/python3.11/dist-packages (from tensorflow==2.15.0) (0.2.0)\n",
            "Requirement already satisfied: numpy<2.0.0,>=1.23.5 in /usr/local/lib/python3.11/dist-packages (from tensorflow==2.15.0) (1.26.4)\n",
            "Requirement already satisfied: opt-einsum>=2.3.2 in /usr/local/lib/python3.11/dist-packages (from tensorflow==2.15.0) (3.4.0)\n",
            "Requirement already satisfied: packaging in /usr/local/lib/python3.11/dist-packages (from tensorflow==2.15.0) (24.2)\n",
            "Requirement already satisfied: protobuf!=4.21.0,!=4.21.1,!=4.21.2,!=4.21.3,!=4.21.4,!=4.21.5,<5.0.0dev,>=3.20.3 in /usr/local/lib/python3.11/dist-packages (from tensorflow==2.15.0) (4.25.6)\n",
            "Requirement already satisfied: setuptools in /usr/local/lib/python3.11/dist-packages (from tensorflow==2.15.0) (75.1.0)\n",
            "Requirement already satisfied: six>=1.12.0 in /usr/local/lib/python3.11/dist-packages (from tensorflow==2.15.0) (1.17.0)\n",
            "Requirement already satisfied: termcolor>=1.1.0 in /usr/local/lib/python3.11/dist-packages (from tensorflow==2.15.0) (2.5.0)\n",
            "Requirement already satisfied: typing-extensions>=3.6.6 in /usr/local/lib/python3.11/dist-packages (from tensorflow==2.15.0) (4.5.0)\n",
            "Requirement already satisfied: wrapt<1.15,>=1.11.0 in /usr/local/lib/python3.11/dist-packages (from tensorflow==2.15.0) (1.14.1)\n",
            "Requirement already satisfied: tensorflow-io-gcs-filesystem>=0.23.1 in /usr/local/lib/python3.11/dist-packages (from tensorflow==2.15.0) (0.37.1)\n",
            "Requirement already satisfied: grpcio<2.0,>=1.24.3 in /usr/local/lib/python3.11/dist-packages (from tensorflow==2.15.0) (1.71.0)\n",
            "Requirement already satisfied: tensorboard<2.16,>=2.15 in /usr/local/lib/python3.11/dist-packages (from tensorflow==2.15.0) (2.15.2)\n",
            "Requirement already satisfied: tensorflow-estimator<2.16,>=2.15.0 in /usr/local/lib/python3.11/dist-packages (from tensorflow==2.15.0) (2.15.0)\n",
            "Requirement already satisfied: keras<2.16,>=2.15.0 in /usr/local/lib/python3.11/dist-packages (from tensorflow==2.15.0) (2.15.0)\n",
            "Requirement already satisfied: decorator in /usr/local/lib/python3.11/dist-packages (from tensorflow-probability==0.22) (4.4.2)\n",
            "Requirement already satisfied: cloudpickle>=1.3 in /usr/local/lib/python3.11/dist-packages (from tensorflow-probability==0.22) (3.1.1)\n",
            "Requirement already satisfied: dm-tree in /usr/local/lib/python3.11/dist-packages (from tensorflow-probability==0.22) (0.1.9)\n",
            "Requirement already satisfied: wheel<1.0,>=0.23.0 in /usr/local/lib/python3.11/dist-packages (from astunparse>=1.6.0->tensorflow==2.15.0) (0.45.1)\n",
            "Requirement already satisfied: google-auth<3,>=1.6.3 in /usr/local/lib/python3.11/dist-packages (from tensorboard<2.16,>=2.15->tensorflow==2.15.0) (2.38.0)\n",
            "Requirement already satisfied: google-auth-oauthlib<2,>=0.5 in /usr/local/lib/python3.11/dist-packages (from tensorboard<2.16,>=2.15->tensorflow==2.15.0) (1.2.1)\n",
            "Requirement already satisfied: markdown>=2.6.8 in /usr/local/lib/python3.11/dist-packages (from tensorboard<2.16,>=2.15->tensorflow==2.15.0) (3.7)\n",
            "Requirement already satisfied: requests<3,>=2.21.0 in /usr/local/lib/python3.11/dist-packages (from tensorboard<2.16,>=2.15->tensorflow==2.15.0) (2.32.3)\n",
            "Requirement already satisfied: tensorboard-data-server<0.8.0,>=0.7.0 in /usr/local/lib/python3.11/dist-packages (from tensorboard<2.16,>=2.15->tensorflow==2.15.0) (0.7.2)\n",
            "Requirement already satisfied: werkzeug>=1.0.1 in /usr/local/lib/python3.11/dist-packages (from tensorboard<2.16,>=2.15->tensorflow==2.15.0) (3.1.3)\n",
            "Requirement already satisfied: attrs>=18.2.0 in /usr/local/lib/python3.11/dist-packages (from dm-tree->tensorflow-probability==0.22) (25.3.0)\n",
            "Requirement already satisfied: cachetools<6.0,>=2.0.0 in /usr/local/lib/python3.11/dist-packages (from google-auth<3,>=1.6.3->tensorboard<2.16,>=2.15->tensorflow==2.15.0) (5.5.2)\n",
            "Requirement already satisfied: pyasn1-modules>=0.2.1 in /usr/local/lib/python3.11/dist-packages (from google-auth<3,>=1.6.3->tensorboard<2.16,>=2.15->tensorflow==2.15.0) (0.4.1)\n",
            "Requirement already satisfied: rsa<5,>=3.1.4 in /usr/local/lib/python3.11/dist-packages (from google-auth<3,>=1.6.3->tensorboard<2.16,>=2.15->tensorflow==2.15.0) (4.9)\n",
            "Requirement already satisfied: requests-oauthlib>=0.7.0 in /usr/local/lib/python3.11/dist-packages (from google-auth-oauthlib<2,>=0.5->tensorboard<2.16,>=2.15->tensorflow==2.15.0) (2.0.0)\n",
            "Requirement already satisfied: charset-normalizer<4,>=2 in /usr/local/lib/python3.11/dist-packages (from requests<3,>=2.21.0->tensorboard<2.16,>=2.15->tensorflow==2.15.0) (3.4.1)\n",
            "Requirement already satisfied: idna<4,>=2.5 in /usr/local/lib/python3.11/dist-packages (from requests<3,>=2.21.0->tensorboard<2.16,>=2.15->tensorflow==2.15.0) (3.10)\n",
            "Requirement already satisfied: urllib3<3,>=1.21.1 in /usr/local/lib/python3.11/dist-packages (from requests<3,>=2.21.0->tensorboard<2.16,>=2.15->tensorflow==2.15.0) (2.3.0)\n",
            "Requirement already satisfied: certifi>=2017.4.17 in /usr/local/lib/python3.11/dist-packages (from requests<3,>=2.21.0->tensorboard<2.16,>=2.15->tensorflow==2.15.0) (2025.1.31)\n",
            "Requirement already satisfied: MarkupSafe>=2.1.1 in /usr/local/lib/python3.11/dist-packages (from werkzeug>=1.0.1->tensorboard<2.16,>=2.15->tensorflow==2.15.0) (3.0.2)\n",
            "Requirement already satisfied: pyasn1<0.7.0,>=0.4.6 in /usr/local/lib/python3.11/dist-packages (from pyasn1-modules>=0.2.1->google-auth<3,>=1.6.3->tensorboard<2.16,>=2.15->tensorflow==2.15.0) (0.6.1)\n",
            "Requirement already satisfied: oauthlib>=3.0.0 in /usr/local/lib/python3.11/dist-packages (from requests-oauthlib>=0.7.0->google-auth-oauthlib<2,>=0.5->tensorboard<2.16,>=2.15->tensorflow==2.15.0) (3.2.2)\n",
            "Using cached tensorflow-2.15.0-cp311-cp311-manylinux_2_17_x86_64.manylinux2014_x86_64.whl (475.3 MB)\n",
            "Using cached tf_keras-2.15.0-py3-none-any.whl (1.7 MB)\n",
            "Using cached tensorflow_probability-0.22.0-py2.py3-none-any.whl (6.9 MB)\n",
            "Installing collected packages: tf-keras, tensorflow-probability, tensorflow\n",
            "\u001b[31mERROR: pip's dependency resolver does not currently take into account all the packages that are installed. This behaviour is the source of the following dependency conflicts.\n",
            "tensorflow-text 2.18.1 requires tensorflow<2.19,>=2.18.0, but you have tensorflow 2.15.0 which is incompatible.\n",
            "dopamine-rl 4.1.2 requires tf-keras>=2.18.0, but you have tf-keras 2.15.0 which is incompatible.\u001b[0m\u001b[31m\n",
            "\u001b[0mSuccessfully installed tensorflow-2.15.0 tensorflow-probability-0.22.0 tf-keras-2.15.0\n"
          ]
        }
      ],
      "source": [
        "!pip uninstall tensorflow tf-keras tensorflow-probability\n",
        "!pip install tensorflow==2.15.0 tf-keras==2.15.0 tensorflow-probability==0.22"
      ]
    },
    {
      "cell_type": "code",
      "execution_count": 16,
      "metadata": {
        "colab": {
          "base_uri": "https://localhost:8080/"
        },
        "id": "iKAKNHIgndy5",
        "outputId": "e6f99c28-d68a-467e-feaf-a263eb3e2a0b"
      },
      "outputs": [
        {
          "name": "stdout",
          "output_type": "stream",
          "text": [
            "Collecting onnx-simplifier\n",
            "  Downloading onnx_simplifier-0.4.36-cp311-cp311-manylinux_2_17_x86_64.manylinux2014_x86_64.whl.metadata (4.3 kB)\n",
            "Requirement already satisfied: onnx in /usr/local/lib/python3.11/dist-packages (from onnx-simplifier) (1.17.0)\n",
            "Requirement already satisfied: rich in /usr/local/lib/python3.11/dist-packages (from onnx-simplifier) (13.9.4)\n",
            "Requirement already satisfied: numpy>=1.20 in /usr/local/lib/python3.11/dist-packages (from onnx->onnx-simplifier) (1.26.4)\n",
            "Requirement already satisfied: protobuf>=3.20.2 in /usr/local/lib/python3.11/dist-packages (from onnx->onnx-simplifier) (4.25.6)\n",
            "Requirement already satisfied: markdown-it-py>=2.2.0 in /usr/local/lib/python3.11/dist-packages (from rich->onnx-simplifier) (3.0.0)\n",
            "Requirement already satisfied: pygments<3.0.0,>=2.13.0 in /usr/local/lib/python3.11/dist-packages (from rich->onnx-simplifier) (2.18.0)\n",
            "Requirement already satisfied: mdurl~=0.1 in /usr/local/lib/python3.11/dist-packages (from markdown-it-py>=2.2.0->rich->onnx-simplifier) (0.1.2)\n",
            "Downloading onnx_simplifier-0.4.36-cp311-cp311-manylinux_2_17_x86_64.manylinux2014_x86_64.whl (2.3 MB)\n",
            "\u001b[?25l   \u001b[90m━━━━━━━━━━━━━━━━━━━━━━━━━━━━━━━━━━━━━━━━\u001b[0m \u001b[32m0.0/2.3 MB\u001b[0m \u001b[31m?\u001b[0m eta \u001b[36m-:--:--\u001b[0m\r\u001b[2K   \u001b[91m━━━━━━━\u001b[0m\u001b[90m╺\u001b[0m\u001b[90m━━━━━━━━━━━━━━━━━━━━━━━━━━━━━━━━\u001b[0m \u001b[32m0.4/2.3 MB\u001b[0m \u001b[31m12.4 MB/s\u001b[0m eta \u001b[36m0:00:01\u001b[0m\r\u001b[2K   \u001b[90m━━━━━━━━━━━━━━━━━━━━━━━━━━━━━━━━━━━━━━━━\u001b[0m \u001b[32m2.3/2.3 MB\u001b[0m \u001b[31m34.0 MB/s\u001b[0m eta \u001b[36m0:00:00\u001b[0m\n",
            "\u001b[?25hInstalling collected packages: onnx-simplifier\n",
            "Successfully installed onnx-simplifier-0.4.36\n"
          ]
        }
      ],
      "source": [
        "!pip install onnx-simplifier"
      ]
    },
    {
      "cell_type": "code",
      "execution_count": 10,
      "metadata": {
        "colab": {
          "base_uri": "https://localhost:8080/"
        },
        "id": "FmB19ACloJja",
        "outputId": "8d1b3547-49fa-4f22-96f6-8c4812559472"
      },
      "outputs": [
        {
          "name": "stdout",
          "output_type": "stream",
          "text": [
            "10000\n"
          ]
        }
      ],
      "source": [
        "#RUN it in case which you confront with this error: RecursionError: maximum recursion depth exceeded\n",
        "import sys\n",
        "sys.setrecursionlimit(10000)\n",
        "print(sys.getrecursionlimit())"
      ]
    },
    {
      "cell_type": "markdown",
      "metadata": {
        "id": "R_u5jRLCvZgC"
      },
      "source": [
        "Simplifying the onnx file and version"
      ]
    },
    {
      "cell_type": "code",
      "execution_count": 17,
      "metadata": {
        "colab": {
          "base_uri": "https://localhost:8080/",
          "height": 34
        },
        "id": "pWbBshRqqOrk",
        "outputId": "eb81bf8b-f0fd-4808-d458-62352d735f74"
      },
      "outputs": [
        {
          "data": {
            "text/html": [
              "<pre style=\"white-space:pre;overflow-x:auto;line-height:normal;font-family:Menlo,'DejaVu Sans Mono',consolas,'Courier New',monospace\"><span style=\"color: #800080; text-decoration-color: #800080; font-weight: bold\">Installing onnxruntime by `/usr/bin/python3 -m pip install onnxruntime`, please wait for a moment..</span>\n",
              "</pre>\n"
            ],
            "text/plain": [
              "\u001b[1;35mInstalling onnxruntime by `/usr/bin/python3 -m pip install onnxruntime`, please wait for a moment..\u001b[0m\n"
            ]
          },
          "metadata": {},
          "output_type": "display_data"
        }
      ],
      "source": [
        "import onnx\n",
        "from onnxsim import simplify\n",
        "\n",
        "model_int8 = '/content/gdrive/MyDrive/int8_dynamic_quantized.onnx'\n",
        "\n",
        "model = onnx.load(model_int8)\n",
        "\n",
        "model_simp, check = simplify(model)\n",
        "assert check, \"Simplified ONNX model could not be validated\"\n",
        "\n",
        "model_simp.opset_import[0].version = 13\n",
        "\n",
        "onnx.save(model_simp, '/content/gdrive/MyDrive/model_int8_opset13.onnx')"
      ]
    },
    {
      "cell_type": "code",
      "execution_count": 21,
      "metadata": {
        "colab": {
          "base_uri": "https://localhost:8080/"
        },
        "id": "LEv_Ns89rtjm",
        "outputId": "7adeac2c-7282-4eb7-afce-4f0b3da3de2c"
      },
      "outputs": [
        {
          "name": "stdout",
          "output_type": "stream",
          "text": [
            "Removed 'allowzero' attribute from Reshape nodes and saved the updated model.\n"
          ]
        }
      ],
      "source": [
        "import onnx\n",
        "\n",
        "model_path = '/content/gdrive/MyDrive/model_int8_opset13.onnx'\n",
        "\n",
        "def remove_allowzero_attr(model):\n",
        "    for node in model.graph.node:\n",
        "        if node.op_type == \"Reshape\":\n",
        "            new_attrs = [attr for attr in node.attribute if attr.name != \"allowzero\"]\n",
        "            del node.attribute[:]\n",
        "            node.attribute.extend(new_attrs)\n",
        "    return model\n",
        "\n",
        "onnx_model = onnx.load(model_path)\n",
        "\n",
        "onnx_model = remove_allowzero_attr(onnx_model)\n",
        "\n",
        "updated_model_path = '/content/gdrive/MyDrive/model_int8_opset13_no_allowzero.onnx'\n",
        "onnx.save(onnx_model, updated_model_path)\n",
        "\n",
        "print(\"Removed 'allowzero' attribute from Reshape nodes and saved the updated model.\")"
      ]
    },
    {
      "cell_type": "code",
      "execution_count": 22,
      "metadata": {
        "colab": {
          "base_uri": "https://localhost:8080/"
        },
        "id": "e2wrSWY-mzAf",
        "outputId": "4d544032-4671-4a9e-99ff-528507ba0b09"
      },
      "outputs": [
        {
          "name": "stderr",
          "output_type": "stream",
          "text": [
            "WARNING:tensorflow:From /usr/local/lib/python3.11/dist-packages/tensorflow/python/util/dispatch.py:1260: resize_nearest_neighbor (from tensorflow.python.ops.image_ops_impl) is deprecated and will be removed in a future version.\n",
            "Instructions for updating:\n",
            "Use `tf.image.resize(...method=ResizeMethod.NEAREST_NEIGHBOR...)` instead.\n",
            "INFO:absl:Function `__call__` contains input name(s) x, y with unsupported characters which will be renamed to onnx_tf_prefix__model_22_sub_x, onnx_tf_prefix__model_22_mul_2_y in the SavedModel.\n",
            "INFO:absl:Found untraced functions such as gen_tensor_dict while saving (showing 1 of 1). These functions will not be directly callable after loading.\n",
            "INFO:absl:Writing fingerprint to /content/gdrive/MyDrive/model/tf_rep/fingerprint.pb\n"
          ]
        },
        {
          "name": "stdout",
          "output_type": "stream",
          "text": [
            "Model successfully converted and exported to TensorFlow format.\n"
          ]
        }
      ],
      "source": [
        "import onnx\n",
        "from onnx_tf.backend import prepare\n",
        "\n",
        "onnx_model = onnx.load(updated_model_path)\n",
        "\n",
        "tf_rep = prepare(onnx_model)\n",
        "tf_model_path = '/content/gdrive/MyDrive/model/tf_rep/'\n",
        "tf_rep.export_graph(tf_model_path)\n",
        "\n",
        "print(\"Model successfully converted and exported to TensorFlow format.\")"
      ]
    },
    {
      "cell_type": "code",
      "execution_count": 27,
      "metadata": {
        "id": "33vbmswsnUnT"
      },
      "outputs": [],
      "source": [
        "import tensorflow as tf\n",
        "\n",
        "tf_model_path = '/content/gdrive/MyDrive/model/tf_rep/'\n",
        "model = tf.saved_model.load(tf_model_path)\n",
        "model.trainable = False\n",
        "\n",
        "batch_size = 1\n",
        "channels = 3\n",
        "height = 640\n",
        "width = 640\n",
        "\n",
        "input_tensor = tf.random.uniform([batch_size, channels, height, width])\n",
        "out = model(images=input_tensor)"
      ]
    },
    {
      "cell_type": "markdown",
      "metadata": {
        "id": "3wsqGbC9vwbI"
      },
      "source": [
        "## Conversion of model's type(TF to Tensorflow Lite)"
      ]
    },
    {
      "cell_type": "code",
      "execution_count": 32,
      "metadata": {
        "colab": {
          "base_uri": "https://localhost:8080/"
        },
        "id": "JZiWLtCdtA9f",
        "outputId": "5eea5bdd-445a-4fd1-8b16-5c44c0e0afbb"
      },
      "outputs": [
        {
          "name": "stdout",
          "output_type": "stream",
          "text": [
            "TFLite model saved successfully!\n"
          ]
        }
      ],
      "source": [
        "import os\n",
        "\n",
        "converter = tf.lite.TFLiteConverter.from_saved_model(tf_model_path)\n",
        "converter.target_spec.supported_ops = [\n",
        "    tf.lite.OpsSet.TFLITE_BUILTINS,\n",
        "    tf.lite.OpsSet.SELECT_TF_OPS\n",
        "]\n",
        "tflite_model = converter.convert()\n",
        "\n",
        "tflite_model_path = '/content/gdrive/MyDrive/model/tflite/best_yolov8_int8_dynamic_quantized.tflite'\n",
        "os.makedirs(os.path.dirname(tflite_model_path), exist_ok=True)\n",
        "\n",
        "# Save the model\n",
        "with open(tflite_model_path, 'wb') as f:\n",
        "    f.write(tflite_model)\n",
        "print(\"TFLite model saved successfully!\")"
      ]
    }
  ],
  "metadata": {
    "accelerator": "GPU",
    "colab": {
      "gpuType": "T4",
      "provenance": []
    },
    "kernelspec": {
      "display_name": "Python 3",
      "name": "python3"
    },
    "language_info": {
      "name": "python"
    }
  },
  "nbformat": 4,
  "nbformat_minor": 0
}
